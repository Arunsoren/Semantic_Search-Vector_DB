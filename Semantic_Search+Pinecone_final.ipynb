{
  "nbformat": 4,
  "nbformat_minor": 0,
  "metadata": {
    "colab": {
      "provenance": [],
      "gpuType": "T4"
    },
    "kernelspec": {
      "name": "python3",
      "display_name": "Python 3"
    },
    "language_info": {
      "name": "python"
    },
    "widgets": {
      "application/vnd.jupyter.widget-state+json": {
        "8e18d8b137d5459aa605857597aed1e4": {
          "model_module": "@jupyter-widgets/controls",
          "model_name": "HBoxModel",
          "model_module_version": "1.5.0",
          "state": {
            "_dom_classes": [],
            "_model_module": "@jupyter-widgets/controls",
            "_model_module_version": "1.5.0",
            "_model_name": "HBoxModel",
            "_view_count": null,
            "_view_module": "@jupyter-widgets/controls",
            "_view_module_version": "1.5.0",
            "_view_name": "HBoxView",
            "box_style": "",
            "children": [
              "IPY_MODEL_d625a7045cec4d9bb8b646c59888390c",
              "IPY_MODEL_fba1b5e85ab24a08a7c5a90087ed3100",
              "IPY_MODEL_badfc2c92ab64220a68cfbfbb9bc90a4"
            ],
            "layout": "IPY_MODEL_516755a76850408ca37087f60db11de1"
          }
        },
        "d625a7045cec4d9bb8b646c59888390c": {
          "model_module": "@jupyter-widgets/controls",
          "model_name": "HTMLModel",
          "model_module_version": "1.5.0",
          "state": {
            "_dom_classes": [],
            "_model_module": "@jupyter-widgets/controls",
            "_model_module_version": "1.5.0",
            "_model_name": "HTMLModel",
            "_view_count": null,
            "_view_module": "@jupyter-widgets/controls",
            "_view_module_version": "1.5.0",
            "_view_name": "HTMLView",
            "description": "",
            "description_tooltip": null,
            "layout": "IPY_MODEL_9b4b465936954e06b913c7fe3060a422",
            "placeholder": "​",
            "style": "IPY_MODEL_318f834d68e543f985826a1d473111f9",
            "value": "Downloading builder script: 100%"
          }
        },
        "fba1b5e85ab24a08a7c5a90087ed3100": {
          "model_module": "@jupyter-widgets/controls",
          "model_name": "FloatProgressModel",
          "model_module_version": "1.5.0",
          "state": {
            "_dom_classes": [],
            "_model_module": "@jupyter-widgets/controls",
            "_model_module_version": "1.5.0",
            "_model_name": "FloatProgressModel",
            "_view_count": null,
            "_view_module": "@jupyter-widgets/controls",
            "_view_module_version": "1.5.0",
            "_view_name": "ProgressView",
            "bar_style": "success",
            "description": "",
            "description_tooltip": null,
            "layout": "IPY_MODEL_e621b869bce148358de53ec50113e558",
            "max": 2385,
            "min": 0,
            "orientation": "horizontal",
            "style": "IPY_MODEL_567b534f32434b259e7afed4dc77d807",
            "value": 2385
          }
        },
        "badfc2c92ab64220a68cfbfbb9bc90a4": {
          "model_module": "@jupyter-widgets/controls",
          "model_name": "HTMLModel",
          "model_module_version": "1.5.0",
          "state": {
            "_dom_classes": [],
            "_model_module": "@jupyter-widgets/controls",
            "_model_module_version": "1.5.0",
            "_model_name": "HTMLModel",
            "_view_count": null,
            "_view_module": "@jupyter-widgets/controls",
            "_view_module_version": "1.5.0",
            "_view_name": "HTMLView",
            "description": "",
            "description_tooltip": null,
            "layout": "IPY_MODEL_bc032d4891ca47a2accd03d9f00f8ccb",
            "placeholder": "​",
            "style": "IPY_MODEL_2cd088d7251a4815934208628476eca6",
            "value": " 2.38k/2.38k [00:00&lt;00:00, 134kB/s]"
          }
        },
        "516755a76850408ca37087f60db11de1": {
          "model_module": "@jupyter-widgets/base",
          "model_name": "LayoutModel",
          "model_module_version": "1.2.0",
          "state": {
            "_model_module": "@jupyter-widgets/base",
            "_model_module_version": "1.2.0",
            "_model_name": "LayoutModel",
            "_view_count": null,
            "_view_module": "@jupyter-widgets/base",
            "_view_module_version": "1.2.0",
            "_view_name": "LayoutView",
            "align_content": null,
            "align_items": null,
            "align_self": null,
            "border": null,
            "bottom": null,
            "display": null,
            "flex": null,
            "flex_flow": null,
            "grid_area": null,
            "grid_auto_columns": null,
            "grid_auto_flow": null,
            "grid_auto_rows": null,
            "grid_column": null,
            "grid_gap": null,
            "grid_row": null,
            "grid_template_areas": null,
            "grid_template_columns": null,
            "grid_template_rows": null,
            "height": null,
            "justify_content": null,
            "justify_items": null,
            "left": null,
            "margin": null,
            "max_height": null,
            "max_width": null,
            "min_height": null,
            "min_width": null,
            "object_fit": null,
            "object_position": null,
            "order": null,
            "overflow": null,
            "overflow_x": null,
            "overflow_y": null,
            "padding": null,
            "right": null,
            "top": null,
            "visibility": null,
            "width": null
          }
        },
        "9b4b465936954e06b913c7fe3060a422": {
          "model_module": "@jupyter-widgets/base",
          "model_name": "LayoutModel",
          "model_module_version": "1.2.0",
          "state": {
            "_model_module": "@jupyter-widgets/base",
            "_model_module_version": "1.2.0",
            "_model_name": "LayoutModel",
            "_view_count": null,
            "_view_module": "@jupyter-widgets/base",
            "_view_module_version": "1.2.0",
            "_view_name": "LayoutView",
            "align_content": null,
            "align_items": null,
            "align_self": null,
            "border": null,
            "bottom": null,
            "display": null,
            "flex": null,
            "flex_flow": null,
            "grid_area": null,
            "grid_auto_columns": null,
            "grid_auto_flow": null,
            "grid_auto_rows": null,
            "grid_column": null,
            "grid_gap": null,
            "grid_row": null,
            "grid_template_areas": null,
            "grid_template_columns": null,
            "grid_template_rows": null,
            "height": null,
            "justify_content": null,
            "justify_items": null,
            "left": null,
            "margin": null,
            "max_height": null,
            "max_width": null,
            "min_height": null,
            "min_width": null,
            "object_fit": null,
            "object_position": null,
            "order": null,
            "overflow": null,
            "overflow_x": null,
            "overflow_y": null,
            "padding": null,
            "right": null,
            "top": null,
            "visibility": null,
            "width": null
          }
        },
        "318f834d68e543f985826a1d473111f9": {
          "model_module": "@jupyter-widgets/controls",
          "model_name": "DescriptionStyleModel",
          "model_module_version": "1.5.0",
          "state": {
            "_model_module": "@jupyter-widgets/controls",
            "_model_module_version": "1.5.0",
            "_model_name": "DescriptionStyleModel",
            "_view_count": null,
            "_view_module": "@jupyter-widgets/base",
            "_view_module_version": "1.2.0",
            "_view_name": "StyleView",
            "description_width": ""
          }
        },
        "e621b869bce148358de53ec50113e558": {
          "model_module": "@jupyter-widgets/base",
          "model_name": "LayoutModel",
          "model_module_version": "1.2.0",
          "state": {
            "_model_module": "@jupyter-widgets/base",
            "_model_module_version": "1.2.0",
            "_model_name": "LayoutModel",
            "_view_count": null,
            "_view_module": "@jupyter-widgets/base",
            "_view_module_version": "1.2.0",
            "_view_name": "LayoutView",
            "align_content": null,
            "align_items": null,
            "align_self": null,
            "border": null,
            "bottom": null,
            "display": null,
            "flex": null,
            "flex_flow": null,
            "grid_area": null,
            "grid_auto_columns": null,
            "grid_auto_flow": null,
            "grid_auto_rows": null,
            "grid_column": null,
            "grid_gap": null,
            "grid_row": null,
            "grid_template_areas": null,
            "grid_template_columns": null,
            "grid_template_rows": null,
            "height": null,
            "justify_content": null,
            "justify_items": null,
            "left": null,
            "margin": null,
            "max_height": null,
            "max_width": null,
            "min_height": null,
            "min_width": null,
            "object_fit": null,
            "object_position": null,
            "order": null,
            "overflow": null,
            "overflow_x": null,
            "overflow_y": null,
            "padding": null,
            "right": null,
            "top": null,
            "visibility": null,
            "width": null
          }
        },
        "567b534f32434b259e7afed4dc77d807": {
          "model_module": "@jupyter-widgets/controls",
          "model_name": "ProgressStyleModel",
          "model_module_version": "1.5.0",
          "state": {
            "_model_module": "@jupyter-widgets/controls",
            "_model_module_version": "1.5.0",
            "_model_name": "ProgressStyleModel",
            "_view_count": null,
            "_view_module": "@jupyter-widgets/base",
            "_view_module_version": "1.2.0",
            "_view_name": "StyleView",
            "bar_color": null,
            "description_width": ""
          }
        },
        "bc032d4891ca47a2accd03d9f00f8ccb": {
          "model_module": "@jupyter-widgets/base",
          "model_name": "LayoutModel",
          "model_module_version": "1.2.0",
          "state": {
            "_model_module": "@jupyter-widgets/base",
            "_model_module_version": "1.2.0",
            "_model_name": "LayoutModel",
            "_view_count": null,
            "_view_module": "@jupyter-widgets/base",
            "_view_module_version": "1.2.0",
            "_view_name": "LayoutView",
            "align_content": null,
            "align_items": null,
            "align_self": null,
            "border": null,
            "bottom": null,
            "display": null,
            "flex": null,
            "flex_flow": null,
            "grid_area": null,
            "grid_auto_columns": null,
            "grid_auto_flow": null,
            "grid_auto_rows": null,
            "grid_column": null,
            "grid_gap": null,
            "grid_row": null,
            "grid_template_areas": null,
            "grid_template_columns": null,
            "grid_template_rows": null,
            "height": null,
            "justify_content": null,
            "justify_items": null,
            "left": null,
            "margin": null,
            "max_height": null,
            "max_width": null,
            "min_height": null,
            "min_width": null,
            "object_fit": null,
            "object_position": null,
            "order": null,
            "overflow": null,
            "overflow_x": null,
            "overflow_y": null,
            "padding": null,
            "right": null,
            "top": null,
            "visibility": null,
            "width": null
          }
        },
        "2cd088d7251a4815934208628476eca6": {
          "model_module": "@jupyter-widgets/controls",
          "model_name": "DescriptionStyleModel",
          "model_module_version": "1.5.0",
          "state": {
            "_model_module": "@jupyter-widgets/controls",
            "_model_module_version": "1.5.0",
            "_model_name": "DescriptionStyleModel",
            "_view_count": null,
            "_view_module": "@jupyter-widgets/base",
            "_view_module_version": "1.2.0",
            "_view_name": "StyleView",
            "description_width": ""
          }
        },
        "2a6e88c831af4e2baa4f6bb3a6cf2a01": {
          "model_module": "@jupyter-widgets/controls",
          "model_name": "HBoxModel",
          "model_module_version": "1.5.0",
          "state": {
            "_dom_classes": [],
            "_model_module": "@jupyter-widgets/controls",
            "_model_module_version": "1.5.0",
            "_model_name": "HBoxModel",
            "_view_count": null,
            "_view_module": "@jupyter-widgets/controls",
            "_view_module_version": "1.5.0",
            "_view_name": "HBoxView",
            "box_style": "",
            "children": [
              "IPY_MODEL_5746ee2ef5a14b5e95b4bb93dae291f0",
              "IPY_MODEL_869e2c74986944e0af22719a4ebaf0d8",
              "IPY_MODEL_308ce3ec0a4e407f9f9e1822fa10c1f0"
            ],
            "layout": "IPY_MODEL_7534f8696793410e9445c85c0a96f0ae"
          }
        },
        "5746ee2ef5a14b5e95b4bb93dae291f0": {
          "model_module": "@jupyter-widgets/controls",
          "model_name": "HTMLModel",
          "model_module_version": "1.5.0",
          "state": {
            "_dom_classes": [],
            "_model_module": "@jupyter-widgets/controls",
            "_model_module_version": "1.5.0",
            "_model_name": "HTMLModel",
            "_view_count": null,
            "_view_module": "@jupyter-widgets/controls",
            "_view_module_version": "1.5.0",
            "_view_name": "HTMLView",
            "description": "",
            "description_tooltip": null,
            "layout": "IPY_MODEL_bda77ab46f12422daee8ace7b27c4310",
            "placeholder": "​",
            "style": "IPY_MODEL_4911d5033efb44e4a1f2d1d2ee8615ee",
            "value": "Downloading metadata: 100%"
          }
        },
        "869e2c74986944e0af22719a4ebaf0d8": {
          "model_module": "@jupyter-widgets/controls",
          "model_name": "FloatProgressModel",
          "model_module_version": "1.5.0",
          "state": {
            "_dom_classes": [],
            "_model_module": "@jupyter-widgets/controls",
            "_model_module_version": "1.5.0",
            "_model_name": "FloatProgressModel",
            "_view_count": null,
            "_view_module": "@jupyter-widgets/controls",
            "_view_module_version": "1.5.0",
            "_view_name": "ProgressView",
            "bar_style": "success",
            "description": "",
            "description_tooltip": null,
            "layout": "IPY_MODEL_b1a38acdab5b4458b4d22c591b73e9c7",
            "max": 1131,
            "min": 0,
            "orientation": "horizontal",
            "style": "IPY_MODEL_6bec85fcde1d47d883cf1e5d95df2bcd",
            "value": 1131
          }
        },
        "308ce3ec0a4e407f9f9e1822fa10c1f0": {
          "model_module": "@jupyter-widgets/controls",
          "model_name": "HTMLModel",
          "model_module_version": "1.5.0",
          "state": {
            "_dom_classes": [],
            "_model_module": "@jupyter-widgets/controls",
            "_model_module_version": "1.5.0",
            "_model_name": "HTMLModel",
            "_view_count": null,
            "_view_module": "@jupyter-widgets/controls",
            "_view_module_version": "1.5.0",
            "_view_name": "HTMLView",
            "description": "",
            "description_tooltip": null,
            "layout": "IPY_MODEL_180df2a007af47bb925b06368ce13915",
            "placeholder": "​",
            "style": "IPY_MODEL_27e443bc627a4dc7a69bcca39031a2fb",
            "value": " 1.13k/1.13k [00:00&lt;00:00, 84.8kB/s]"
          }
        },
        "7534f8696793410e9445c85c0a96f0ae": {
          "model_module": "@jupyter-widgets/base",
          "model_name": "LayoutModel",
          "model_module_version": "1.2.0",
          "state": {
            "_model_module": "@jupyter-widgets/base",
            "_model_module_version": "1.2.0",
            "_model_name": "LayoutModel",
            "_view_count": null,
            "_view_module": "@jupyter-widgets/base",
            "_view_module_version": "1.2.0",
            "_view_name": "LayoutView",
            "align_content": null,
            "align_items": null,
            "align_self": null,
            "border": null,
            "bottom": null,
            "display": null,
            "flex": null,
            "flex_flow": null,
            "grid_area": null,
            "grid_auto_columns": null,
            "grid_auto_flow": null,
            "grid_auto_rows": null,
            "grid_column": null,
            "grid_gap": null,
            "grid_row": null,
            "grid_template_areas": null,
            "grid_template_columns": null,
            "grid_template_rows": null,
            "height": null,
            "justify_content": null,
            "justify_items": null,
            "left": null,
            "margin": null,
            "max_height": null,
            "max_width": null,
            "min_height": null,
            "min_width": null,
            "object_fit": null,
            "object_position": null,
            "order": null,
            "overflow": null,
            "overflow_x": null,
            "overflow_y": null,
            "padding": null,
            "right": null,
            "top": null,
            "visibility": null,
            "width": null
          }
        },
        "bda77ab46f12422daee8ace7b27c4310": {
          "model_module": "@jupyter-widgets/base",
          "model_name": "LayoutModel",
          "model_module_version": "1.2.0",
          "state": {
            "_model_module": "@jupyter-widgets/base",
            "_model_module_version": "1.2.0",
            "_model_name": "LayoutModel",
            "_view_count": null,
            "_view_module": "@jupyter-widgets/base",
            "_view_module_version": "1.2.0",
            "_view_name": "LayoutView",
            "align_content": null,
            "align_items": null,
            "align_self": null,
            "border": null,
            "bottom": null,
            "display": null,
            "flex": null,
            "flex_flow": null,
            "grid_area": null,
            "grid_auto_columns": null,
            "grid_auto_flow": null,
            "grid_auto_rows": null,
            "grid_column": null,
            "grid_gap": null,
            "grid_row": null,
            "grid_template_areas": null,
            "grid_template_columns": null,
            "grid_template_rows": null,
            "height": null,
            "justify_content": null,
            "justify_items": null,
            "left": null,
            "margin": null,
            "max_height": null,
            "max_width": null,
            "min_height": null,
            "min_width": null,
            "object_fit": null,
            "object_position": null,
            "order": null,
            "overflow": null,
            "overflow_x": null,
            "overflow_y": null,
            "padding": null,
            "right": null,
            "top": null,
            "visibility": null,
            "width": null
          }
        },
        "4911d5033efb44e4a1f2d1d2ee8615ee": {
          "model_module": "@jupyter-widgets/controls",
          "model_name": "DescriptionStyleModel",
          "model_module_version": "1.5.0",
          "state": {
            "_model_module": "@jupyter-widgets/controls",
            "_model_module_version": "1.5.0",
            "_model_name": "DescriptionStyleModel",
            "_view_count": null,
            "_view_module": "@jupyter-widgets/base",
            "_view_module_version": "1.2.0",
            "_view_name": "StyleView",
            "description_width": ""
          }
        },
        "b1a38acdab5b4458b4d22c591b73e9c7": {
          "model_module": "@jupyter-widgets/base",
          "model_name": "LayoutModel",
          "model_module_version": "1.2.0",
          "state": {
            "_model_module": "@jupyter-widgets/base",
            "_model_module_version": "1.2.0",
            "_model_name": "LayoutModel",
            "_view_count": null,
            "_view_module": "@jupyter-widgets/base",
            "_view_module_version": "1.2.0",
            "_view_name": "LayoutView",
            "align_content": null,
            "align_items": null,
            "align_self": null,
            "border": null,
            "bottom": null,
            "display": null,
            "flex": null,
            "flex_flow": null,
            "grid_area": null,
            "grid_auto_columns": null,
            "grid_auto_flow": null,
            "grid_auto_rows": null,
            "grid_column": null,
            "grid_gap": null,
            "grid_row": null,
            "grid_template_areas": null,
            "grid_template_columns": null,
            "grid_template_rows": null,
            "height": null,
            "justify_content": null,
            "justify_items": null,
            "left": null,
            "margin": null,
            "max_height": null,
            "max_width": null,
            "min_height": null,
            "min_width": null,
            "object_fit": null,
            "object_position": null,
            "order": null,
            "overflow": null,
            "overflow_x": null,
            "overflow_y": null,
            "padding": null,
            "right": null,
            "top": null,
            "visibility": null,
            "width": null
          }
        },
        "6bec85fcde1d47d883cf1e5d95df2bcd": {
          "model_module": "@jupyter-widgets/controls",
          "model_name": "ProgressStyleModel",
          "model_module_version": "1.5.0",
          "state": {
            "_model_module": "@jupyter-widgets/controls",
            "_model_module_version": "1.5.0",
            "_model_name": "ProgressStyleModel",
            "_view_count": null,
            "_view_module": "@jupyter-widgets/base",
            "_view_module_version": "1.2.0",
            "_view_name": "StyleView",
            "bar_color": null,
            "description_width": ""
          }
        },
        "180df2a007af47bb925b06368ce13915": {
          "model_module": "@jupyter-widgets/base",
          "model_name": "LayoutModel",
          "model_module_version": "1.2.0",
          "state": {
            "_model_module": "@jupyter-widgets/base",
            "_model_module_version": "1.2.0",
            "_model_name": "LayoutModel",
            "_view_count": null,
            "_view_module": "@jupyter-widgets/base",
            "_view_module_version": "1.2.0",
            "_view_name": "LayoutView",
            "align_content": null,
            "align_items": null,
            "align_self": null,
            "border": null,
            "bottom": null,
            "display": null,
            "flex": null,
            "flex_flow": null,
            "grid_area": null,
            "grid_auto_columns": null,
            "grid_auto_flow": null,
            "grid_auto_rows": null,
            "grid_column": null,
            "grid_gap": null,
            "grid_row": null,
            "grid_template_areas": null,
            "grid_template_columns": null,
            "grid_template_rows": null,
            "height": null,
            "justify_content": null,
            "justify_items": null,
            "left": null,
            "margin": null,
            "max_height": null,
            "max_width": null,
            "min_height": null,
            "min_width": null,
            "object_fit": null,
            "object_position": null,
            "order": null,
            "overflow": null,
            "overflow_x": null,
            "overflow_y": null,
            "padding": null,
            "right": null,
            "top": null,
            "visibility": null,
            "width": null
          }
        },
        "27e443bc627a4dc7a69bcca39031a2fb": {
          "model_module": "@jupyter-widgets/controls",
          "model_name": "DescriptionStyleModel",
          "model_module_version": "1.5.0",
          "state": {
            "_model_module": "@jupyter-widgets/controls",
            "_model_module_version": "1.5.0",
            "_model_name": "DescriptionStyleModel",
            "_view_count": null,
            "_view_module": "@jupyter-widgets/base",
            "_view_module_version": "1.2.0",
            "_view_name": "StyleView",
            "description_width": ""
          }
        },
        "0616e14a67c14009bcccc43043e8082f": {
          "model_module": "@jupyter-widgets/controls",
          "model_name": "HBoxModel",
          "model_module_version": "1.5.0",
          "state": {
            "_dom_classes": [],
            "_model_module": "@jupyter-widgets/controls",
            "_model_module_version": "1.5.0",
            "_model_name": "HBoxModel",
            "_view_count": null,
            "_view_module": "@jupyter-widgets/controls",
            "_view_module_version": "1.5.0",
            "_view_name": "HBoxView",
            "box_style": "",
            "children": [
              "IPY_MODEL_027f0777b5b04a4aa9be18e35c282aaf",
              "IPY_MODEL_cb458772c4c94a438f78e2c3ea62190a",
              "IPY_MODEL_55e782fa012c4e979212bf4ce986442b"
            ],
            "layout": "IPY_MODEL_0db2f5aba8db46359d2d26774ea1df8f"
          }
        },
        "027f0777b5b04a4aa9be18e35c282aaf": {
          "model_module": "@jupyter-widgets/controls",
          "model_name": "HTMLModel",
          "model_module_version": "1.5.0",
          "state": {
            "_dom_classes": [],
            "_model_module": "@jupyter-widgets/controls",
            "_model_module_version": "1.5.0",
            "_model_name": "HTMLModel",
            "_view_count": null,
            "_view_module": "@jupyter-widgets/controls",
            "_view_module_version": "1.5.0",
            "_view_name": "HTMLView",
            "description": "",
            "description_tooltip": null,
            "layout": "IPY_MODEL_2e4c86e473834a44aba0ff73c8262ce2",
            "placeholder": "​",
            "style": "IPY_MODEL_8cc6b9ba6fb7410fbbd8d6a0b43b6838",
            "value": "Downloading readme: 100%"
          }
        },
        "cb458772c4c94a438f78e2c3ea62190a": {
          "model_module": "@jupyter-widgets/controls",
          "model_name": "FloatProgressModel",
          "model_module_version": "1.5.0",
          "state": {
            "_dom_classes": [],
            "_model_module": "@jupyter-widgets/controls",
            "_model_module_version": "1.5.0",
            "_model_name": "FloatProgressModel",
            "_view_count": null,
            "_view_module": "@jupyter-widgets/controls",
            "_view_module_version": "1.5.0",
            "_view_name": "ProgressView",
            "bar_style": "success",
            "description": "",
            "description_tooltip": null,
            "layout": "IPY_MODEL_b29f91f804f04a3dbf321626f2e9d76c",
            "max": 5691,
            "min": 0,
            "orientation": "horizontal",
            "style": "IPY_MODEL_e9e97c7ce3e94956a4f65e19fd891bcd",
            "value": 5691
          }
        },
        "55e782fa012c4e979212bf4ce986442b": {
          "model_module": "@jupyter-widgets/controls",
          "model_name": "HTMLModel",
          "model_module_version": "1.5.0",
          "state": {
            "_dom_classes": [],
            "_model_module": "@jupyter-widgets/controls",
            "_model_module_version": "1.5.0",
            "_model_name": "HTMLModel",
            "_view_count": null,
            "_view_module": "@jupyter-widgets/controls",
            "_view_module_version": "1.5.0",
            "_view_name": "HTMLView",
            "description": "",
            "description_tooltip": null,
            "layout": "IPY_MODEL_58ed400de40c465bba00df400ee0b771",
            "placeholder": "​",
            "style": "IPY_MODEL_99a1772d3bd546b0818d1ebecd34b04e",
            "value": " 5.69k/5.69k [00:00&lt;00:00, 403kB/s]"
          }
        },
        "0db2f5aba8db46359d2d26774ea1df8f": {
          "model_module": "@jupyter-widgets/base",
          "model_name": "LayoutModel",
          "model_module_version": "1.2.0",
          "state": {
            "_model_module": "@jupyter-widgets/base",
            "_model_module_version": "1.2.0",
            "_model_name": "LayoutModel",
            "_view_count": null,
            "_view_module": "@jupyter-widgets/base",
            "_view_module_version": "1.2.0",
            "_view_name": "LayoutView",
            "align_content": null,
            "align_items": null,
            "align_self": null,
            "border": null,
            "bottom": null,
            "display": null,
            "flex": null,
            "flex_flow": null,
            "grid_area": null,
            "grid_auto_columns": null,
            "grid_auto_flow": null,
            "grid_auto_rows": null,
            "grid_column": null,
            "grid_gap": null,
            "grid_row": null,
            "grid_template_areas": null,
            "grid_template_columns": null,
            "grid_template_rows": null,
            "height": null,
            "justify_content": null,
            "justify_items": null,
            "left": null,
            "margin": null,
            "max_height": null,
            "max_width": null,
            "min_height": null,
            "min_width": null,
            "object_fit": null,
            "object_position": null,
            "order": null,
            "overflow": null,
            "overflow_x": null,
            "overflow_y": null,
            "padding": null,
            "right": null,
            "top": null,
            "visibility": null,
            "width": null
          }
        },
        "2e4c86e473834a44aba0ff73c8262ce2": {
          "model_module": "@jupyter-widgets/base",
          "model_name": "LayoutModel",
          "model_module_version": "1.2.0",
          "state": {
            "_model_module": "@jupyter-widgets/base",
            "_model_module_version": "1.2.0",
            "_model_name": "LayoutModel",
            "_view_count": null,
            "_view_module": "@jupyter-widgets/base",
            "_view_module_version": "1.2.0",
            "_view_name": "LayoutView",
            "align_content": null,
            "align_items": null,
            "align_self": null,
            "border": null,
            "bottom": null,
            "display": null,
            "flex": null,
            "flex_flow": null,
            "grid_area": null,
            "grid_auto_columns": null,
            "grid_auto_flow": null,
            "grid_auto_rows": null,
            "grid_column": null,
            "grid_gap": null,
            "grid_row": null,
            "grid_template_areas": null,
            "grid_template_columns": null,
            "grid_template_rows": null,
            "height": null,
            "justify_content": null,
            "justify_items": null,
            "left": null,
            "margin": null,
            "max_height": null,
            "max_width": null,
            "min_height": null,
            "min_width": null,
            "object_fit": null,
            "object_position": null,
            "order": null,
            "overflow": null,
            "overflow_x": null,
            "overflow_y": null,
            "padding": null,
            "right": null,
            "top": null,
            "visibility": null,
            "width": null
          }
        },
        "8cc6b9ba6fb7410fbbd8d6a0b43b6838": {
          "model_module": "@jupyter-widgets/controls",
          "model_name": "DescriptionStyleModel",
          "model_module_version": "1.5.0",
          "state": {
            "_model_module": "@jupyter-widgets/controls",
            "_model_module_version": "1.5.0",
            "_model_name": "DescriptionStyleModel",
            "_view_count": null,
            "_view_module": "@jupyter-widgets/base",
            "_view_module_version": "1.2.0",
            "_view_name": "StyleView",
            "description_width": ""
          }
        },
        "b29f91f804f04a3dbf321626f2e9d76c": {
          "model_module": "@jupyter-widgets/base",
          "model_name": "LayoutModel",
          "model_module_version": "1.2.0",
          "state": {
            "_model_module": "@jupyter-widgets/base",
            "_model_module_version": "1.2.0",
            "_model_name": "LayoutModel",
            "_view_count": null,
            "_view_module": "@jupyter-widgets/base",
            "_view_module_version": "1.2.0",
            "_view_name": "LayoutView",
            "align_content": null,
            "align_items": null,
            "align_self": null,
            "border": null,
            "bottom": null,
            "display": null,
            "flex": null,
            "flex_flow": null,
            "grid_area": null,
            "grid_auto_columns": null,
            "grid_auto_flow": null,
            "grid_auto_rows": null,
            "grid_column": null,
            "grid_gap": null,
            "grid_row": null,
            "grid_template_areas": null,
            "grid_template_columns": null,
            "grid_template_rows": null,
            "height": null,
            "justify_content": null,
            "justify_items": null,
            "left": null,
            "margin": null,
            "max_height": null,
            "max_width": null,
            "min_height": null,
            "min_width": null,
            "object_fit": null,
            "object_position": null,
            "order": null,
            "overflow": null,
            "overflow_x": null,
            "overflow_y": null,
            "padding": null,
            "right": null,
            "top": null,
            "visibility": null,
            "width": null
          }
        },
        "e9e97c7ce3e94956a4f65e19fd891bcd": {
          "model_module": "@jupyter-widgets/controls",
          "model_name": "ProgressStyleModel",
          "model_module_version": "1.5.0",
          "state": {
            "_model_module": "@jupyter-widgets/controls",
            "_model_module_version": "1.5.0",
            "_model_name": "ProgressStyleModel",
            "_view_count": null,
            "_view_module": "@jupyter-widgets/base",
            "_view_module_version": "1.2.0",
            "_view_name": "StyleView",
            "bar_color": null,
            "description_width": ""
          }
        },
        "58ed400de40c465bba00df400ee0b771": {
          "model_module": "@jupyter-widgets/base",
          "model_name": "LayoutModel",
          "model_module_version": "1.2.0",
          "state": {
            "_model_module": "@jupyter-widgets/base",
            "_model_module_version": "1.2.0",
            "_model_name": "LayoutModel",
            "_view_count": null,
            "_view_module": "@jupyter-widgets/base",
            "_view_module_version": "1.2.0",
            "_view_name": "LayoutView",
            "align_content": null,
            "align_items": null,
            "align_self": null,
            "border": null,
            "bottom": null,
            "display": null,
            "flex": null,
            "flex_flow": null,
            "grid_area": null,
            "grid_auto_columns": null,
            "grid_auto_flow": null,
            "grid_auto_rows": null,
            "grid_column": null,
            "grid_gap": null,
            "grid_row": null,
            "grid_template_areas": null,
            "grid_template_columns": null,
            "grid_template_rows": null,
            "height": null,
            "justify_content": null,
            "justify_items": null,
            "left": null,
            "margin": null,
            "max_height": null,
            "max_width": null,
            "min_height": null,
            "min_width": null,
            "object_fit": null,
            "object_position": null,
            "order": null,
            "overflow": null,
            "overflow_x": null,
            "overflow_y": null,
            "padding": null,
            "right": null,
            "top": null,
            "visibility": null,
            "width": null
          }
        },
        "99a1772d3bd546b0818d1ebecd34b04e": {
          "model_module": "@jupyter-widgets/controls",
          "model_name": "DescriptionStyleModel",
          "model_module_version": "1.5.0",
          "state": {
            "_model_module": "@jupyter-widgets/controls",
            "_model_module_version": "1.5.0",
            "_model_name": "DescriptionStyleModel",
            "_view_count": null,
            "_view_module": "@jupyter-widgets/base",
            "_view_module_version": "1.2.0",
            "_view_name": "StyleView",
            "description_width": ""
          }
        },
        "122a1340e5ad44eaba3533d6bcd4f064": {
          "model_module": "@jupyter-widgets/controls",
          "model_name": "HBoxModel",
          "model_module_version": "1.5.0",
          "state": {
            "_dom_classes": [],
            "_model_module": "@jupyter-widgets/controls",
            "_model_module_version": "1.5.0",
            "_model_name": "HBoxModel",
            "_view_count": null,
            "_view_module": "@jupyter-widgets/controls",
            "_view_module_version": "1.5.0",
            "_view_name": "HBoxView",
            "box_style": "",
            "children": [
              "IPY_MODEL_1746bb80357e480f886d0668373779ee",
              "IPY_MODEL_3643c745fbd14a37b328756c32ae0302",
              "IPY_MODEL_acfb3e8059d941f2ba8b96ea363b76ea"
            ],
            "layout": "IPY_MODEL_2bd4738ccfac46ffb0c4c57e2ac2c3d7"
          }
        },
        "1746bb80357e480f886d0668373779ee": {
          "model_module": "@jupyter-widgets/controls",
          "model_name": "HTMLModel",
          "model_module_version": "1.5.0",
          "state": {
            "_dom_classes": [],
            "_model_module": "@jupyter-widgets/controls",
            "_model_module_version": "1.5.0",
            "_model_name": "HTMLModel",
            "_view_count": null,
            "_view_module": "@jupyter-widgets/controls",
            "_view_module_version": "1.5.0",
            "_view_name": "HTMLView",
            "description": "",
            "description_tooltip": null,
            "layout": "IPY_MODEL_e6364b78bb414660b17d30834ef9a6d4",
            "placeholder": "​",
            "style": "IPY_MODEL_d1440ed962094843a2b34092f0a32ab1",
            "value": "Downloading data files: 100%"
          }
        },
        "3643c745fbd14a37b328756c32ae0302": {
          "model_module": "@jupyter-widgets/controls",
          "model_name": "FloatProgressModel",
          "model_module_version": "1.5.0",
          "state": {
            "_dom_classes": [],
            "_model_module": "@jupyter-widgets/controls",
            "_model_module_version": "1.5.0",
            "_model_name": "FloatProgressModel",
            "_view_count": null,
            "_view_module": "@jupyter-widgets/controls",
            "_view_module_version": "1.5.0",
            "_view_name": "ProgressView",
            "bar_style": "success",
            "description": "",
            "description_tooltip": null,
            "layout": "IPY_MODEL_bbe70c3789d24b338526814f8d6b8ae7",
            "max": 1,
            "min": 0,
            "orientation": "horizontal",
            "style": "IPY_MODEL_9ce4a5bd31e847059259440714f8cacb",
            "value": 1
          }
        },
        "acfb3e8059d941f2ba8b96ea363b76ea": {
          "model_module": "@jupyter-widgets/controls",
          "model_name": "HTMLModel",
          "model_module_version": "1.5.0",
          "state": {
            "_dom_classes": [],
            "_model_module": "@jupyter-widgets/controls",
            "_model_module_version": "1.5.0",
            "_model_name": "HTMLModel",
            "_view_count": null,
            "_view_module": "@jupyter-widgets/controls",
            "_view_module_version": "1.5.0",
            "_view_name": "HTMLView",
            "description": "",
            "description_tooltip": null,
            "layout": "IPY_MODEL_405eabc0914d4487b7a5458c39a65656",
            "placeholder": "​",
            "style": "IPY_MODEL_0753898c8a0f4a2ca1121a3a1c2d41f3",
            "value": " 1/1 [00:01&lt;00:00,  1.22s/it]"
          }
        },
        "2bd4738ccfac46ffb0c4c57e2ac2c3d7": {
          "model_module": "@jupyter-widgets/base",
          "model_name": "LayoutModel",
          "model_module_version": "1.2.0",
          "state": {
            "_model_module": "@jupyter-widgets/base",
            "_model_module_version": "1.2.0",
            "_model_name": "LayoutModel",
            "_view_count": null,
            "_view_module": "@jupyter-widgets/base",
            "_view_module_version": "1.2.0",
            "_view_name": "LayoutView",
            "align_content": null,
            "align_items": null,
            "align_self": null,
            "border": null,
            "bottom": null,
            "display": null,
            "flex": null,
            "flex_flow": null,
            "grid_area": null,
            "grid_auto_columns": null,
            "grid_auto_flow": null,
            "grid_auto_rows": null,
            "grid_column": null,
            "grid_gap": null,
            "grid_row": null,
            "grid_template_areas": null,
            "grid_template_columns": null,
            "grid_template_rows": null,
            "height": null,
            "justify_content": null,
            "justify_items": null,
            "left": null,
            "margin": null,
            "max_height": null,
            "max_width": null,
            "min_height": null,
            "min_width": null,
            "object_fit": null,
            "object_position": null,
            "order": null,
            "overflow": null,
            "overflow_x": null,
            "overflow_y": null,
            "padding": null,
            "right": null,
            "top": null,
            "visibility": null,
            "width": null
          }
        },
        "e6364b78bb414660b17d30834ef9a6d4": {
          "model_module": "@jupyter-widgets/base",
          "model_name": "LayoutModel",
          "model_module_version": "1.2.0",
          "state": {
            "_model_module": "@jupyter-widgets/base",
            "_model_module_version": "1.2.0",
            "_model_name": "LayoutModel",
            "_view_count": null,
            "_view_module": "@jupyter-widgets/base",
            "_view_module_version": "1.2.0",
            "_view_name": "LayoutView",
            "align_content": null,
            "align_items": null,
            "align_self": null,
            "border": null,
            "bottom": null,
            "display": null,
            "flex": null,
            "flex_flow": null,
            "grid_area": null,
            "grid_auto_columns": null,
            "grid_auto_flow": null,
            "grid_auto_rows": null,
            "grid_column": null,
            "grid_gap": null,
            "grid_row": null,
            "grid_template_areas": null,
            "grid_template_columns": null,
            "grid_template_rows": null,
            "height": null,
            "justify_content": null,
            "justify_items": null,
            "left": null,
            "margin": null,
            "max_height": null,
            "max_width": null,
            "min_height": null,
            "min_width": null,
            "object_fit": null,
            "object_position": null,
            "order": null,
            "overflow": null,
            "overflow_x": null,
            "overflow_y": null,
            "padding": null,
            "right": null,
            "top": null,
            "visibility": null,
            "width": null
          }
        },
        "d1440ed962094843a2b34092f0a32ab1": {
          "model_module": "@jupyter-widgets/controls",
          "model_name": "DescriptionStyleModel",
          "model_module_version": "1.5.0",
          "state": {
            "_model_module": "@jupyter-widgets/controls",
            "_model_module_version": "1.5.0",
            "_model_name": "DescriptionStyleModel",
            "_view_count": null,
            "_view_module": "@jupyter-widgets/base",
            "_view_module_version": "1.2.0",
            "_view_name": "StyleView",
            "description_width": ""
          }
        },
        "bbe70c3789d24b338526814f8d6b8ae7": {
          "model_module": "@jupyter-widgets/base",
          "model_name": "LayoutModel",
          "model_module_version": "1.2.0",
          "state": {
            "_model_module": "@jupyter-widgets/base",
            "_model_module_version": "1.2.0",
            "_model_name": "LayoutModel",
            "_view_count": null,
            "_view_module": "@jupyter-widgets/base",
            "_view_module_version": "1.2.0",
            "_view_name": "LayoutView",
            "align_content": null,
            "align_items": null,
            "align_self": null,
            "border": null,
            "bottom": null,
            "display": null,
            "flex": null,
            "flex_flow": null,
            "grid_area": null,
            "grid_auto_columns": null,
            "grid_auto_flow": null,
            "grid_auto_rows": null,
            "grid_column": null,
            "grid_gap": null,
            "grid_row": null,
            "grid_template_areas": null,
            "grid_template_columns": null,
            "grid_template_rows": null,
            "height": null,
            "justify_content": null,
            "justify_items": null,
            "left": null,
            "margin": null,
            "max_height": null,
            "max_width": null,
            "min_height": null,
            "min_width": null,
            "object_fit": null,
            "object_position": null,
            "order": null,
            "overflow": null,
            "overflow_x": null,
            "overflow_y": null,
            "padding": null,
            "right": null,
            "top": null,
            "visibility": null,
            "width": null
          }
        },
        "9ce4a5bd31e847059259440714f8cacb": {
          "model_module": "@jupyter-widgets/controls",
          "model_name": "ProgressStyleModel",
          "model_module_version": "1.5.0",
          "state": {
            "_model_module": "@jupyter-widgets/controls",
            "_model_module_version": "1.5.0",
            "_model_name": "ProgressStyleModel",
            "_view_count": null,
            "_view_module": "@jupyter-widgets/base",
            "_view_module_version": "1.2.0",
            "_view_name": "StyleView",
            "bar_color": null,
            "description_width": ""
          }
        },
        "405eabc0914d4487b7a5458c39a65656": {
          "model_module": "@jupyter-widgets/base",
          "model_name": "LayoutModel",
          "model_module_version": "1.2.0",
          "state": {
            "_model_module": "@jupyter-widgets/base",
            "_model_module_version": "1.2.0",
            "_model_name": "LayoutModel",
            "_view_count": null,
            "_view_module": "@jupyter-widgets/base",
            "_view_module_version": "1.2.0",
            "_view_name": "LayoutView",
            "align_content": null,
            "align_items": null,
            "align_self": null,
            "border": null,
            "bottom": null,
            "display": null,
            "flex": null,
            "flex_flow": null,
            "grid_area": null,
            "grid_auto_columns": null,
            "grid_auto_flow": null,
            "grid_auto_rows": null,
            "grid_column": null,
            "grid_gap": null,
            "grid_row": null,
            "grid_template_areas": null,
            "grid_template_columns": null,
            "grid_template_rows": null,
            "height": null,
            "justify_content": null,
            "justify_items": null,
            "left": null,
            "margin": null,
            "max_height": null,
            "max_width": null,
            "min_height": null,
            "min_width": null,
            "object_fit": null,
            "object_position": null,
            "order": null,
            "overflow": null,
            "overflow_x": null,
            "overflow_y": null,
            "padding": null,
            "right": null,
            "top": null,
            "visibility": null,
            "width": null
          }
        },
        "0753898c8a0f4a2ca1121a3a1c2d41f3": {
          "model_module": "@jupyter-widgets/controls",
          "model_name": "DescriptionStyleModel",
          "model_module_version": "1.5.0",
          "state": {
            "_model_module": "@jupyter-widgets/controls",
            "_model_module_version": "1.5.0",
            "_model_name": "DescriptionStyleModel",
            "_view_count": null,
            "_view_module": "@jupyter-widgets/base",
            "_view_module_version": "1.2.0",
            "_view_name": "StyleView",
            "description_width": ""
          }
        },
        "1fc0961580b144b59efe4f682f638afe": {
          "model_module": "@jupyter-widgets/controls",
          "model_name": "HBoxModel",
          "model_module_version": "1.5.0",
          "state": {
            "_dom_classes": [],
            "_model_module": "@jupyter-widgets/controls",
            "_model_module_version": "1.5.0",
            "_model_name": "HBoxModel",
            "_view_count": null,
            "_view_module": "@jupyter-widgets/controls",
            "_view_module_version": "1.5.0",
            "_view_name": "HBoxView",
            "box_style": "",
            "children": [
              "IPY_MODEL_f74a1638c9f6449fbdc5beecc95d3062",
              "IPY_MODEL_922c349bb09c484f8d1e143052180e5f",
              "IPY_MODEL_3244fc37d1944f3d85d22ce554598482"
            ],
            "layout": "IPY_MODEL_b883b54711f643c2969701085ea80b1a"
          }
        },
        "f74a1638c9f6449fbdc5beecc95d3062": {
          "model_module": "@jupyter-widgets/controls",
          "model_name": "HTMLModel",
          "model_module_version": "1.5.0",
          "state": {
            "_dom_classes": [],
            "_model_module": "@jupyter-widgets/controls",
            "_model_module_version": "1.5.0",
            "_model_name": "HTMLModel",
            "_view_count": null,
            "_view_module": "@jupyter-widgets/controls",
            "_view_module_version": "1.5.0",
            "_view_name": "HTMLView",
            "description": "",
            "description_tooltip": null,
            "layout": "IPY_MODEL_29862cc5574344c688f24b39089d6219",
            "placeholder": "​",
            "style": "IPY_MODEL_96d563e39a974bda9589b541e7be6784",
            "value": "Downloading data: 100%"
          }
        },
        "922c349bb09c484f8d1e143052180e5f": {
          "model_module": "@jupyter-widgets/controls",
          "model_name": "FloatProgressModel",
          "model_module_version": "1.5.0",
          "state": {
            "_dom_classes": [],
            "_model_module": "@jupyter-widgets/controls",
            "_model_module_version": "1.5.0",
            "_model_name": "FloatProgressModel",
            "_view_count": null,
            "_view_module": "@jupyter-widgets/controls",
            "_view_module_version": "1.5.0",
            "_view_name": "ProgressView",
            "bar_style": "success",
            "description": "",
            "description_tooltip": null,
            "layout": "IPY_MODEL_e9d07213de1c4a56ac0307bae3dfd2cb",
            "max": 58176133,
            "min": 0,
            "orientation": "horizontal",
            "style": "IPY_MODEL_831ca213191a44fbb3a319696b54849f",
            "value": 58176133
          }
        },
        "3244fc37d1944f3d85d22ce554598482": {
          "model_module": "@jupyter-widgets/controls",
          "model_name": "HTMLModel",
          "model_module_version": "1.5.0",
          "state": {
            "_dom_classes": [],
            "_model_module": "@jupyter-widgets/controls",
            "_model_module_version": "1.5.0",
            "_model_name": "HTMLModel",
            "_view_count": null,
            "_view_module": "@jupyter-widgets/controls",
            "_view_module_version": "1.5.0",
            "_view_name": "HTMLView",
            "description": "",
            "description_tooltip": null,
            "layout": "IPY_MODEL_ca4e40014c304f87af29f1a510d13b03",
            "placeholder": "​",
            "style": "IPY_MODEL_d5514775a7e241eb91257c9af5629912",
            "value": " 58.2M/58.2M [00:00&lt;00:00, 73.4MB/s]"
          }
        },
        "b883b54711f643c2969701085ea80b1a": {
          "model_module": "@jupyter-widgets/base",
          "model_name": "LayoutModel",
          "model_module_version": "1.2.0",
          "state": {
            "_model_module": "@jupyter-widgets/base",
            "_model_module_version": "1.2.0",
            "_model_name": "LayoutModel",
            "_view_count": null,
            "_view_module": "@jupyter-widgets/base",
            "_view_module_version": "1.2.0",
            "_view_name": "LayoutView",
            "align_content": null,
            "align_items": null,
            "align_self": null,
            "border": null,
            "bottom": null,
            "display": null,
            "flex": null,
            "flex_flow": null,
            "grid_area": null,
            "grid_auto_columns": null,
            "grid_auto_flow": null,
            "grid_auto_rows": null,
            "grid_column": null,
            "grid_gap": null,
            "grid_row": null,
            "grid_template_areas": null,
            "grid_template_columns": null,
            "grid_template_rows": null,
            "height": null,
            "justify_content": null,
            "justify_items": null,
            "left": null,
            "margin": null,
            "max_height": null,
            "max_width": null,
            "min_height": null,
            "min_width": null,
            "object_fit": null,
            "object_position": null,
            "order": null,
            "overflow": null,
            "overflow_x": null,
            "overflow_y": null,
            "padding": null,
            "right": null,
            "top": null,
            "visibility": null,
            "width": null
          }
        },
        "29862cc5574344c688f24b39089d6219": {
          "model_module": "@jupyter-widgets/base",
          "model_name": "LayoutModel",
          "model_module_version": "1.2.0",
          "state": {
            "_model_module": "@jupyter-widgets/base",
            "_model_module_version": "1.2.0",
            "_model_name": "LayoutModel",
            "_view_count": null,
            "_view_module": "@jupyter-widgets/base",
            "_view_module_version": "1.2.0",
            "_view_name": "LayoutView",
            "align_content": null,
            "align_items": null,
            "align_self": null,
            "border": null,
            "bottom": null,
            "display": null,
            "flex": null,
            "flex_flow": null,
            "grid_area": null,
            "grid_auto_columns": null,
            "grid_auto_flow": null,
            "grid_auto_rows": null,
            "grid_column": null,
            "grid_gap": null,
            "grid_row": null,
            "grid_template_areas": null,
            "grid_template_columns": null,
            "grid_template_rows": null,
            "height": null,
            "justify_content": null,
            "justify_items": null,
            "left": null,
            "margin": null,
            "max_height": null,
            "max_width": null,
            "min_height": null,
            "min_width": null,
            "object_fit": null,
            "object_position": null,
            "order": null,
            "overflow": null,
            "overflow_x": null,
            "overflow_y": null,
            "padding": null,
            "right": null,
            "top": null,
            "visibility": null,
            "width": null
          }
        },
        "96d563e39a974bda9589b541e7be6784": {
          "model_module": "@jupyter-widgets/controls",
          "model_name": "DescriptionStyleModel",
          "model_module_version": "1.5.0",
          "state": {
            "_model_module": "@jupyter-widgets/controls",
            "_model_module_version": "1.5.0",
            "_model_name": "DescriptionStyleModel",
            "_view_count": null,
            "_view_module": "@jupyter-widgets/base",
            "_view_module_version": "1.2.0",
            "_view_name": "StyleView",
            "description_width": ""
          }
        },
        "e9d07213de1c4a56ac0307bae3dfd2cb": {
          "model_module": "@jupyter-widgets/base",
          "model_name": "LayoutModel",
          "model_module_version": "1.2.0",
          "state": {
            "_model_module": "@jupyter-widgets/base",
            "_model_module_version": "1.2.0",
            "_model_name": "LayoutModel",
            "_view_count": null,
            "_view_module": "@jupyter-widgets/base",
            "_view_module_version": "1.2.0",
            "_view_name": "LayoutView",
            "align_content": null,
            "align_items": null,
            "align_self": null,
            "border": null,
            "bottom": null,
            "display": null,
            "flex": null,
            "flex_flow": null,
            "grid_area": null,
            "grid_auto_columns": null,
            "grid_auto_flow": null,
            "grid_auto_rows": null,
            "grid_column": null,
            "grid_gap": null,
            "grid_row": null,
            "grid_template_areas": null,
            "grid_template_columns": null,
            "grid_template_rows": null,
            "height": null,
            "justify_content": null,
            "justify_items": null,
            "left": null,
            "margin": null,
            "max_height": null,
            "max_width": null,
            "min_height": null,
            "min_width": null,
            "object_fit": null,
            "object_position": null,
            "order": null,
            "overflow": null,
            "overflow_x": null,
            "overflow_y": null,
            "padding": null,
            "right": null,
            "top": null,
            "visibility": null,
            "width": null
          }
        },
        "831ca213191a44fbb3a319696b54849f": {
          "model_module": "@jupyter-widgets/controls",
          "model_name": "ProgressStyleModel",
          "model_module_version": "1.5.0",
          "state": {
            "_model_module": "@jupyter-widgets/controls",
            "_model_module_version": "1.5.0",
            "_model_name": "ProgressStyleModel",
            "_view_count": null,
            "_view_module": "@jupyter-widgets/base",
            "_view_module_version": "1.2.0",
            "_view_name": "StyleView",
            "bar_color": null,
            "description_width": ""
          }
        },
        "ca4e40014c304f87af29f1a510d13b03": {
          "model_module": "@jupyter-widgets/base",
          "model_name": "LayoutModel",
          "model_module_version": "1.2.0",
          "state": {
            "_model_module": "@jupyter-widgets/base",
            "_model_module_version": "1.2.0",
            "_model_name": "LayoutModel",
            "_view_count": null,
            "_view_module": "@jupyter-widgets/base",
            "_view_module_version": "1.2.0",
            "_view_name": "LayoutView",
            "align_content": null,
            "align_items": null,
            "align_self": null,
            "border": null,
            "bottom": null,
            "display": null,
            "flex": null,
            "flex_flow": null,
            "grid_area": null,
            "grid_auto_columns": null,
            "grid_auto_flow": null,
            "grid_auto_rows": null,
            "grid_column": null,
            "grid_gap": null,
            "grid_row": null,
            "grid_template_areas": null,
            "grid_template_columns": null,
            "grid_template_rows": null,
            "height": null,
            "justify_content": null,
            "justify_items": null,
            "left": null,
            "margin": null,
            "max_height": null,
            "max_width": null,
            "min_height": null,
            "min_width": null,
            "object_fit": null,
            "object_position": null,
            "order": null,
            "overflow": null,
            "overflow_x": null,
            "overflow_y": null,
            "padding": null,
            "right": null,
            "top": null,
            "visibility": null,
            "width": null
          }
        },
        "d5514775a7e241eb91257c9af5629912": {
          "model_module": "@jupyter-widgets/controls",
          "model_name": "DescriptionStyleModel",
          "model_module_version": "1.5.0",
          "state": {
            "_model_module": "@jupyter-widgets/controls",
            "_model_module_version": "1.5.0",
            "_model_name": "DescriptionStyleModel",
            "_view_count": null,
            "_view_module": "@jupyter-widgets/base",
            "_view_module_version": "1.2.0",
            "_view_name": "StyleView",
            "description_width": ""
          }
        },
        "8dfd24f15ca34d7ea85f34cfe80239ff": {
          "model_module": "@jupyter-widgets/controls",
          "model_name": "HBoxModel",
          "model_module_version": "1.5.0",
          "state": {
            "_dom_classes": [],
            "_model_module": "@jupyter-widgets/controls",
            "_model_module_version": "1.5.0",
            "_model_name": "HBoxModel",
            "_view_count": null,
            "_view_module": "@jupyter-widgets/controls",
            "_view_module_version": "1.5.0",
            "_view_name": "HBoxView",
            "box_style": "",
            "children": [
              "IPY_MODEL_21346e8457904cf7b2fd14c8771fe6a2",
              "IPY_MODEL_f77dae7ecaab4b2190641bfc4380301e",
              "IPY_MODEL_aabdc24f2b2249e99101f4783382a17c"
            ],
            "layout": "IPY_MODEL_c6f926902abd497a9d426d60e8e1e9ff"
          }
        },
        "21346e8457904cf7b2fd14c8771fe6a2": {
          "model_module": "@jupyter-widgets/controls",
          "model_name": "HTMLModel",
          "model_module_version": "1.5.0",
          "state": {
            "_dom_classes": [],
            "_model_module": "@jupyter-widgets/controls",
            "_model_module_version": "1.5.0",
            "_model_name": "HTMLModel",
            "_view_count": null,
            "_view_module": "@jupyter-widgets/controls",
            "_view_module_version": "1.5.0",
            "_view_name": "HTMLView",
            "description": "",
            "description_tooltip": null,
            "layout": "IPY_MODEL_b0985e8975744d838d69b53e4084746b",
            "placeholder": "​",
            "style": "IPY_MODEL_7b225f22a2e04922af569df01577418e",
            "value": "Extracting data files: 100%"
          }
        },
        "f77dae7ecaab4b2190641bfc4380301e": {
          "model_module": "@jupyter-widgets/controls",
          "model_name": "FloatProgressModel",
          "model_module_version": "1.5.0",
          "state": {
            "_dom_classes": [],
            "_model_module": "@jupyter-widgets/controls",
            "_model_module_version": "1.5.0",
            "_model_name": "FloatProgressModel",
            "_view_count": null,
            "_view_module": "@jupyter-widgets/controls",
            "_view_module_version": "1.5.0",
            "_view_name": "ProgressView",
            "bar_style": "success",
            "description": "",
            "description_tooltip": null,
            "layout": "IPY_MODEL_5e68439fe8e946388b7cba704cfddf5e",
            "max": 1,
            "min": 0,
            "orientation": "horizontal",
            "style": "IPY_MODEL_b5793aa02f1a47629eda0352eb410d4a",
            "value": 1
          }
        },
        "aabdc24f2b2249e99101f4783382a17c": {
          "model_module": "@jupyter-widgets/controls",
          "model_name": "HTMLModel",
          "model_module_version": "1.5.0",
          "state": {
            "_dom_classes": [],
            "_model_module": "@jupyter-widgets/controls",
            "_model_module_version": "1.5.0",
            "_model_name": "HTMLModel",
            "_view_count": null,
            "_view_module": "@jupyter-widgets/controls",
            "_view_module_version": "1.5.0",
            "_view_name": "HTMLView",
            "description": "",
            "description_tooltip": null,
            "layout": "IPY_MODEL_325b1bc14ee346f3817d3e4bf894bcd6",
            "placeholder": "​",
            "style": "IPY_MODEL_2a64b89535b147da81116db968e676f3",
            "value": " 1/1 [00:00&lt;00:00, 40.14it/s]"
          }
        },
        "c6f926902abd497a9d426d60e8e1e9ff": {
          "model_module": "@jupyter-widgets/base",
          "model_name": "LayoutModel",
          "model_module_version": "1.2.0",
          "state": {
            "_model_module": "@jupyter-widgets/base",
            "_model_module_version": "1.2.0",
            "_model_name": "LayoutModel",
            "_view_count": null,
            "_view_module": "@jupyter-widgets/base",
            "_view_module_version": "1.2.0",
            "_view_name": "LayoutView",
            "align_content": null,
            "align_items": null,
            "align_self": null,
            "border": null,
            "bottom": null,
            "display": null,
            "flex": null,
            "flex_flow": null,
            "grid_area": null,
            "grid_auto_columns": null,
            "grid_auto_flow": null,
            "grid_auto_rows": null,
            "grid_column": null,
            "grid_gap": null,
            "grid_row": null,
            "grid_template_areas": null,
            "grid_template_columns": null,
            "grid_template_rows": null,
            "height": null,
            "justify_content": null,
            "justify_items": null,
            "left": null,
            "margin": null,
            "max_height": null,
            "max_width": null,
            "min_height": null,
            "min_width": null,
            "object_fit": null,
            "object_position": null,
            "order": null,
            "overflow": null,
            "overflow_x": null,
            "overflow_y": null,
            "padding": null,
            "right": null,
            "top": null,
            "visibility": null,
            "width": null
          }
        },
        "b0985e8975744d838d69b53e4084746b": {
          "model_module": "@jupyter-widgets/base",
          "model_name": "LayoutModel",
          "model_module_version": "1.2.0",
          "state": {
            "_model_module": "@jupyter-widgets/base",
            "_model_module_version": "1.2.0",
            "_model_name": "LayoutModel",
            "_view_count": null,
            "_view_module": "@jupyter-widgets/base",
            "_view_module_version": "1.2.0",
            "_view_name": "LayoutView",
            "align_content": null,
            "align_items": null,
            "align_self": null,
            "border": null,
            "bottom": null,
            "display": null,
            "flex": null,
            "flex_flow": null,
            "grid_area": null,
            "grid_auto_columns": null,
            "grid_auto_flow": null,
            "grid_auto_rows": null,
            "grid_column": null,
            "grid_gap": null,
            "grid_row": null,
            "grid_template_areas": null,
            "grid_template_columns": null,
            "grid_template_rows": null,
            "height": null,
            "justify_content": null,
            "justify_items": null,
            "left": null,
            "margin": null,
            "max_height": null,
            "max_width": null,
            "min_height": null,
            "min_width": null,
            "object_fit": null,
            "object_position": null,
            "order": null,
            "overflow": null,
            "overflow_x": null,
            "overflow_y": null,
            "padding": null,
            "right": null,
            "top": null,
            "visibility": null,
            "width": null
          }
        },
        "7b225f22a2e04922af569df01577418e": {
          "model_module": "@jupyter-widgets/controls",
          "model_name": "DescriptionStyleModel",
          "model_module_version": "1.5.0",
          "state": {
            "_model_module": "@jupyter-widgets/controls",
            "_model_module_version": "1.5.0",
            "_model_name": "DescriptionStyleModel",
            "_view_count": null,
            "_view_module": "@jupyter-widgets/base",
            "_view_module_version": "1.2.0",
            "_view_name": "StyleView",
            "description_width": ""
          }
        },
        "5e68439fe8e946388b7cba704cfddf5e": {
          "model_module": "@jupyter-widgets/base",
          "model_name": "LayoutModel",
          "model_module_version": "1.2.0",
          "state": {
            "_model_module": "@jupyter-widgets/base",
            "_model_module_version": "1.2.0",
            "_model_name": "LayoutModel",
            "_view_count": null,
            "_view_module": "@jupyter-widgets/base",
            "_view_module_version": "1.2.0",
            "_view_name": "LayoutView",
            "align_content": null,
            "align_items": null,
            "align_self": null,
            "border": null,
            "bottom": null,
            "display": null,
            "flex": null,
            "flex_flow": null,
            "grid_area": null,
            "grid_auto_columns": null,
            "grid_auto_flow": null,
            "grid_auto_rows": null,
            "grid_column": null,
            "grid_gap": null,
            "grid_row": null,
            "grid_template_areas": null,
            "grid_template_columns": null,
            "grid_template_rows": null,
            "height": null,
            "justify_content": null,
            "justify_items": null,
            "left": null,
            "margin": null,
            "max_height": null,
            "max_width": null,
            "min_height": null,
            "min_width": null,
            "object_fit": null,
            "object_position": null,
            "order": null,
            "overflow": null,
            "overflow_x": null,
            "overflow_y": null,
            "padding": null,
            "right": null,
            "top": null,
            "visibility": null,
            "width": null
          }
        },
        "b5793aa02f1a47629eda0352eb410d4a": {
          "model_module": "@jupyter-widgets/controls",
          "model_name": "ProgressStyleModel",
          "model_module_version": "1.5.0",
          "state": {
            "_model_module": "@jupyter-widgets/controls",
            "_model_module_version": "1.5.0",
            "_model_name": "ProgressStyleModel",
            "_view_count": null,
            "_view_module": "@jupyter-widgets/base",
            "_view_module_version": "1.2.0",
            "_view_name": "StyleView",
            "bar_color": null,
            "description_width": ""
          }
        },
        "325b1bc14ee346f3817d3e4bf894bcd6": {
          "model_module": "@jupyter-widgets/base",
          "model_name": "LayoutModel",
          "model_module_version": "1.2.0",
          "state": {
            "_model_module": "@jupyter-widgets/base",
            "_model_module_version": "1.2.0",
            "_model_name": "LayoutModel",
            "_view_count": null,
            "_view_module": "@jupyter-widgets/base",
            "_view_module_version": "1.2.0",
            "_view_name": "LayoutView",
            "align_content": null,
            "align_items": null,
            "align_self": null,
            "border": null,
            "bottom": null,
            "display": null,
            "flex": null,
            "flex_flow": null,
            "grid_area": null,
            "grid_auto_columns": null,
            "grid_auto_flow": null,
            "grid_auto_rows": null,
            "grid_column": null,
            "grid_gap": null,
            "grid_row": null,
            "grid_template_areas": null,
            "grid_template_columns": null,
            "grid_template_rows": null,
            "height": null,
            "justify_content": null,
            "justify_items": null,
            "left": null,
            "margin": null,
            "max_height": null,
            "max_width": null,
            "min_height": null,
            "min_width": null,
            "object_fit": null,
            "object_position": null,
            "order": null,
            "overflow": null,
            "overflow_x": null,
            "overflow_y": null,
            "padding": null,
            "right": null,
            "top": null,
            "visibility": null,
            "width": null
          }
        },
        "2a64b89535b147da81116db968e676f3": {
          "model_module": "@jupyter-widgets/controls",
          "model_name": "DescriptionStyleModel",
          "model_module_version": "1.5.0",
          "state": {
            "_model_module": "@jupyter-widgets/controls",
            "_model_module_version": "1.5.0",
            "_model_name": "DescriptionStyleModel",
            "_view_count": null,
            "_view_module": "@jupyter-widgets/base",
            "_view_module_version": "1.2.0",
            "_view_name": "StyleView",
            "description_width": ""
          }
        },
        "6045cf6659d7445ba46fadc14bf0743e": {
          "model_module": "@jupyter-widgets/controls",
          "model_name": "HBoxModel",
          "model_module_version": "1.5.0",
          "state": {
            "_dom_classes": [],
            "_model_module": "@jupyter-widgets/controls",
            "_model_module_version": "1.5.0",
            "_model_name": "HBoxModel",
            "_view_count": null,
            "_view_module": "@jupyter-widgets/controls",
            "_view_module_version": "1.5.0",
            "_view_name": "HBoxView",
            "box_style": "",
            "children": [
              "IPY_MODEL_e6f75e4a6d38430caf8e4a358dc04cb7",
              "IPY_MODEL_f50f40765c0a4a62ac0b021fcace9a8a",
              "IPY_MODEL_5352a53374c5488d8fb6e21d4aaf769b"
            ],
            "layout": "IPY_MODEL_a72e9ec6da86494c8eb27b75b4005afb"
          }
        },
        "e6f75e4a6d38430caf8e4a358dc04cb7": {
          "model_module": "@jupyter-widgets/controls",
          "model_name": "HTMLModel",
          "model_module_version": "1.5.0",
          "state": {
            "_dom_classes": [],
            "_model_module": "@jupyter-widgets/controls",
            "_model_module_version": "1.5.0",
            "_model_name": "HTMLModel",
            "_view_count": null,
            "_view_module": "@jupyter-widgets/controls",
            "_view_module_version": "1.5.0",
            "_view_name": "HTMLView",
            "description": "",
            "description_tooltip": null,
            "layout": "IPY_MODEL_63cb885db3354a1eb904fbea07b31164",
            "placeholder": "​",
            "style": "IPY_MODEL_39b3a3442cc24b85bb8f7af8ae8d15c7",
            "value": "Generating train split: 100%"
          }
        },
        "f50f40765c0a4a62ac0b021fcace9a8a": {
          "model_module": "@jupyter-widgets/controls",
          "model_name": "FloatProgressModel",
          "model_module_version": "1.5.0",
          "state": {
            "_dom_classes": [],
            "_model_module": "@jupyter-widgets/controls",
            "_model_module_version": "1.5.0",
            "_model_name": "FloatProgressModel",
            "_view_count": null,
            "_view_module": "@jupyter-widgets/controls",
            "_view_module_version": "1.5.0",
            "_view_name": "ProgressView",
            "bar_style": "success",
            "description": "",
            "description_tooltip": null,
            "layout": "IPY_MODEL_4d1f70232d504ab3a8aa70d1cd440628",
            "max": 404290,
            "min": 0,
            "orientation": "horizontal",
            "style": "IPY_MODEL_f5582e158212428d8074fc58a5955c2f",
            "value": 404290
          }
        },
        "5352a53374c5488d8fb6e21d4aaf769b": {
          "model_module": "@jupyter-widgets/controls",
          "model_name": "HTMLModel",
          "model_module_version": "1.5.0",
          "state": {
            "_dom_classes": [],
            "_model_module": "@jupyter-widgets/controls",
            "_model_module_version": "1.5.0",
            "_model_name": "HTMLModel",
            "_view_count": null,
            "_view_module": "@jupyter-widgets/controls",
            "_view_module_version": "1.5.0",
            "_view_name": "HTMLView",
            "description": "",
            "description_tooltip": null,
            "layout": "IPY_MODEL_33ac7e739cf94b57b84a39271c43e305",
            "placeholder": "​",
            "style": "IPY_MODEL_f1a82c662665432dae40b50a7453dd57",
            "value": " 404290/404290 [00:43&lt;00:00, 13764.90 examples/s]"
          }
        },
        "a72e9ec6da86494c8eb27b75b4005afb": {
          "model_module": "@jupyter-widgets/base",
          "model_name": "LayoutModel",
          "model_module_version": "1.2.0",
          "state": {
            "_model_module": "@jupyter-widgets/base",
            "_model_module_version": "1.2.0",
            "_model_name": "LayoutModel",
            "_view_count": null,
            "_view_module": "@jupyter-widgets/base",
            "_view_module_version": "1.2.0",
            "_view_name": "LayoutView",
            "align_content": null,
            "align_items": null,
            "align_self": null,
            "border": null,
            "bottom": null,
            "display": null,
            "flex": null,
            "flex_flow": null,
            "grid_area": null,
            "grid_auto_columns": null,
            "grid_auto_flow": null,
            "grid_auto_rows": null,
            "grid_column": null,
            "grid_gap": null,
            "grid_row": null,
            "grid_template_areas": null,
            "grid_template_columns": null,
            "grid_template_rows": null,
            "height": null,
            "justify_content": null,
            "justify_items": null,
            "left": null,
            "margin": null,
            "max_height": null,
            "max_width": null,
            "min_height": null,
            "min_width": null,
            "object_fit": null,
            "object_position": null,
            "order": null,
            "overflow": null,
            "overflow_x": null,
            "overflow_y": null,
            "padding": null,
            "right": null,
            "top": null,
            "visibility": null,
            "width": null
          }
        },
        "63cb885db3354a1eb904fbea07b31164": {
          "model_module": "@jupyter-widgets/base",
          "model_name": "LayoutModel",
          "model_module_version": "1.2.0",
          "state": {
            "_model_module": "@jupyter-widgets/base",
            "_model_module_version": "1.2.0",
            "_model_name": "LayoutModel",
            "_view_count": null,
            "_view_module": "@jupyter-widgets/base",
            "_view_module_version": "1.2.0",
            "_view_name": "LayoutView",
            "align_content": null,
            "align_items": null,
            "align_self": null,
            "border": null,
            "bottom": null,
            "display": null,
            "flex": null,
            "flex_flow": null,
            "grid_area": null,
            "grid_auto_columns": null,
            "grid_auto_flow": null,
            "grid_auto_rows": null,
            "grid_column": null,
            "grid_gap": null,
            "grid_row": null,
            "grid_template_areas": null,
            "grid_template_columns": null,
            "grid_template_rows": null,
            "height": null,
            "justify_content": null,
            "justify_items": null,
            "left": null,
            "margin": null,
            "max_height": null,
            "max_width": null,
            "min_height": null,
            "min_width": null,
            "object_fit": null,
            "object_position": null,
            "order": null,
            "overflow": null,
            "overflow_x": null,
            "overflow_y": null,
            "padding": null,
            "right": null,
            "top": null,
            "visibility": null,
            "width": null
          }
        },
        "39b3a3442cc24b85bb8f7af8ae8d15c7": {
          "model_module": "@jupyter-widgets/controls",
          "model_name": "DescriptionStyleModel",
          "model_module_version": "1.5.0",
          "state": {
            "_model_module": "@jupyter-widgets/controls",
            "_model_module_version": "1.5.0",
            "_model_name": "DescriptionStyleModel",
            "_view_count": null,
            "_view_module": "@jupyter-widgets/base",
            "_view_module_version": "1.2.0",
            "_view_name": "StyleView",
            "description_width": ""
          }
        },
        "4d1f70232d504ab3a8aa70d1cd440628": {
          "model_module": "@jupyter-widgets/base",
          "model_name": "LayoutModel",
          "model_module_version": "1.2.0",
          "state": {
            "_model_module": "@jupyter-widgets/base",
            "_model_module_version": "1.2.0",
            "_model_name": "LayoutModel",
            "_view_count": null,
            "_view_module": "@jupyter-widgets/base",
            "_view_module_version": "1.2.0",
            "_view_name": "LayoutView",
            "align_content": null,
            "align_items": null,
            "align_self": null,
            "border": null,
            "bottom": null,
            "display": null,
            "flex": null,
            "flex_flow": null,
            "grid_area": null,
            "grid_auto_columns": null,
            "grid_auto_flow": null,
            "grid_auto_rows": null,
            "grid_column": null,
            "grid_gap": null,
            "grid_row": null,
            "grid_template_areas": null,
            "grid_template_columns": null,
            "grid_template_rows": null,
            "height": null,
            "justify_content": null,
            "justify_items": null,
            "left": null,
            "margin": null,
            "max_height": null,
            "max_width": null,
            "min_height": null,
            "min_width": null,
            "object_fit": null,
            "object_position": null,
            "order": null,
            "overflow": null,
            "overflow_x": null,
            "overflow_y": null,
            "padding": null,
            "right": null,
            "top": null,
            "visibility": null,
            "width": null
          }
        },
        "f5582e158212428d8074fc58a5955c2f": {
          "model_module": "@jupyter-widgets/controls",
          "model_name": "ProgressStyleModel",
          "model_module_version": "1.5.0",
          "state": {
            "_model_module": "@jupyter-widgets/controls",
            "_model_module_version": "1.5.0",
            "_model_name": "ProgressStyleModel",
            "_view_count": null,
            "_view_module": "@jupyter-widgets/base",
            "_view_module_version": "1.2.0",
            "_view_name": "StyleView",
            "bar_color": null,
            "description_width": ""
          }
        },
        "33ac7e739cf94b57b84a39271c43e305": {
          "model_module": "@jupyter-widgets/base",
          "model_name": "LayoutModel",
          "model_module_version": "1.2.0",
          "state": {
            "_model_module": "@jupyter-widgets/base",
            "_model_module_version": "1.2.0",
            "_model_name": "LayoutModel",
            "_view_count": null,
            "_view_module": "@jupyter-widgets/base",
            "_view_module_version": "1.2.0",
            "_view_name": "LayoutView",
            "align_content": null,
            "align_items": null,
            "align_self": null,
            "border": null,
            "bottom": null,
            "display": null,
            "flex": null,
            "flex_flow": null,
            "grid_area": null,
            "grid_auto_columns": null,
            "grid_auto_flow": null,
            "grid_auto_rows": null,
            "grid_column": null,
            "grid_gap": null,
            "grid_row": null,
            "grid_template_areas": null,
            "grid_template_columns": null,
            "grid_template_rows": null,
            "height": null,
            "justify_content": null,
            "justify_items": null,
            "left": null,
            "margin": null,
            "max_height": null,
            "max_width": null,
            "min_height": null,
            "min_width": null,
            "object_fit": null,
            "object_position": null,
            "order": null,
            "overflow": null,
            "overflow_x": null,
            "overflow_y": null,
            "padding": null,
            "right": null,
            "top": null,
            "visibility": null,
            "width": null
          }
        },
        "f1a82c662665432dae40b50a7453dd57": {
          "model_module": "@jupyter-widgets/controls",
          "model_name": "DescriptionStyleModel",
          "model_module_version": "1.5.0",
          "state": {
            "_model_module": "@jupyter-widgets/controls",
            "_model_module_version": "1.5.0",
            "_model_name": "DescriptionStyleModel",
            "_view_count": null,
            "_view_module": "@jupyter-widgets/base",
            "_view_module_version": "1.2.0",
            "_view_name": "StyleView",
            "description_width": ""
          }
        },
        "d1fec6be735a44e186e1dd692a37773f": {
          "model_module": "@jupyter-widgets/controls",
          "model_name": "HBoxModel",
          "model_module_version": "1.5.0",
          "state": {
            "_dom_classes": [],
            "_model_module": "@jupyter-widgets/controls",
            "_model_module_version": "1.5.0",
            "_model_name": "HBoxModel",
            "_view_count": null,
            "_view_module": "@jupyter-widgets/controls",
            "_view_module_version": "1.5.0",
            "_view_name": "HBoxView",
            "box_style": "",
            "children": [
              "IPY_MODEL_11959103e2a8434e85f3ab9a7abbcf7c",
              "IPY_MODEL_47dabd58e300431cafbd03d52151c071",
              "IPY_MODEL_5ab42aa4313c4ec1b1ce78ad76deee2a"
            ],
            "layout": "IPY_MODEL_ce7033e1dfa14decbd9b19d6761b8352"
          }
        },
        "11959103e2a8434e85f3ab9a7abbcf7c": {
          "model_module": "@jupyter-widgets/controls",
          "model_name": "HTMLModel",
          "model_module_version": "1.5.0",
          "state": {
            "_dom_classes": [],
            "_model_module": "@jupyter-widgets/controls",
            "_model_module_version": "1.5.0",
            "_model_name": "HTMLModel",
            "_view_count": null,
            "_view_module": "@jupyter-widgets/controls",
            "_view_module_version": "1.5.0",
            "_view_name": "HTMLView",
            "description": "",
            "description_tooltip": null,
            "layout": "IPY_MODEL_640ac4ee3e7246fd8b1a1e256268331c",
            "placeholder": "​",
            "style": "IPY_MODEL_a0c0d60f1c284313adc4b81cd956d70f",
            "value": " 57%"
          }
        },
        "47dabd58e300431cafbd03d52151c071": {
          "model_module": "@jupyter-widgets/controls",
          "model_name": "FloatProgressModel",
          "model_module_version": "1.5.0",
          "state": {
            "_dom_classes": [],
            "_model_module": "@jupyter-widgets/controls",
            "_model_module_version": "1.5.0",
            "_model_name": "FloatProgressModel",
            "_view_count": null,
            "_view_module": "@jupyter-widgets/controls",
            "_view_module_version": "1.5.0",
            "_view_name": "ProgressView",
            "bar_style": "danger",
            "description": "",
            "description_tooltip": null,
            "layout": "IPY_MODEL_d80dc6d47352491399a34e3c3337578f",
            "max": 100000,
            "min": 0,
            "orientation": "horizontal",
            "style": "IPY_MODEL_3d0f7e7b3f2e43428c8f7743ad120f3b",
            "value": 57399
          }
        },
        "5ab42aa4313c4ec1b1ce78ad76deee2a": {
          "model_module": "@jupyter-widgets/controls",
          "model_name": "HTMLModel",
          "model_module_version": "1.5.0",
          "state": {
            "_dom_classes": [],
            "_model_module": "@jupyter-widgets/controls",
            "_model_module_version": "1.5.0",
            "_model_name": "HTMLModel",
            "_view_count": null,
            "_view_module": "@jupyter-widgets/controls",
            "_view_module_version": "1.5.0",
            "_view_name": "HTMLView",
            "description": "",
            "description_tooltip": null,
            "layout": "IPY_MODEL_24ffffd92e3943a1ab243e9b72d0e814",
            "placeholder": "​",
            "style": "IPY_MODEL_765d16d0934c4d4b9db19f9f3b3adcb3",
            "value": " 57399/100000 [29:13&lt;13:39, 51.97it/s]"
          }
        },
        "ce7033e1dfa14decbd9b19d6761b8352": {
          "model_module": "@jupyter-widgets/base",
          "model_name": "LayoutModel",
          "model_module_version": "1.2.0",
          "state": {
            "_model_module": "@jupyter-widgets/base",
            "_model_module_version": "1.2.0",
            "_model_name": "LayoutModel",
            "_view_count": null,
            "_view_module": "@jupyter-widgets/base",
            "_view_module_version": "1.2.0",
            "_view_name": "LayoutView",
            "align_content": null,
            "align_items": null,
            "align_self": null,
            "border": null,
            "bottom": null,
            "display": null,
            "flex": null,
            "flex_flow": null,
            "grid_area": null,
            "grid_auto_columns": null,
            "grid_auto_flow": null,
            "grid_auto_rows": null,
            "grid_column": null,
            "grid_gap": null,
            "grid_row": null,
            "grid_template_areas": null,
            "grid_template_columns": null,
            "grid_template_rows": null,
            "height": null,
            "justify_content": null,
            "justify_items": null,
            "left": null,
            "margin": null,
            "max_height": null,
            "max_width": null,
            "min_height": null,
            "min_width": null,
            "object_fit": null,
            "object_position": null,
            "order": null,
            "overflow": null,
            "overflow_x": null,
            "overflow_y": null,
            "padding": null,
            "right": null,
            "top": null,
            "visibility": null,
            "width": null
          }
        },
        "640ac4ee3e7246fd8b1a1e256268331c": {
          "model_module": "@jupyter-widgets/base",
          "model_name": "LayoutModel",
          "model_module_version": "1.2.0",
          "state": {
            "_model_module": "@jupyter-widgets/base",
            "_model_module_version": "1.2.0",
            "_model_name": "LayoutModel",
            "_view_count": null,
            "_view_module": "@jupyter-widgets/base",
            "_view_module_version": "1.2.0",
            "_view_name": "LayoutView",
            "align_content": null,
            "align_items": null,
            "align_self": null,
            "border": null,
            "bottom": null,
            "display": null,
            "flex": null,
            "flex_flow": null,
            "grid_area": null,
            "grid_auto_columns": null,
            "grid_auto_flow": null,
            "grid_auto_rows": null,
            "grid_column": null,
            "grid_gap": null,
            "grid_row": null,
            "grid_template_areas": null,
            "grid_template_columns": null,
            "grid_template_rows": null,
            "height": null,
            "justify_content": null,
            "justify_items": null,
            "left": null,
            "margin": null,
            "max_height": null,
            "max_width": null,
            "min_height": null,
            "min_width": null,
            "object_fit": null,
            "object_position": null,
            "order": null,
            "overflow": null,
            "overflow_x": null,
            "overflow_y": null,
            "padding": null,
            "right": null,
            "top": null,
            "visibility": null,
            "width": null
          }
        },
        "a0c0d60f1c284313adc4b81cd956d70f": {
          "model_module": "@jupyter-widgets/controls",
          "model_name": "DescriptionStyleModel",
          "model_module_version": "1.5.0",
          "state": {
            "_model_module": "@jupyter-widgets/controls",
            "_model_module_version": "1.5.0",
            "_model_name": "DescriptionStyleModel",
            "_view_count": null,
            "_view_module": "@jupyter-widgets/base",
            "_view_module_version": "1.2.0",
            "_view_name": "StyleView",
            "description_width": ""
          }
        },
        "d80dc6d47352491399a34e3c3337578f": {
          "model_module": "@jupyter-widgets/base",
          "model_name": "LayoutModel",
          "model_module_version": "1.2.0",
          "state": {
            "_model_module": "@jupyter-widgets/base",
            "_model_module_version": "1.2.0",
            "_model_name": "LayoutModel",
            "_view_count": null,
            "_view_module": "@jupyter-widgets/base",
            "_view_module_version": "1.2.0",
            "_view_name": "LayoutView",
            "align_content": null,
            "align_items": null,
            "align_self": null,
            "border": null,
            "bottom": null,
            "display": null,
            "flex": null,
            "flex_flow": null,
            "grid_area": null,
            "grid_auto_columns": null,
            "grid_auto_flow": null,
            "grid_auto_rows": null,
            "grid_column": null,
            "grid_gap": null,
            "grid_row": null,
            "grid_template_areas": null,
            "grid_template_columns": null,
            "grid_template_rows": null,
            "height": null,
            "justify_content": null,
            "justify_items": null,
            "left": null,
            "margin": null,
            "max_height": null,
            "max_width": null,
            "min_height": null,
            "min_width": null,
            "object_fit": null,
            "object_position": null,
            "order": null,
            "overflow": null,
            "overflow_x": null,
            "overflow_y": null,
            "padding": null,
            "right": null,
            "top": null,
            "visibility": null,
            "width": null
          }
        },
        "3d0f7e7b3f2e43428c8f7743ad120f3b": {
          "model_module": "@jupyter-widgets/controls",
          "model_name": "ProgressStyleModel",
          "model_module_version": "1.5.0",
          "state": {
            "_model_module": "@jupyter-widgets/controls",
            "_model_module_version": "1.5.0",
            "_model_name": "ProgressStyleModel",
            "_view_count": null,
            "_view_module": "@jupyter-widgets/base",
            "_view_module_version": "1.2.0",
            "_view_name": "StyleView",
            "bar_color": null,
            "description_width": ""
          }
        },
        "24ffffd92e3943a1ab243e9b72d0e814": {
          "model_module": "@jupyter-widgets/base",
          "model_name": "LayoutModel",
          "model_module_version": "1.2.0",
          "state": {
            "_model_module": "@jupyter-widgets/base",
            "_model_module_version": "1.2.0",
            "_model_name": "LayoutModel",
            "_view_count": null,
            "_view_module": "@jupyter-widgets/base",
            "_view_module_version": "1.2.0",
            "_view_name": "LayoutView",
            "align_content": null,
            "align_items": null,
            "align_self": null,
            "border": null,
            "bottom": null,
            "display": null,
            "flex": null,
            "flex_flow": null,
            "grid_area": null,
            "grid_auto_columns": null,
            "grid_auto_flow": null,
            "grid_auto_rows": null,
            "grid_column": null,
            "grid_gap": null,
            "grid_row": null,
            "grid_template_areas": null,
            "grid_template_columns": null,
            "grid_template_rows": null,
            "height": null,
            "justify_content": null,
            "justify_items": null,
            "left": null,
            "margin": null,
            "max_height": null,
            "max_width": null,
            "min_height": null,
            "min_width": null,
            "object_fit": null,
            "object_position": null,
            "order": null,
            "overflow": null,
            "overflow_x": null,
            "overflow_y": null,
            "padding": null,
            "right": null,
            "top": null,
            "visibility": null,
            "width": null
          }
        },
        "765d16d0934c4d4b9db19f9f3b3adcb3": {
          "model_module": "@jupyter-widgets/controls",
          "model_name": "DescriptionStyleModel",
          "model_module_version": "1.5.0",
          "state": {
            "_model_module": "@jupyter-widgets/controls",
            "_model_module_version": "1.5.0",
            "_model_name": "DescriptionStyleModel",
            "_view_count": null,
            "_view_module": "@jupyter-widgets/base",
            "_view_module_version": "1.2.0",
            "_view_name": "StyleView",
            "description_width": ""
          }
        }
      }
    },
    "accelerator": "GPU"
  },
  "cells": [
    {
      "cell_type": "code",
      "source": [
        "!curl ipinfo.io"
      ],
      "metadata": {
        "id": "yzFdC2_yOYBK",
        "colab": {
          "base_uri": "https://localhost:8080/"
        },
        "outputId": "aa22e137-53bf-4297-9c0c-b6f9d157f7b5"
      },
      "execution_count": 70,
      "outputs": [
        {
          "output_type": "stream",
          "name": "stdout",
          "text": [
            "{\n",
            "  \"ip\": \"34.32.223.199\",\n",
            "  \"hostname\": \"199.223.32.34.bc.googleusercontent.com\",\n",
            "  \"city\": \"Groningen\",\n",
            "  \"region\": \"Groningen\",\n",
            "  \"country\": \"NL\",\n",
            "  \"loc\": \"53.2192,6.5667\",\n",
            "  \"org\": \"AS396982 Google LLC\",\n",
            "  \"postal\": \"9711\",\n",
            "  \"timezone\": \"Europe/Amsterdam\",\n",
            "  \"readme\": \"https://ipinfo.io/missingauth\"\n",
            "}"
          ]
        }
      ]
    },
    {
      "cell_type": "code",
      "source": [
        "!pip install sentence-transformers torch\n",
        "!pip install datasets"
      ],
      "metadata": {
        "id": "O0Is7eu2OYDU",
        "colab": {
          "base_uri": "https://localhost:8080/"
        },
        "outputId": "bcb57a99-3745-4496-d498-8c0b3ee058fe"
      },
      "execution_count": 71,
      "outputs": [
        {
          "output_type": "stream",
          "name": "stdout",
          "text": [
            "Requirement already satisfied: sentence-transformers in /usr/local/lib/python3.10/dist-packages (2.2.2)\n",
            "Requirement already satisfied: torch in /usr/local/lib/python3.10/dist-packages (2.0.1+cu118)\n",
            "Requirement already satisfied: transformers<5.0.0,>=4.6.0 in /usr/local/lib/python3.10/dist-packages (from sentence-transformers) (4.33.2)\n",
            "Requirement already satisfied: tqdm in /usr/local/lib/python3.10/dist-packages (from sentence-transformers) (4.66.1)\n",
            "Requirement already satisfied: torchvision in /usr/local/lib/python3.10/dist-packages (from sentence-transformers) (0.15.2+cu118)\n",
            "Requirement already satisfied: numpy in /usr/local/lib/python3.10/dist-packages (from sentence-transformers) (1.23.5)\n",
            "Requirement already satisfied: scikit-learn in /usr/local/lib/python3.10/dist-packages (from sentence-transformers) (1.2.2)\n",
            "Requirement already satisfied: scipy in /usr/local/lib/python3.10/dist-packages (from sentence-transformers) (1.11.2)\n",
            "Requirement already satisfied: nltk in /usr/local/lib/python3.10/dist-packages (from sentence-transformers) (3.8.1)\n",
            "Requirement already satisfied: sentencepiece in /usr/local/lib/python3.10/dist-packages (from sentence-transformers) (0.1.99)\n",
            "Requirement already satisfied: huggingface-hub>=0.4.0 in /usr/local/lib/python3.10/dist-packages (from sentence-transformers) (0.17.2)\n",
            "Requirement already satisfied: filelock in /usr/local/lib/python3.10/dist-packages (from torch) (3.12.2)\n",
            "Requirement already satisfied: typing-extensions in /usr/local/lib/python3.10/dist-packages (from torch) (4.5.0)\n",
            "Requirement already satisfied: sympy in /usr/local/lib/python3.10/dist-packages (from torch) (1.12)\n",
            "Requirement already satisfied: networkx in /usr/local/lib/python3.10/dist-packages (from torch) (3.1)\n",
            "Requirement already satisfied: jinja2 in /usr/local/lib/python3.10/dist-packages (from torch) (3.1.2)\n",
            "Requirement already satisfied: triton==2.0.0 in /usr/local/lib/python3.10/dist-packages (from torch) (2.0.0)\n",
            "Requirement already satisfied: cmake in /usr/local/lib/python3.10/dist-packages (from triton==2.0.0->torch) (3.27.4.1)\n",
            "Requirement already satisfied: lit in /usr/local/lib/python3.10/dist-packages (from triton==2.0.0->torch) (16.0.6)\n",
            "Requirement already satisfied: fsspec in /usr/local/lib/python3.10/dist-packages (from huggingface-hub>=0.4.0->sentence-transformers) (2023.6.0)\n",
            "Requirement already satisfied: requests in /usr/local/lib/python3.10/dist-packages (from huggingface-hub>=0.4.0->sentence-transformers) (2.31.0)\n",
            "Requirement already satisfied: pyyaml>=5.1 in /usr/local/lib/python3.10/dist-packages (from huggingface-hub>=0.4.0->sentence-transformers) (6.0.1)\n",
            "Requirement already satisfied: packaging>=20.9 in /usr/local/lib/python3.10/dist-packages (from huggingface-hub>=0.4.0->sentence-transformers) (23.1)\n",
            "Requirement already satisfied: regex!=2019.12.17 in /usr/local/lib/python3.10/dist-packages (from transformers<5.0.0,>=4.6.0->sentence-transformers) (2023.6.3)\n",
            "Requirement already satisfied: tokenizers!=0.11.3,<0.14,>=0.11.1 in /usr/local/lib/python3.10/dist-packages (from transformers<5.0.0,>=4.6.0->sentence-transformers) (0.13.3)\n",
            "Requirement already satisfied: safetensors>=0.3.1 in /usr/local/lib/python3.10/dist-packages (from transformers<5.0.0,>=4.6.0->sentence-transformers) (0.3.3)\n",
            "Requirement already satisfied: MarkupSafe>=2.0 in /usr/local/lib/python3.10/dist-packages (from jinja2->torch) (2.1.3)\n",
            "Requirement already satisfied: click in /usr/local/lib/python3.10/dist-packages (from nltk->sentence-transformers) (8.1.7)\n",
            "Requirement already satisfied: joblib in /usr/local/lib/python3.10/dist-packages (from nltk->sentence-transformers) (1.3.2)\n",
            "Requirement already satisfied: threadpoolctl>=2.0.0 in /usr/local/lib/python3.10/dist-packages (from scikit-learn->sentence-transformers) (3.2.0)\n",
            "Requirement already satisfied: mpmath>=0.19 in /usr/local/lib/python3.10/dist-packages (from sympy->torch) (1.3.0)\n",
            "Requirement already satisfied: pillow!=8.3.*,>=5.3.0 in /usr/local/lib/python3.10/dist-packages (from torchvision->sentence-transformers) (9.4.0)\n",
            "Requirement already satisfied: charset-normalizer<4,>=2 in /usr/local/lib/python3.10/dist-packages (from requests->huggingface-hub>=0.4.0->sentence-transformers) (3.2.0)\n",
            "Requirement already satisfied: idna<4,>=2.5 in /usr/local/lib/python3.10/dist-packages (from requests->huggingface-hub>=0.4.0->sentence-transformers) (3.4)\n",
            "Requirement already satisfied: urllib3<3,>=1.21.1 in /usr/local/lib/python3.10/dist-packages (from requests->huggingface-hub>=0.4.0->sentence-transformers) (2.0.4)\n",
            "Requirement already satisfied: certifi>=2017.4.17 in /usr/local/lib/python3.10/dist-packages (from requests->huggingface-hub>=0.4.0->sentence-transformers) (2023.7.22)\n",
            "Requirement already satisfied: datasets in /usr/local/lib/python3.10/dist-packages (2.14.5)\n",
            "Requirement already satisfied: numpy>=1.17 in /usr/local/lib/python3.10/dist-packages (from datasets) (1.23.5)\n",
            "Requirement already satisfied: pyarrow>=8.0.0 in /usr/local/lib/python3.10/dist-packages (from datasets) (9.0.0)\n",
            "Requirement already satisfied: dill<0.3.8,>=0.3.0 in /usr/local/lib/python3.10/dist-packages (from datasets) (0.3.7)\n",
            "Requirement already satisfied: pandas in /usr/local/lib/python3.10/dist-packages (from datasets) (1.5.3)\n",
            "Requirement already satisfied: requests>=2.19.0 in /usr/local/lib/python3.10/dist-packages (from datasets) (2.31.0)\n",
            "Requirement already satisfied: tqdm>=4.62.1 in /usr/local/lib/python3.10/dist-packages (from datasets) (4.66.1)\n",
            "Requirement already satisfied: xxhash in /usr/local/lib/python3.10/dist-packages (from datasets) (3.3.0)\n",
            "Requirement already satisfied: multiprocess in /usr/local/lib/python3.10/dist-packages (from datasets) (0.70.15)\n",
            "Requirement already satisfied: fsspec[http]<2023.9.0,>=2023.1.0 in /usr/local/lib/python3.10/dist-packages (from datasets) (2023.6.0)\n",
            "Requirement already satisfied: aiohttp in /usr/local/lib/python3.10/dist-packages (from datasets) (3.8.5)\n",
            "Requirement already satisfied: huggingface-hub<1.0.0,>=0.14.0 in /usr/local/lib/python3.10/dist-packages (from datasets) (0.17.2)\n",
            "Requirement already satisfied: packaging in /usr/local/lib/python3.10/dist-packages (from datasets) (23.1)\n",
            "Requirement already satisfied: pyyaml>=5.1 in /usr/local/lib/python3.10/dist-packages (from datasets) (6.0.1)\n",
            "Requirement already satisfied: attrs>=17.3.0 in /usr/local/lib/python3.10/dist-packages (from aiohttp->datasets) (23.1.0)\n",
            "Requirement already satisfied: charset-normalizer<4.0,>=2.0 in /usr/local/lib/python3.10/dist-packages (from aiohttp->datasets) (3.2.0)\n",
            "Requirement already satisfied: multidict<7.0,>=4.5 in /usr/local/lib/python3.10/dist-packages (from aiohttp->datasets) (6.0.4)\n",
            "Requirement already satisfied: async-timeout<5.0,>=4.0.0a3 in /usr/local/lib/python3.10/dist-packages (from aiohttp->datasets) (4.0.3)\n",
            "Requirement already satisfied: yarl<2.0,>=1.0 in /usr/local/lib/python3.10/dist-packages (from aiohttp->datasets) (1.9.2)\n",
            "Requirement already satisfied: frozenlist>=1.1.1 in /usr/local/lib/python3.10/dist-packages (from aiohttp->datasets) (1.4.0)\n",
            "Requirement already satisfied: aiosignal>=1.1.2 in /usr/local/lib/python3.10/dist-packages (from aiohttp->datasets) (1.3.1)\n",
            "Requirement already satisfied: filelock in /usr/local/lib/python3.10/dist-packages (from huggingface-hub<1.0.0,>=0.14.0->datasets) (3.12.2)\n",
            "Requirement already satisfied: typing-extensions>=3.7.4.3 in /usr/local/lib/python3.10/dist-packages (from huggingface-hub<1.0.0,>=0.14.0->datasets) (4.5.0)\n",
            "Requirement already satisfied: idna<4,>=2.5 in /usr/local/lib/python3.10/dist-packages (from requests>=2.19.0->datasets) (3.4)\n",
            "Requirement already satisfied: urllib3<3,>=1.21.1 in /usr/local/lib/python3.10/dist-packages (from requests>=2.19.0->datasets) (2.0.4)\n",
            "Requirement already satisfied: certifi>=2017.4.17 in /usr/local/lib/python3.10/dist-packages (from requests>=2.19.0->datasets) (2023.7.22)\n",
            "Requirement already satisfied: python-dateutil>=2.8.1 in /usr/local/lib/python3.10/dist-packages (from pandas->datasets) (2.8.2)\n",
            "Requirement already satisfied: pytz>=2020.1 in /usr/local/lib/python3.10/dist-packages (from pandas->datasets) (2023.3.post1)\n",
            "Requirement already satisfied: six>=1.5 in /usr/local/lib/python3.10/dist-packages (from python-dateutil>=2.8.1->pandas->datasets) (1.16.0)\n"
          ]
        }
      ]
    },
    {
      "cell_type": "code",
      "source": [
        "#!pip install pinecone-client==2.0.10  #pinecone-client<=2.0.10"
      ],
      "metadata": {
        "id": "6idoxZIsZWL9"
      },
      "execution_count": 72,
      "outputs": []
    },
    {
      "cell_type": "code",
      "source": [
        "!pip install pinecone-client==2.2.4"
      ],
      "metadata": {
        "colab": {
          "base_uri": "https://localhost:8080/"
        },
        "id": "nwXeT8_idUvt",
        "outputId": "c768070c-80e6-4705-8a54-7db0739c9347"
      },
      "execution_count": 73,
      "outputs": [
        {
          "output_type": "stream",
          "name": "stdout",
          "text": [
            "Requirement already satisfied: pinecone-client==2.2.4 in /usr/local/lib/python3.10/dist-packages (2.2.4)\n",
            "Requirement already satisfied: requests>=2.19.0 in /usr/local/lib/python3.10/dist-packages (from pinecone-client==2.2.4) (2.31.0)\n",
            "Requirement already satisfied: pyyaml>=5.4 in /usr/local/lib/python3.10/dist-packages (from pinecone-client==2.2.4) (6.0.1)\n",
            "Requirement already satisfied: loguru>=0.5.0 in /usr/local/lib/python3.10/dist-packages (from pinecone-client==2.2.4) (0.7.2)\n",
            "Requirement already satisfied: typing-extensions>=3.7.4 in /usr/local/lib/python3.10/dist-packages (from pinecone-client==2.2.4) (4.5.0)\n",
            "Requirement already satisfied: dnspython>=2.0.0 in /usr/local/lib/python3.10/dist-packages (from pinecone-client==2.2.4) (2.4.2)\n",
            "Requirement already satisfied: python-dateutil>=2.5.3 in /usr/local/lib/python3.10/dist-packages (from pinecone-client==2.2.4) (2.8.2)\n",
            "Requirement already satisfied: urllib3>=1.21.1 in /usr/local/lib/python3.10/dist-packages (from pinecone-client==2.2.4) (2.0.4)\n",
            "Requirement already satisfied: tqdm>=4.64.1 in /usr/local/lib/python3.10/dist-packages (from pinecone-client==2.2.4) (4.66.1)\n",
            "Requirement already satisfied: numpy>=1.22.0 in /usr/local/lib/python3.10/dist-packages (from pinecone-client==2.2.4) (1.23.5)\n",
            "Requirement already satisfied: six>=1.5 in /usr/local/lib/python3.10/dist-packages (from python-dateutil>=2.5.3->pinecone-client==2.2.4) (1.16.0)\n",
            "Requirement already satisfied: charset-normalizer<4,>=2 in /usr/local/lib/python3.10/dist-packages (from requests>=2.19.0->pinecone-client==2.2.4) (3.2.0)\n",
            "Requirement already satisfied: idna<4,>=2.5 in /usr/local/lib/python3.10/dist-packages (from requests>=2.19.0->pinecone-client==2.2.4) (3.4)\n",
            "Requirement already satisfied: certifi>=2017.4.17 in /usr/local/lib/python3.10/dist-packages (from requests>=2.19.0->pinecone-client==2.2.4) (2023.7.22)\n"
          ]
        }
      ]
    },
    {
      "cell_type": "code",
      "source": [
        "import pinecone\n",
        "print(\"Pinecone version:\", pinecone.__version__)"
      ],
      "metadata": {
        "colab": {
          "base_uri": "https://localhost:8080/"
        },
        "id": "EukIyJVcfqZM",
        "outputId": "c84df696-f806-498e-c78b-477a07e8c2ea"
      },
      "execution_count": 74,
      "outputs": [
        {
          "output_type": "stream",
          "name": "stdout",
          "text": [
            "Pinecone version: 2.2.4\n"
          ]
        }
      ]
    },
    {
      "cell_type": "code",
      "source": [
        "!pip install sacremoses #TransfoXLTokenizer requires the sacremoses library"
      ],
      "metadata": {
        "colab": {
          "base_uri": "https://localhost:8080/"
        },
        "id": "ASMYlisSEFop",
        "outputId": "e1a9464c-2d15-4179-c40d-b9c5f8bb103f"
      },
      "execution_count": 75,
      "outputs": [
        {
          "output_type": "stream",
          "name": "stdout",
          "text": [
            "Requirement already satisfied: sacremoses in /usr/local/lib/python3.10/dist-packages (0.0.53)\n",
            "Requirement already satisfied: regex in /usr/local/lib/python3.10/dist-packages (from sacremoses) (2023.6.3)\n",
            "Requirement already satisfied: six in /usr/local/lib/python3.10/dist-packages (from sacremoses) (1.16.0)\n",
            "Requirement already satisfied: click in /usr/local/lib/python3.10/dist-packages (from sacremoses) (8.1.7)\n",
            "Requirement already satisfied: joblib in /usr/local/lib/python3.10/dist-packages (from sacremoses) (1.3.2)\n",
            "Requirement already satisfied: tqdm in /usr/local/lib/python3.10/dist-packages (from sacremoses) (4.66.1)\n"
          ]
        }
      ]
    },
    {
      "cell_type": "code",
      "source": [
        "import datasets as ds\n",
        "quora = ds.load_dataset(\"quora\", split=\"train\", download_mode=\"force_redownload\")"
      ],
      "metadata": {
        "id": "qZCrgpCBOYFy",
        "colab": {
          "base_uri": "https://localhost:8080/",
          "height": 241,
          "referenced_widgets": [
            "8e18d8b137d5459aa605857597aed1e4",
            "d625a7045cec4d9bb8b646c59888390c",
            "fba1b5e85ab24a08a7c5a90087ed3100",
            "badfc2c92ab64220a68cfbfbb9bc90a4",
            "516755a76850408ca37087f60db11de1",
            "9b4b465936954e06b913c7fe3060a422",
            "318f834d68e543f985826a1d473111f9",
            "e621b869bce148358de53ec50113e558",
            "567b534f32434b259e7afed4dc77d807",
            "bc032d4891ca47a2accd03d9f00f8ccb",
            "2cd088d7251a4815934208628476eca6",
            "2a6e88c831af4e2baa4f6bb3a6cf2a01",
            "5746ee2ef5a14b5e95b4bb93dae291f0",
            "869e2c74986944e0af22719a4ebaf0d8",
            "308ce3ec0a4e407f9f9e1822fa10c1f0",
            "7534f8696793410e9445c85c0a96f0ae",
            "bda77ab46f12422daee8ace7b27c4310",
            "4911d5033efb44e4a1f2d1d2ee8615ee",
            "b1a38acdab5b4458b4d22c591b73e9c7",
            "6bec85fcde1d47d883cf1e5d95df2bcd",
            "180df2a007af47bb925b06368ce13915",
            "27e443bc627a4dc7a69bcca39031a2fb",
            "0616e14a67c14009bcccc43043e8082f",
            "027f0777b5b04a4aa9be18e35c282aaf",
            "cb458772c4c94a438f78e2c3ea62190a",
            "55e782fa012c4e979212bf4ce986442b",
            "0db2f5aba8db46359d2d26774ea1df8f",
            "2e4c86e473834a44aba0ff73c8262ce2",
            "8cc6b9ba6fb7410fbbd8d6a0b43b6838",
            "b29f91f804f04a3dbf321626f2e9d76c",
            "e9e97c7ce3e94956a4f65e19fd891bcd",
            "58ed400de40c465bba00df400ee0b771",
            "99a1772d3bd546b0818d1ebecd34b04e",
            "122a1340e5ad44eaba3533d6bcd4f064",
            "1746bb80357e480f886d0668373779ee",
            "3643c745fbd14a37b328756c32ae0302",
            "acfb3e8059d941f2ba8b96ea363b76ea",
            "2bd4738ccfac46ffb0c4c57e2ac2c3d7",
            "e6364b78bb414660b17d30834ef9a6d4",
            "d1440ed962094843a2b34092f0a32ab1",
            "bbe70c3789d24b338526814f8d6b8ae7",
            "9ce4a5bd31e847059259440714f8cacb",
            "405eabc0914d4487b7a5458c39a65656",
            "0753898c8a0f4a2ca1121a3a1c2d41f3",
            "1fc0961580b144b59efe4f682f638afe",
            "f74a1638c9f6449fbdc5beecc95d3062",
            "922c349bb09c484f8d1e143052180e5f",
            "3244fc37d1944f3d85d22ce554598482",
            "b883b54711f643c2969701085ea80b1a",
            "29862cc5574344c688f24b39089d6219",
            "96d563e39a974bda9589b541e7be6784",
            "e9d07213de1c4a56ac0307bae3dfd2cb",
            "831ca213191a44fbb3a319696b54849f",
            "ca4e40014c304f87af29f1a510d13b03",
            "d5514775a7e241eb91257c9af5629912",
            "8dfd24f15ca34d7ea85f34cfe80239ff",
            "21346e8457904cf7b2fd14c8771fe6a2",
            "f77dae7ecaab4b2190641bfc4380301e",
            "aabdc24f2b2249e99101f4783382a17c",
            "c6f926902abd497a9d426d60e8e1e9ff",
            "b0985e8975744d838d69b53e4084746b",
            "7b225f22a2e04922af569df01577418e",
            "5e68439fe8e946388b7cba704cfddf5e",
            "b5793aa02f1a47629eda0352eb410d4a",
            "325b1bc14ee346f3817d3e4bf894bcd6",
            "2a64b89535b147da81116db968e676f3",
            "6045cf6659d7445ba46fadc14bf0743e",
            "e6f75e4a6d38430caf8e4a358dc04cb7",
            "f50f40765c0a4a62ac0b021fcace9a8a",
            "5352a53374c5488d8fb6e21d4aaf769b",
            "a72e9ec6da86494c8eb27b75b4005afb",
            "63cb885db3354a1eb904fbea07b31164",
            "39b3a3442cc24b85bb8f7af8ae8d15c7",
            "4d1f70232d504ab3a8aa70d1cd440628",
            "f5582e158212428d8074fc58a5955c2f",
            "33ac7e739cf94b57b84a39271c43e305",
            "f1a82c662665432dae40b50a7453dd57"
          ]
        },
        "outputId": "06617f44-ab2c-4cef-9936-4cb357e3a8eb"
      },
      "execution_count": 76,
      "outputs": [
        {
          "output_type": "display_data",
          "data": {
            "text/plain": [
              "Downloading builder script:   0%|          | 0.00/2.38k [00:00<?, ?B/s]"
            ],
            "application/vnd.jupyter.widget-view+json": {
              "version_major": 2,
              "version_minor": 0,
              "model_id": "8e18d8b137d5459aa605857597aed1e4"
            }
          },
          "metadata": {}
        },
        {
          "output_type": "display_data",
          "data": {
            "text/plain": [
              "Downloading metadata:   0%|          | 0.00/1.13k [00:00<?, ?B/s]"
            ],
            "application/vnd.jupyter.widget-view+json": {
              "version_major": 2,
              "version_minor": 0,
              "model_id": "2a6e88c831af4e2baa4f6bb3a6cf2a01"
            }
          },
          "metadata": {}
        },
        {
          "output_type": "display_data",
          "data": {
            "text/plain": [
              "Downloading readme:   0%|          | 0.00/5.69k [00:00<?, ?B/s]"
            ],
            "application/vnd.jupyter.widget-view+json": {
              "version_major": 2,
              "version_minor": 0,
              "model_id": "0616e14a67c14009bcccc43043e8082f"
            }
          },
          "metadata": {}
        },
        {
          "output_type": "display_data",
          "data": {
            "text/plain": [
              "Downloading data files:   0%|          | 0/1 [00:00<?, ?it/s]"
            ],
            "application/vnd.jupyter.widget-view+json": {
              "version_major": 2,
              "version_minor": 0,
              "model_id": "122a1340e5ad44eaba3533d6bcd4f064"
            }
          },
          "metadata": {}
        },
        {
          "output_type": "display_data",
          "data": {
            "text/plain": [
              "Downloading data:   0%|          | 0.00/58.2M [00:00<?, ?B/s]"
            ],
            "application/vnd.jupyter.widget-view+json": {
              "version_major": 2,
              "version_minor": 0,
              "model_id": "1fc0961580b144b59efe4f682f638afe"
            }
          },
          "metadata": {}
        },
        {
          "output_type": "display_data",
          "data": {
            "text/plain": [
              "Extracting data files:   0%|          | 0/1 [00:00<?, ?it/s]"
            ],
            "application/vnd.jupyter.widget-view+json": {
              "version_major": 2,
              "version_minor": 0,
              "model_id": "8dfd24f15ca34d7ea85f34cfe80239ff"
            }
          },
          "metadata": {}
        },
        {
          "output_type": "display_data",
          "data": {
            "text/plain": [
              "Generating train split:   0%|          | 0/404290 [00:00<?, ? examples/s]"
            ],
            "application/vnd.jupyter.widget-view+json": {
              "version_major": 2,
              "version_minor": 0,
              "model_id": "6045cf6659d7445ba46fadc14bf0743e"
            }
          },
          "metadata": {}
        }
      ]
    },
    {
      "cell_type": "code",
      "source": [
        "len(quora)"
      ],
      "metadata": {
        "id": "PdNfkhWxOYIP",
        "colab": {
          "base_uri": "https://localhost:8080/"
        },
        "outputId": "efea5e59-79cf-4f5a-d038-95f61b2ab36f"
      },
      "execution_count": 77,
      "outputs": [
        {
          "output_type": "execute_result",
          "data": {
            "text/plain": [
              "404290"
            ]
          },
          "metadata": {},
          "execution_count": 77
        }
      ]
    },
    {
      "cell_type": "code",
      "source": [
        "quora[5] #same example"
      ],
      "metadata": {
        "id": "B2sk2YgmOYKk",
        "colab": {
          "base_uri": "https://localhost:8080/"
        },
        "outputId": "2d184d43-d23d-4503-bdb3-19c1c94c0c26"
      },
      "execution_count": 78,
      "outputs": [
        {
          "output_type": "execute_result",
          "data": {
            "text/plain": [
              "{'questions': {'id': [11, 12],\n",
              "  'text': ['Astrology: I am a Capricorn Sun Cap moon and cap rising...what does that say about me?',\n",
              "   \"I'm a triple Capricorn (Sun, Moon and ascendant in Capricorn) What does this say about me?\"]},\n",
              " 'is_duplicate': True}"
            ]
          },
          "metadata": {},
          "execution_count": 78
        }
      ]
    },
    {
      "cell_type": "code",
      "source": [
        "quora[30] #different example"
      ],
      "metadata": {
        "id": "qRnYfh0SOYNZ",
        "colab": {
          "base_uri": "https://localhost:8080/"
        },
        "outputId": "3439b4c0-8cd7-484d-83b5-aa1a25e3785b"
      },
      "execution_count": 79,
      "outputs": [
        {
          "output_type": "execute_result",
          "data": {
            "text/plain": [
              "{'questions': {'id': [61, 62],\n",
              "  'text': [\"What's one thing you would like to do better?\",\n",
              "   \"What's one thing you do despite knowing better?\"]},\n",
              " 'is_duplicate': False}"
            ]
          },
          "metadata": {},
          "execution_count": 79
        }
      ]
    },
    {
      "cell_type": "code",
      "source": [
        "import pandas as pd\n",
        "\n",
        "df = quora.to_pandas()"
      ],
      "metadata": {
        "id": "HBJE_bSjOYPz"
      },
      "execution_count": 80,
      "outputs": []
    },
    {
      "cell_type": "code",
      "source": [
        "df.head()"
      ],
      "metadata": {
        "id": "mlmCL42SOYSL",
        "colab": {
          "base_uri": "https://localhost:8080/",
          "height": 206
        },
        "outputId": "943cc1db-89bd-43ee-e430-a5fc094cfa15"
      },
      "execution_count": 81,
      "outputs": [
        {
          "output_type": "execute_result",
          "data": {
            "text/plain": [
              "                                           questions  is_duplicate\n",
              "0  {'id': [1, 2], 'text': ['What is the step by s...         False\n",
              "1  {'id': [3, 4], 'text': ['What is the story of ...         False\n",
              "2  {'id': [5, 6], 'text': ['How can I increase th...         False\n",
              "3  {'id': [7, 8], 'text': ['Why am I mentally ver...         False\n",
              "4  {'id': [9, 10], 'text': ['Which one dissolve i...         False"
            ],
            "text/html": [
              "\n",
              "  <div id=\"df-ea4a5fea-b839-46c1-bcb2-e012d8ff8cb0\" class=\"colab-df-container\">\n",
              "    <div>\n",
              "<style scoped>\n",
              "    .dataframe tbody tr th:only-of-type {\n",
              "        vertical-align: middle;\n",
              "    }\n",
              "\n",
              "    .dataframe tbody tr th {\n",
              "        vertical-align: top;\n",
              "    }\n",
              "\n",
              "    .dataframe thead th {\n",
              "        text-align: right;\n",
              "    }\n",
              "</style>\n",
              "<table border=\"1\" class=\"dataframe\">\n",
              "  <thead>\n",
              "    <tr style=\"text-align: right;\">\n",
              "      <th></th>\n",
              "      <th>questions</th>\n",
              "      <th>is_duplicate</th>\n",
              "    </tr>\n",
              "  </thead>\n",
              "  <tbody>\n",
              "    <tr>\n",
              "      <th>0</th>\n",
              "      <td>{'id': [1, 2], 'text': ['What is the step by s...</td>\n",
              "      <td>False</td>\n",
              "    </tr>\n",
              "    <tr>\n",
              "      <th>1</th>\n",
              "      <td>{'id': [3, 4], 'text': ['What is the story of ...</td>\n",
              "      <td>False</td>\n",
              "    </tr>\n",
              "    <tr>\n",
              "      <th>2</th>\n",
              "      <td>{'id': [5, 6], 'text': ['How can I increase th...</td>\n",
              "      <td>False</td>\n",
              "    </tr>\n",
              "    <tr>\n",
              "      <th>3</th>\n",
              "      <td>{'id': [7, 8], 'text': ['Why am I mentally ver...</td>\n",
              "      <td>False</td>\n",
              "    </tr>\n",
              "    <tr>\n",
              "      <th>4</th>\n",
              "      <td>{'id': [9, 10], 'text': ['Which one dissolve i...</td>\n",
              "      <td>False</td>\n",
              "    </tr>\n",
              "  </tbody>\n",
              "</table>\n",
              "</div>\n",
              "    <div class=\"colab-df-buttons\">\n",
              "\n",
              "  <div class=\"colab-df-container\">\n",
              "    <button class=\"colab-df-convert\" onclick=\"convertToInteractive('df-ea4a5fea-b839-46c1-bcb2-e012d8ff8cb0')\"\n",
              "            title=\"Convert this dataframe to an interactive table.\"\n",
              "            style=\"display:none;\">\n",
              "\n",
              "  <svg xmlns=\"http://www.w3.org/2000/svg\" height=\"24px\" viewBox=\"0 -960 960 960\">\n",
              "    <path d=\"M120-120v-720h720v720H120Zm60-500h600v-160H180v160Zm220 220h160v-160H400v160Zm0 220h160v-160H400v160ZM180-400h160v-160H180v160Zm440 0h160v-160H620v160ZM180-180h160v-160H180v160Zm440 0h160v-160H620v160Z\"/>\n",
              "  </svg>\n",
              "    </button>\n",
              "\n",
              "  <style>\n",
              "    .colab-df-container {\n",
              "      display:flex;\n",
              "      gap: 12px;\n",
              "    }\n",
              "\n",
              "    .colab-df-convert {\n",
              "      background-color: #E8F0FE;\n",
              "      border: none;\n",
              "      border-radius: 50%;\n",
              "      cursor: pointer;\n",
              "      display: none;\n",
              "      fill: #1967D2;\n",
              "      height: 32px;\n",
              "      padding: 0 0 0 0;\n",
              "      width: 32px;\n",
              "    }\n",
              "\n",
              "    .colab-df-convert:hover {\n",
              "      background-color: #E2EBFA;\n",
              "      box-shadow: 0px 1px 2px rgba(60, 64, 67, 0.3), 0px 1px 3px 1px rgba(60, 64, 67, 0.15);\n",
              "      fill: #174EA6;\n",
              "    }\n",
              "\n",
              "    .colab-df-buttons div {\n",
              "      margin-bottom: 4px;\n",
              "    }\n",
              "\n",
              "    [theme=dark] .colab-df-convert {\n",
              "      background-color: #3B4455;\n",
              "      fill: #D2E3FC;\n",
              "    }\n",
              "\n",
              "    [theme=dark] .colab-df-convert:hover {\n",
              "      background-color: #434B5C;\n",
              "      box-shadow: 0px 1px 3px 1px rgba(0, 0, 0, 0.15);\n",
              "      filter: drop-shadow(0px 1px 2px rgba(0, 0, 0, 0.3));\n",
              "      fill: #FFFFFF;\n",
              "    }\n",
              "  </style>\n",
              "\n",
              "    <script>\n",
              "      const buttonEl =\n",
              "        document.querySelector('#df-ea4a5fea-b839-46c1-bcb2-e012d8ff8cb0 button.colab-df-convert');\n",
              "      buttonEl.style.display =\n",
              "        google.colab.kernel.accessAllowed ? 'block' : 'none';\n",
              "\n",
              "      async function convertToInteractive(key) {\n",
              "        const element = document.querySelector('#df-ea4a5fea-b839-46c1-bcb2-e012d8ff8cb0');\n",
              "        const dataTable =\n",
              "          await google.colab.kernel.invokeFunction('convertToInteractive',\n",
              "                                                    [key], {});\n",
              "        if (!dataTable) return;\n",
              "\n",
              "        const docLinkHtml = 'Like what you see? Visit the ' +\n",
              "          '<a target=\"_blank\" href=https://colab.research.google.com/notebooks/data_table.ipynb>data table notebook</a>'\n",
              "          + ' to learn more about interactive tables.';\n",
              "        element.innerHTML = '';\n",
              "        dataTable['output_type'] = 'display_data';\n",
              "        await google.colab.output.renderOutput(dataTable, element);\n",
              "        const docLink = document.createElement('div');\n",
              "        docLink.innerHTML = docLinkHtml;\n",
              "        element.appendChild(docLink);\n",
              "      }\n",
              "    </script>\n",
              "  </div>\n",
              "\n",
              "\n",
              "<div id=\"df-d7b6b403-3c26-4caa-a3f1-5b7b5e9363e1\">\n",
              "  <button class=\"colab-df-quickchart\" onclick=\"quickchart('df-d7b6b403-3c26-4caa-a3f1-5b7b5e9363e1')\"\n",
              "            title=\"Suggest charts.\"\n",
              "            style=\"display:none;\">\n",
              "\n",
              "<svg xmlns=\"http://www.w3.org/2000/svg\" height=\"24px\"viewBox=\"0 0 24 24\"\n",
              "     width=\"24px\">\n",
              "    <g>\n",
              "        <path d=\"M19 3H5c-1.1 0-2 .9-2 2v14c0 1.1.9 2 2 2h14c1.1 0 2-.9 2-2V5c0-1.1-.9-2-2-2zM9 17H7v-7h2v7zm4 0h-2V7h2v10zm4 0h-2v-4h2v4z\"/>\n",
              "    </g>\n",
              "</svg>\n",
              "  </button>\n",
              "\n",
              "<style>\n",
              "  .colab-df-quickchart {\n",
              "      --bg-color: #E8F0FE;\n",
              "      --fill-color: #1967D2;\n",
              "      --hover-bg-color: #E2EBFA;\n",
              "      --hover-fill-color: #174EA6;\n",
              "      --disabled-fill-color: #AAA;\n",
              "      --disabled-bg-color: #DDD;\n",
              "  }\n",
              "\n",
              "  [theme=dark] .colab-df-quickchart {\n",
              "      --bg-color: #3B4455;\n",
              "      --fill-color: #D2E3FC;\n",
              "      --hover-bg-color: #434B5C;\n",
              "      --hover-fill-color: #FFFFFF;\n",
              "      --disabled-bg-color: #3B4455;\n",
              "      --disabled-fill-color: #666;\n",
              "  }\n",
              "\n",
              "  .colab-df-quickchart {\n",
              "    background-color: var(--bg-color);\n",
              "    border: none;\n",
              "    border-radius: 50%;\n",
              "    cursor: pointer;\n",
              "    display: none;\n",
              "    fill: var(--fill-color);\n",
              "    height: 32px;\n",
              "    padding: 0;\n",
              "    width: 32px;\n",
              "  }\n",
              "\n",
              "  .colab-df-quickchart:hover {\n",
              "    background-color: var(--hover-bg-color);\n",
              "    box-shadow: 0 1px 2px rgba(60, 64, 67, 0.3), 0 1px 3px 1px rgba(60, 64, 67, 0.15);\n",
              "    fill: var(--button-hover-fill-color);\n",
              "  }\n",
              "\n",
              "  .colab-df-quickchart-complete:disabled,\n",
              "  .colab-df-quickchart-complete:disabled:hover {\n",
              "    background-color: var(--disabled-bg-color);\n",
              "    fill: var(--disabled-fill-color);\n",
              "    box-shadow: none;\n",
              "  }\n",
              "\n",
              "  .colab-df-spinner {\n",
              "    border: 2px solid var(--fill-color);\n",
              "    border-color: transparent;\n",
              "    border-bottom-color: var(--fill-color);\n",
              "    animation:\n",
              "      spin 1s steps(1) infinite;\n",
              "  }\n",
              "\n",
              "  @keyframes spin {\n",
              "    0% {\n",
              "      border-color: transparent;\n",
              "      border-bottom-color: var(--fill-color);\n",
              "      border-left-color: var(--fill-color);\n",
              "    }\n",
              "    20% {\n",
              "      border-color: transparent;\n",
              "      border-left-color: var(--fill-color);\n",
              "      border-top-color: var(--fill-color);\n",
              "    }\n",
              "    30% {\n",
              "      border-color: transparent;\n",
              "      border-left-color: var(--fill-color);\n",
              "      border-top-color: var(--fill-color);\n",
              "      border-right-color: var(--fill-color);\n",
              "    }\n",
              "    40% {\n",
              "      border-color: transparent;\n",
              "      border-right-color: var(--fill-color);\n",
              "      border-top-color: var(--fill-color);\n",
              "    }\n",
              "    60% {\n",
              "      border-color: transparent;\n",
              "      border-right-color: var(--fill-color);\n",
              "    }\n",
              "    80% {\n",
              "      border-color: transparent;\n",
              "      border-right-color: var(--fill-color);\n",
              "      border-bottom-color: var(--fill-color);\n",
              "    }\n",
              "    90% {\n",
              "      border-color: transparent;\n",
              "      border-bottom-color: var(--fill-color);\n",
              "    }\n",
              "  }\n",
              "</style>\n",
              "\n",
              "  <script>\n",
              "    async function quickchart(key) {\n",
              "      const quickchartButtonEl =\n",
              "        document.querySelector('#' + key + ' button');\n",
              "      quickchartButtonEl.disabled = true;  // To prevent multiple clicks.\n",
              "      quickchartButtonEl.classList.add('colab-df-spinner');\n",
              "      try {\n",
              "        const charts = await google.colab.kernel.invokeFunction(\n",
              "            'suggestCharts', [key], {});\n",
              "      } catch (error) {\n",
              "        console.error('Error during call to suggestCharts:', error);\n",
              "      }\n",
              "      quickchartButtonEl.classList.remove('colab-df-spinner');\n",
              "      quickchartButtonEl.classList.add('colab-df-quickchart-complete');\n",
              "    }\n",
              "    (() => {\n",
              "      let quickchartButtonEl =\n",
              "        document.querySelector('#df-d7b6b403-3c26-4caa-a3f1-5b7b5e9363e1 button');\n",
              "      quickchartButtonEl.style.display =\n",
              "        google.colab.kernel.accessAllowed ? 'block' : 'none';\n",
              "    })();\n",
              "  </script>\n",
              "</div>\n",
              "    </div>\n",
              "  </div>\n"
            ]
          },
          "metadata": {},
          "execution_count": 81
        }
      ]
    },
    {
      "cell_type": "code",
      "source": [
        "#extracting the text\n",
        "df.columns"
      ],
      "metadata": {
        "id": "mGe7LxgWOYUp",
        "colab": {
          "base_uri": "https://localhost:8080/"
        },
        "outputId": "370fd0ca-ff0a-422a-e2db-848919ae2142"
      },
      "execution_count": 82,
      "outputs": [
        {
          "output_type": "execute_result",
          "data": {
            "text/plain": [
              "Index(['questions', 'is_duplicate'], dtype='object')"
            ]
          },
          "metadata": {},
          "execution_count": 82
        }
      ]
    },
    {
      "cell_type": "code",
      "source": [
        "df['questions'][0]"
      ],
      "metadata": {
        "id": "IjI3EFuIOYXQ",
        "colab": {
          "base_uri": "https://localhost:8080/"
        },
        "outputId": "cc5a471e-0059-4fa2-deb4-ac0409fde85d"
      },
      "execution_count": 83,
      "outputs": [
        {
          "output_type": "execute_result",
          "data": {
            "text/plain": [
              "{'id': array([1, 2], dtype=int32),\n",
              " 'text': array(['What is the step by step guide to invest in share market in india?',\n",
              "        'What is the step by step guide to invest in share market?'],\n",
              "       dtype=object)}"
            ]
          },
          "metadata": {},
          "execution_count": 83
        }
      ]
    },
    {
      "cell_type": "code",
      "source": [
        "import numpy as np\n",
        "\n",
        "def extract_text_from_numpy_dict(data):\n",
        "    # Check if the input is a dictionary-like structure\n",
        "    if isinstance(data, dict):\n",
        "        # Check if the 'text' key exists and if it contains a NumPy array\n",
        "        if 'text' in data and isinstance(data['text'], np.ndarray):\n",
        "            return data['text'].tolist()  # Convert the NumPy array to a Python list\n",
        "    return None  # Return None if the structure doesn't match"
      ],
      "metadata": {
        "id": "m_075HqiOYaR"
      },
      "execution_count": 84,
      "outputs": []
    },
    {
      "cell_type": "code",
      "source": [
        "text_part = extract_text_from_numpy_dict(df['questions'][1])"
      ],
      "metadata": {
        "id": "ZQqpsCdtOYcz"
      },
      "execution_count": 85,
      "outputs": []
    },
    {
      "cell_type": "code",
      "source": [
        "print(text_part)"
      ],
      "metadata": {
        "id": "VkefwimaOYfc",
        "colab": {
          "base_uri": "https://localhost:8080/"
        },
        "outputId": "e84e2153-e8b7-44f9-9f10-ba49cfeeef4d"
      },
      "execution_count": 86,
      "outputs": [
        {
          "output_type": "stream",
          "name": "stdout",
          "text": [
            "['What is the story of Kohinoor (Koh-i-Noor) Diamond?', 'What would happen if the Indian government stole the Kohinoor (Koh-i-Noor) diamond back?']\n"
          ]
        }
      ]
    },
    {
      "cell_type": "code",
      "source": [
        "#for iteration through a column\n",
        "\n",
        "def extract_text_from_numpy_dict_column(dataframe, column_name):\n",
        "    text_parts = []\n",
        "\n",
        "    for index, row in dataframe.iterrows():\n",
        "        data = row[column_name]\n",
        "\n",
        "        # Check if the input is a dictionary-like structure\n",
        "        if isinstance(data, dict):\n",
        "            # Check if the 'text' key exists and if it contains a NumPy array\n",
        "            if 'text' in data and isinstance(data['text'], np.ndarray):\n",
        "                text_parts.append(data['text'].tolist())  # Convert the NumPy array to a Python list\n",
        "            else:\n",
        "                text_parts.append(None)\n",
        "        else:\n",
        "            text_parts.append(None)\n",
        "\n",
        "    return text_parts\n"
      ],
      "metadata": {
        "id": "Dj1LsbMUOYiJ"
      },
      "execution_count": 87,
      "outputs": []
    },
    {
      "cell_type": "code",
      "source": [
        "text_parts = extract_text_from_numpy_dict_column(df, 'questions')\n",
        "\n",
        "# Display the result\n",
        "'''\n",
        "for i, text_part in enumerate(text_parts):\n",
        "    print(f\"Row {i + 1}: {text_part}\")\n",
        "'''"
      ],
      "metadata": {
        "id": "m0d-xxsrOYnj",
        "colab": {
          "base_uri": "https://localhost:8080/",
          "height": 35
        },
        "outputId": "dc4f4546-874d-48cb-dd4c-15407636d265"
      },
      "execution_count": 88,
      "outputs": [
        {
          "output_type": "execute_result",
          "data": {
            "text/plain": [
              "'\\nfor i, text_part in enumerate(text_parts):\\n    print(f\"Row {i + 1}: {text_part}\")\\n'"
            ],
            "application/vnd.google.colaboratory.intrinsic+json": {
              "type": "string"
            }
          },
          "metadata": {},
          "execution_count": 88
        }
      ]
    },
    {
      "cell_type": "code",
      "source": [
        "len(text_parts)"
      ],
      "metadata": {
        "colab": {
          "base_uri": "https://localhost:8080/"
        },
        "id": "NO0Qx86eO5_K",
        "outputId": "d38382dc-be61-4d8f-ada8-07037ef7e73f"
      },
      "execution_count": 89,
      "outputs": [
        {
          "output_type": "execute_result",
          "data": {
            "text/plain": [
              "404290"
            ]
          },
          "metadata": {},
          "execution_count": 89
        }
      ]
    },
    {
      "cell_type": "code",
      "source": [
        "text_parts[0:5]"
      ],
      "metadata": {
        "colab": {
          "base_uri": "https://localhost:8080/"
        },
        "id": "wRyVAw3U2pFR",
        "outputId": "77e718d2-335b-4b67-9635-7bec45db4ac8"
      },
      "execution_count": 90,
      "outputs": [
        {
          "output_type": "execute_result",
          "data": {
            "text/plain": [
              "[['What is the step by step guide to invest in share market in india?',\n",
              "  'What is the step by step guide to invest in share market?'],\n",
              " ['What is the story of Kohinoor (Koh-i-Noor) Diamond?',\n",
              "  'What would happen if the Indian government stole the Kohinoor (Koh-i-Noor) diamond back?'],\n",
              " ['How can I increase the speed of my internet connection while using a VPN?',\n",
              "  'How can Internet speed be increased by hacking through DNS?'],\n",
              " ['Why am I mentally very lonely? How can I solve it?',\n",
              "  'Find the remainder when [math]23^{24}[/math] is divided by 24,23?'],\n",
              " ['Which one dissolve in water quikly sugar, salt, methane and carbon di oxide?',\n",
              "  'Which fish would survive in salt water?']]"
            ]
          },
          "metadata": {},
          "execution_count": 90
        }
      ]
    },
    {
      "cell_type": "code",
      "source": [
        "text_parts[0]"
      ],
      "metadata": {
        "id": "xLTRN5EGOYp_",
        "colab": {
          "base_uri": "https://localhost:8080/"
        },
        "outputId": "8aaced1c-fc2a-434a-ebc4-fb7ffff8fe41"
      },
      "execution_count": 91,
      "outputs": [
        {
          "output_type": "execute_result",
          "data": {
            "text/plain": [
              "['What is the step by step guide to invest in share market in india?',\n",
              " 'What is the step by step guide to invest in share market?']"
            ]
          },
          "metadata": {},
          "execution_count": 91
        }
      ]
    },
    {
      "cell_type": "code",
      "source": [
        "text2 = [text.split(',') for text in text_parts[0]]\n",
        "text2[0]"
      ],
      "metadata": {
        "id": "RoXu4wXgOYt6",
        "colab": {
          "base_uri": "https://localhost:8080/"
        },
        "outputId": "0819c1df-42a9-43ea-ad12-c291811e8cca"
      },
      "execution_count": 92,
      "outputs": [
        {
          "output_type": "execute_result",
          "data": {
            "text/plain": [
              "['What is the step by step guide to invest in share market in india?']"
            ]
          },
          "metadata": {},
          "execution_count": 92
        }
      ]
    },
    {
      "cell_type": "code",
      "source": [
        "'''\n",
        "def split_text_in_dataframe_column(dataframe, column_name):\n",
        "    text_parts = extract_text_from_numpy_dict_column(dataframe, column_name)\n",
        "    text2_column = []\n",
        "\n",
        "    for text_part in text_parts:\n",
        "        if text_part is not None:\n",
        "            text2 = [text.split(', ') for text in text_part]\n",
        "        else:\n",
        "            text2 = []\n",
        "        text2_column.append(text2)\n",
        "\n",
        "    dataframe['text2'] = text2_column\n",
        "'''"
      ],
      "metadata": {
        "id": "VArqBAcHOYwj",
        "colab": {
          "base_uri": "https://localhost:8080/",
          "height": 87
        },
        "outputId": "fa006335-3b6c-45e1-be6f-2adde53c844d"
      },
      "execution_count": 93,
      "outputs": [
        {
          "output_type": "execute_result",
          "data": {
            "text/plain": [
              "\"\\ndef split_text_in_dataframe_column(dataframe, column_name):\\n    text_parts = extract_text_from_numpy_dict_column(dataframe, column_name)\\n    text2_column = []\\n\\n    for text_part in text_parts:\\n        if text_part is not None:\\n            text2 = [text.split(', ') for text in text_part]\\n        else:\\n            text2 = []\\n        text2_column.append(text2)\\n\\n    dataframe['text2'] = text2_column\\n\""
            ],
            "application/vnd.google.colaboratory.intrinsic+json": {
              "type": "string"
            }
          },
          "metadata": {},
          "execution_count": 93
        }
      ]
    },
    {
      "cell_type": "code",
      "source": [
        "import pandas as pd\n",
        "df = pd.DataFrame(text_parts)\n",
        "df.head()"
      ],
      "metadata": {
        "id": "xmmhbYl2OYzB",
        "colab": {
          "base_uri": "https://localhost:8080/",
          "height": 206
        },
        "outputId": "38e51493-5346-43b6-adc0-db29533ae640"
      },
      "execution_count": 94,
      "outputs": [
        {
          "output_type": "execute_result",
          "data": {
            "text/plain": [
              "                                                   0  \\\n",
              "0  What is the step by step guide to invest in sh...   \n",
              "1  What is the story of Kohinoor (Koh-i-Noor) Dia...   \n",
              "2  How can I increase the speed of my internet co...   \n",
              "3  Why am I mentally very lonely? How can I solve...   \n",
              "4  Which one dissolve in water quikly sugar, salt...   \n",
              "\n",
              "                                                   1  \n",
              "0  What is the step by step guide to invest in sh...  \n",
              "1  What would happen if the Indian government sto...  \n",
              "2  How can Internet speed be increased by hacking...  \n",
              "3  Find the remainder when [math]23^{24}[/math] i...  \n",
              "4            Which fish would survive in salt water?  "
            ],
            "text/html": [
              "\n",
              "  <div id=\"df-1bb6f805-380e-4435-ae97-526087dfa38f\" class=\"colab-df-container\">\n",
              "    <div>\n",
              "<style scoped>\n",
              "    .dataframe tbody tr th:only-of-type {\n",
              "        vertical-align: middle;\n",
              "    }\n",
              "\n",
              "    .dataframe tbody tr th {\n",
              "        vertical-align: top;\n",
              "    }\n",
              "\n",
              "    .dataframe thead th {\n",
              "        text-align: right;\n",
              "    }\n",
              "</style>\n",
              "<table border=\"1\" class=\"dataframe\">\n",
              "  <thead>\n",
              "    <tr style=\"text-align: right;\">\n",
              "      <th></th>\n",
              "      <th>0</th>\n",
              "      <th>1</th>\n",
              "    </tr>\n",
              "  </thead>\n",
              "  <tbody>\n",
              "    <tr>\n",
              "      <th>0</th>\n",
              "      <td>What is the step by step guide to invest in sh...</td>\n",
              "      <td>What is the step by step guide to invest in sh...</td>\n",
              "    </tr>\n",
              "    <tr>\n",
              "      <th>1</th>\n",
              "      <td>What is the story of Kohinoor (Koh-i-Noor) Dia...</td>\n",
              "      <td>What would happen if the Indian government sto...</td>\n",
              "    </tr>\n",
              "    <tr>\n",
              "      <th>2</th>\n",
              "      <td>How can I increase the speed of my internet co...</td>\n",
              "      <td>How can Internet speed be increased by hacking...</td>\n",
              "    </tr>\n",
              "    <tr>\n",
              "      <th>3</th>\n",
              "      <td>Why am I mentally very lonely? How can I solve...</td>\n",
              "      <td>Find the remainder when [math]23^{24}[/math] i...</td>\n",
              "    </tr>\n",
              "    <tr>\n",
              "      <th>4</th>\n",
              "      <td>Which one dissolve in water quikly sugar, salt...</td>\n",
              "      <td>Which fish would survive in salt water?</td>\n",
              "    </tr>\n",
              "  </tbody>\n",
              "</table>\n",
              "</div>\n",
              "    <div class=\"colab-df-buttons\">\n",
              "\n",
              "  <div class=\"colab-df-container\">\n",
              "    <button class=\"colab-df-convert\" onclick=\"convertToInteractive('df-1bb6f805-380e-4435-ae97-526087dfa38f')\"\n",
              "            title=\"Convert this dataframe to an interactive table.\"\n",
              "            style=\"display:none;\">\n",
              "\n",
              "  <svg xmlns=\"http://www.w3.org/2000/svg\" height=\"24px\" viewBox=\"0 -960 960 960\">\n",
              "    <path d=\"M120-120v-720h720v720H120Zm60-500h600v-160H180v160Zm220 220h160v-160H400v160Zm0 220h160v-160H400v160ZM180-400h160v-160H180v160Zm440 0h160v-160H620v160ZM180-180h160v-160H180v160Zm440 0h160v-160H620v160Z\"/>\n",
              "  </svg>\n",
              "    </button>\n",
              "\n",
              "  <style>\n",
              "    .colab-df-container {\n",
              "      display:flex;\n",
              "      gap: 12px;\n",
              "    }\n",
              "\n",
              "    .colab-df-convert {\n",
              "      background-color: #E8F0FE;\n",
              "      border: none;\n",
              "      border-radius: 50%;\n",
              "      cursor: pointer;\n",
              "      display: none;\n",
              "      fill: #1967D2;\n",
              "      height: 32px;\n",
              "      padding: 0 0 0 0;\n",
              "      width: 32px;\n",
              "    }\n",
              "\n",
              "    .colab-df-convert:hover {\n",
              "      background-color: #E2EBFA;\n",
              "      box-shadow: 0px 1px 2px rgba(60, 64, 67, 0.3), 0px 1px 3px 1px rgba(60, 64, 67, 0.15);\n",
              "      fill: #174EA6;\n",
              "    }\n",
              "\n",
              "    .colab-df-buttons div {\n",
              "      margin-bottom: 4px;\n",
              "    }\n",
              "\n",
              "    [theme=dark] .colab-df-convert {\n",
              "      background-color: #3B4455;\n",
              "      fill: #D2E3FC;\n",
              "    }\n",
              "\n",
              "    [theme=dark] .colab-df-convert:hover {\n",
              "      background-color: #434B5C;\n",
              "      box-shadow: 0px 1px 3px 1px rgba(0, 0, 0, 0.15);\n",
              "      filter: drop-shadow(0px 1px 2px rgba(0, 0, 0, 0.3));\n",
              "      fill: #FFFFFF;\n",
              "    }\n",
              "  </style>\n",
              "\n",
              "    <script>\n",
              "      const buttonEl =\n",
              "        document.querySelector('#df-1bb6f805-380e-4435-ae97-526087dfa38f button.colab-df-convert');\n",
              "      buttonEl.style.display =\n",
              "        google.colab.kernel.accessAllowed ? 'block' : 'none';\n",
              "\n",
              "      async function convertToInteractive(key) {\n",
              "        const element = document.querySelector('#df-1bb6f805-380e-4435-ae97-526087dfa38f');\n",
              "        const dataTable =\n",
              "          await google.colab.kernel.invokeFunction('convertToInteractive',\n",
              "                                                    [key], {});\n",
              "        if (!dataTable) return;\n",
              "\n",
              "        const docLinkHtml = 'Like what you see? Visit the ' +\n",
              "          '<a target=\"_blank\" href=https://colab.research.google.com/notebooks/data_table.ipynb>data table notebook</a>'\n",
              "          + ' to learn more about interactive tables.';\n",
              "        element.innerHTML = '';\n",
              "        dataTable['output_type'] = 'display_data';\n",
              "        await google.colab.output.renderOutput(dataTable, element);\n",
              "        const docLink = document.createElement('div');\n",
              "        docLink.innerHTML = docLinkHtml;\n",
              "        element.appendChild(docLink);\n",
              "      }\n",
              "    </script>\n",
              "  </div>\n",
              "\n",
              "\n",
              "<div id=\"df-7eea9a68-7ec8-4ebb-ad61-36d379859a4a\">\n",
              "  <button class=\"colab-df-quickchart\" onclick=\"quickchart('df-7eea9a68-7ec8-4ebb-ad61-36d379859a4a')\"\n",
              "            title=\"Suggest charts.\"\n",
              "            style=\"display:none;\">\n",
              "\n",
              "<svg xmlns=\"http://www.w3.org/2000/svg\" height=\"24px\"viewBox=\"0 0 24 24\"\n",
              "     width=\"24px\">\n",
              "    <g>\n",
              "        <path d=\"M19 3H5c-1.1 0-2 .9-2 2v14c0 1.1.9 2 2 2h14c1.1 0 2-.9 2-2V5c0-1.1-.9-2-2-2zM9 17H7v-7h2v7zm4 0h-2V7h2v10zm4 0h-2v-4h2v4z\"/>\n",
              "    </g>\n",
              "</svg>\n",
              "  </button>\n",
              "\n",
              "<style>\n",
              "  .colab-df-quickchart {\n",
              "      --bg-color: #E8F0FE;\n",
              "      --fill-color: #1967D2;\n",
              "      --hover-bg-color: #E2EBFA;\n",
              "      --hover-fill-color: #174EA6;\n",
              "      --disabled-fill-color: #AAA;\n",
              "      --disabled-bg-color: #DDD;\n",
              "  }\n",
              "\n",
              "  [theme=dark] .colab-df-quickchart {\n",
              "      --bg-color: #3B4455;\n",
              "      --fill-color: #D2E3FC;\n",
              "      --hover-bg-color: #434B5C;\n",
              "      --hover-fill-color: #FFFFFF;\n",
              "      --disabled-bg-color: #3B4455;\n",
              "      --disabled-fill-color: #666;\n",
              "  }\n",
              "\n",
              "  .colab-df-quickchart {\n",
              "    background-color: var(--bg-color);\n",
              "    border: none;\n",
              "    border-radius: 50%;\n",
              "    cursor: pointer;\n",
              "    display: none;\n",
              "    fill: var(--fill-color);\n",
              "    height: 32px;\n",
              "    padding: 0;\n",
              "    width: 32px;\n",
              "  }\n",
              "\n",
              "  .colab-df-quickchart:hover {\n",
              "    background-color: var(--hover-bg-color);\n",
              "    box-shadow: 0 1px 2px rgba(60, 64, 67, 0.3), 0 1px 3px 1px rgba(60, 64, 67, 0.15);\n",
              "    fill: var(--button-hover-fill-color);\n",
              "  }\n",
              "\n",
              "  .colab-df-quickchart-complete:disabled,\n",
              "  .colab-df-quickchart-complete:disabled:hover {\n",
              "    background-color: var(--disabled-bg-color);\n",
              "    fill: var(--disabled-fill-color);\n",
              "    box-shadow: none;\n",
              "  }\n",
              "\n",
              "  .colab-df-spinner {\n",
              "    border: 2px solid var(--fill-color);\n",
              "    border-color: transparent;\n",
              "    border-bottom-color: var(--fill-color);\n",
              "    animation:\n",
              "      spin 1s steps(1) infinite;\n",
              "  }\n",
              "\n",
              "  @keyframes spin {\n",
              "    0% {\n",
              "      border-color: transparent;\n",
              "      border-bottom-color: var(--fill-color);\n",
              "      border-left-color: var(--fill-color);\n",
              "    }\n",
              "    20% {\n",
              "      border-color: transparent;\n",
              "      border-left-color: var(--fill-color);\n",
              "      border-top-color: var(--fill-color);\n",
              "    }\n",
              "    30% {\n",
              "      border-color: transparent;\n",
              "      border-left-color: var(--fill-color);\n",
              "      border-top-color: var(--fill-color);\n",
              "      border-right-color: var(--fill-color);\n",
              "    }\n",
              "    40% {\n",
              "      border-color: transparent;\n",
              "      border-right-color: var(--fill-color);\n",
              "      border-top-color: var(--fill-color);\n",
              "    }\n",
              "    60% {\n",
              "      border-color: transparent;\n",
              "      border-right-color: var(--fill-color);\n",
              "    }\n",
              "    80% {\n",
              "      border-color: transparent;\n",
              "      border-right-color: var(--fill-color);\n",
              "      border-bottom-color: var(--fill-color);\n",
              "    }\n",
              "    90% {\n",
              "      border-color: transparent;\n",
              "      border-bottom-color: var(--fill-color);\n",
              "    }\n",
              "  }\n",
              "</style>\n",
              "\n",
              "  <script>\n",
              "    async function quickchart(key) {\n",
              "      const quickchartButtonEl =\n",
              "        document.querySelector('#' + key + ' button');\n",
              "      quickchartButtonEl.disabled = true;  // To prevent multiple clicks.\n",
              "      quickchartButtonEl.classList.add('colab-df-spinner');\n",
              "      try {\n",
              "        const charts = await google.colab.kernel.invokeFunction(\n",
              "            'suggestCharts', [key], {});\n",
              "      } catch (error) {\n",
              "        console.error('Error during call to suggestCharts:', error);\n",
              "      }\n",
              "      quickchartButtonEl.classList.remove('colab-df-spinner');\n",
              "      quickchartButtonEl.classList.add('colab-df-quickchart-complete');\n",
              "    }\n",
              "    (() => {\n",
              "      let quickchartButtonEl =\n",
              "        document.querySelector('#df-7eea9a68-7ec8-4ebb-ad61-36d379859a4a button');\n",
              "      quickchartButtonEl.style.display =\n",
              "        google.colab.kernel.accessAllowed ? 'block' : 'none';\n",
              "    })();\n",
              "  </script>\n",
              "</div>\n",
              "    </div>\n",
              "  </div>\n"
            ]
          },
          "metadata": {},
          "execution_count": 94
        }
      ]
    },
    {
      "cell_type": "code",
      "source": [
        "import pandas as pd\n",
        "\n",
        "def convert_to_interleaved_data(df):\n",
        "    if len(df.columns) != 2:\n",
        "        raise ValueError(\"The DataFrame must have exactly two columns.\")\n",
        "\n",
        "    column1_values = df[df.columns[0]].tolist()\n",
        "    column2_values = df[df.columns[1]].tolist()\n",
        "\n",
        "    interleaved_data = [val for pair in zip(column1_values, column2_values) for val in pair]\n",
        "\n",
        "    interleaved_dict = {df.columns[0]: interleaved_data}\n",
        "\n",
        "    return pd.DataFrame(interleaved_dict)\n",
        "\n",
        "# Example usage:\n",
        "'''\n",
        "data = {'Column1': ['Hello', 'World', 'This', 'Is'], 'Column2': ['123', '456', '789', '000']}\n",
        "df_test = pd.DataFrame(data)\n",
        "result_df = convert_to_interleaved_data(df_test)\n",
        "print(result_df)\n",
        "'''"
      ],
      "metadata": {
        "id": "8PZrx4CnOY1a",
        "colab": {
          "base_uri": "https://localhost:8080/",
          "height": 53
        },
        "outputId": "16449f3a-6f68-4173-b4da-0a37c13077e7"
      },
      "execution_count": 95,
      "outputs": [
        {
          "output_type": "execute_result",
          "data": {
            "text/plain": [
              "\"\\ndata = {'Column1': ['Hello', 'World', 'This', 'Is'], 'Column2': ['123', '456', '789', '000']}\\ndf_test = pd.DataFrame(data)\\nresult_df = convert_to_interleaved_data(df_test)\\nprint(result_df)\\n\""
            ],
            "application/vnd.google.colaboratory.intrinsic+json": {
              "type": "string"
            }
          },
          "metadata": {},
          "execution_count": 95
        }
      ]
    },
    {
      "cell_type": "code",
      "source": [
        "id2text = convert_to_interleaved_data(df)"
      ],
      "metadata": {
        "id": "d99prEDEOY4B"
      },
      "execution_count": 96,
      "outputs": []
    },
    {
      "cell_type": "code",
      "source": [
        "id2text.head()"
      ],
      "metadata": {
        "colab": {
          "base_uri": "https://localhost:8080/",
          "height": 206
        },
        "id": "_o0DluAE8psv",
        "outputId": "2dd88c1d-d5d2-4016-cbdc-0d42eff91634"
      },
      "execution_count": 97,
      "outputs": [
        {
          "output_type": "execute_result",
          "data": {
            "text/plain": [
              "                                                   0\n",
              "0  What is the step by step guide to invest in sh...\n",
              "1  What is the step by step guide to invest in sh...\n",
              "2  What is the story of Kohinoor (Koh-i-Noor) Dia...\n",
              "3  What would happen if the Indian government sto...\n",
              "4  How can I increase the speed of my internet co..."
            ],
            "text/html": [
              "\n",
              "  <div id=\"df-cfa318ff-7032-4a2a-bd5c-2eeae71939d4\" class=\"colab-df-container\">\n",
              "    <div>\n",
              "<style scoped>\n",
              "    .dataframe tbody tr th:only-of-type {\n",
              "        vertical-align: middle;\n",
              "    }\n",
              "\n",
              "    .dataframe tbody tr th {\n",
              "        vertical-align: top;\n",
              "    }\n",
              "\n",
              "    .dataframe thead th {\n",
              "        text-align: right;\n",
              "    }\n",
              "</style>\n",
              "<table border=\"1\" class=\"dataframe\">\n",
              "  <thead>\n",
              "    <tr style=\"text-align: right;\">\n",
              "      <th></th>\n",
              "      <th>0</th>\n",
              "    </tr>\n",
              "  </thead>\n",
              "  <tbody>\n",
              "    <tr>\n",
              "      <th>0</th>\n",
              "      <td>What is the step by step guide to invest in sh...</td>\n",
              "    </tr>\n",
              "    <tr>\n",
              "      <th>1</th>\n",
              "      <td>What is the step by step guide to invest in sh...</td>\n",
              "    </tr>\n",
              "    <tr>\n",
              "      <th>2</th>\n",
              "      <td>What is the story of Kohinoor (Koh-i-Noor) Dia...</td>\n",
              "    </tr>\n",
              "    <tr>\n",
              "      <th>3</th>\n",
              "      <td>What would happen if the Indian government sto...</td>\n",
              "    </tr>\n",
              "    <tr>\n",
              "      <th>4</th>\n",
              "      <td>How can I increase the speed of my internet co...</td>\n",
              "    </tr>\n",
              "  </tbody>\n",
              "</table>\n",
              "</div>\n",
              "    <div class=\"colab-df-buttons\">\n",
              "\n",
              "  <div class=\"colab-df-container\">\n",
              "    <button class=\"colab-df-convert\" onclick=\"convertToInteractive('df-cfa318ff-7032-4a2a-bd5c-2eeae71939d4')\"\n",
              "            title=\"Convert this dataframe to an interactive table.\"\n",
              "            style=\"display:none;\">\n",
              "\n",
              "  <svg xmlns=\"http://www.w3.org/2000/svg\" height=\"24px\" viewBox=\"0 -960 960 960\">\n",
              "    <path d=\"M120-120v-720h720v720H120Zm60-500h600v-160H180v160Zm220 220h160v-160H400v160Zm0 220h160v-160H400v160ZM180-400h160v-160H180v160Zm440 0h160v-160H620v160ZM180-180h160v-160H180v160Zm440 0h160v-160H620v160Z\"/>\n",
              "  </svg>\n",
              "    </button>\n",
              "\n",
              "  <style>\n",
              "    .colab-df-container {\n",
              "      display:flex;\n",
              "      gap: 12px;\n",
              "    }\n",
              "\n",
              "    .colab-df-convert {\n",
              "      background-color: #E8F0FE;\n",
              "      border: none;\n",
              "      border-radius: 50%;\n",
              "      cursor: pointer;\n",
              "      display: none;\n",
              "      fill: #1967D2;\n",
              "      height: 32px;\n",
              "      padding: 0 0 0 0;\n",
              "      width: 32px;\n",
              "    }\n",
              "\n",
              "    .colab-df-convert:hover {\n",
              "      background-color: #E2EBFA;\n",
              "      box-shadow: 0px 1px 2px rgba(60, 64, 67, 0.3), 0px 1px 3px 1px rgba(60, 64, 67, 0.15);\n",
              "      fill: #174EA6;\n",
              "    }\n",
              "\n",
              "    .colab-df-buttons div {\n",
              "      margin-bottom: 4px;\n",
              "    }\n",
              "\n",
              "    [theme=dark] .colab-df-convert {\n",
              "      background-color: #3B4455;\n",
              "      fill: #D2E3FC;\n",
              "    }\n",
              "\n",
              "    [theme=dark] .colab-df-convert:hover {\n",
              "      background-color: #434B5C;\n",
              "      box-shadow: 0px 1px 3px 1px rgba(0, 0, 0, 0.15);\n",
              "      filter: drop-shadow(0px 1px 2px rgba(0, 0, 0, 0.3));\n",
              "      fill: #FFFFFF;\n",
              "    }\n",
              "  </style>\n",
              "\n",
              "    <script>\n",
              "      const buttonEl =\n",
              "        document.querySelector('#df-cfa318ff-7032-4a2a-bd5c-2eeae71939d4 button.colab-df-convert');\n",
              "      buttonEl.style.display =\n",
              "        google.colab.kernel.accessAllowed ? 'block' : 'none';\n",
              "\n",
              "      async function convertToInteractive(key) {\n",
              "        const element = document.querySelector('#df-cfa318ff-7032-4a2a-bd5c-2eeae71939d4');\n",
              "        const dataTable =\n",
              "          await google.colab.kernel.invokeFunction('convertToInteractive',\n",
              "                                                    [key], {});\n",
              "        if (!dataTable) return;\n",
              "\n",
              "        const docLinkHtml = 'Like what you see? Visit the ' +\n",
              "          '<a target=\"_blank\" href=https://colab.research.google.com/notebooks/data_table.ipynb>data table notebook</a>'\n",
              "          + ' to learn more about interactive tables.';\n",
              "        element.innerHTML = '';\n",
              "        dataTable['output_type'] = 'display_data';\n",
              "        await google.colab.output.renderOutput(dataTable, element);\n",
              "        const docLink = document.createElement('div');\n",
              "        docLink.innerHTML = docLinkHtml;\n",
              "        element.appendChild(docLink);\n",
              "      }\n",
              "    </script>\n",
              "  </div>\n",
              "\n",
              "\n",
              "<div id=\"df-340950c2-9dfa-4bbe-ad92-8b8674797e46\">\n",
              "  <button class=\"colab-df-quickchart\" onclick=\"quickchart('df-340950c2-9dfa-4bbe-ad92-8b8674797e46')\"\n",
              "            title=\"Suggest charts.\"\n",
              "            style=\"display:none;\">\n",
              "\n",
              "<svg xmlns=\"http://www.w3.org/2000/svg\" height=\"24px\"viewBox=\"0 0 24 24\"\n",
              "     width=\"24px\">\n",
              "    <g>\n",
              "        <path d=\"M19 3H5c-1.1 0-2 .9-2 2v14c0 1.1.9 2 2 2h14c1.1 0 2-.9 2-2V5c0-1.1-.9-2-2-2zM9 17H7v-7h2v7zm4 0h-2V7h2v10zm4 0h-2v-4h2v4z\"/>\n",
              "    </g>\n",
              "</svg>\n",
              "  </button>\n",
              "\n",
              "<style>\n",
              "  .colab-df-quickchart {\n",
              "      --bg-color: #E8F0FE;\n",
              "      --fill-color: #1967D2;\n",
              "      --hover-bg-color: #E2EBFA;\n",
              "      --hover-fill-color: #174EA6;\n",
              "      --disabled-fill-color: #AAA;\n",
              "      --disabled-bg-color: #DDD;\n",
              "  }\n",
              "\n",
              "  [theme=dark] .colab-df-quickchart {\n",
              "      --bg-color: #3B4455;\n",
              "      --fill-color: #D2E3FC;\n",
              "      --hover-bg-color: #434B5C;\n",
              "      --hover-fill-color: #FFFFFF;\n",
              "      --disabled-bg-color: #3B4455;\n",
              "      --disabled-fill-color: #666;\n",
              "  }\n",
              "\n",
              "  .colab-df-quickchart {\n",
              "    background-color: var(--bg-color);\n",
              "    border: none;\n",
              "    border-radius: 50%;\n",
              "    cursor: pointer;\n",
              "    display: none;\n",
              "    fill: var(--fill-color);\n",
              "    height: 32px;\n",
              "    padding: 0;\n",
              "    width: 32px;\n",
              "  }\n",
              "\n",
              "  .colab-df-quickchart:hover {\n",
              "    background-color: var(--hover-bg-color);\n",
              "    box-shadow: 0 1px 2px rgba(60, 64, 67, 0.3), 0 1px 3px 1px rgba(60, 64, 67, 0.15);\n",
              "    fill: var(--button-hover-fill-color);\n",
              "  }\n",
              "\n",
              "  .colab-df-quickchart-complete:disabled,\n",
              "  .colab-df-quickchart-complete:disabled:hover {\n",
              "    background-color: var(--disabled-bg-color);\n",
              "    fill: var(--disabled-fill-color);\n",
              "    box-shadow: none;\n",
              "  }\n",
              "\n",
              "  .colab-df-spinner {\n",
              "    border: 2px solid var(--fill-color);\n",
              "    border-color: transparent;\n",
              "    border-bottom-color: var(--fill-color);\n",
              "    animation:\n",
              "      spin 1s steps(1) infinite;\n",
              "  }\n",
              "\n",
              "  @keyframes spin {\n",
              "    0% {\n",
              "      border-color: transparent;\n",
              "      border-bottom-color: var(--fill-color);\n",
              "      border-left-color: var(--fill-color);\n",
              "    }\n",
              "    20% {\n",
              "      border-color: transparent;\n",
              "      border-left-color: var(--fill-color);\n",
              "      border-top-color: var(--fill-color);\n",
              "    }\n",
              "    30% {\n",
              "      border-color: transparent;\n",
              "      border-left-color: var(--fill-color);\n",
              "      border-top-color: var(--fill-color);\n",
              "      border-right-color: var(--fill-color);\n",
              "    }\n",
              "    40% {\n",
              "      border-color: transparent;\n",
              "      border-right-color: var(--fill-color);\n",
              "      border-top-color: var(--fill-color);\n",
              "    }\n",
              "    60% {\n",
              "      border-color: transparent;\n",
              "      border-right-color: var(--fill-color);\n",
              "    }\n",
              "    80% {\n",
              "      border-color: transparent;\n",
              "      border-right-color: var(--fill-color);\n",
              "      border-bottom-color: var(--fill-color);\n",
              "    }\n",
              "    90% {\n",
              "      border-color: transparent;\n",
              "      border-bottom-color: var(--fill-color);\n",
              "    }\n",
              "  }\n",
              "</style>\n",
              "\n",
              "  <script>\n",
              "    async function quickchart(key) {\n",
              "      const quickchartButtonEl =\n",
              "        document.querySelector('#' + key + ' button');\n",
              "      quickchartButtonEl.disabled = true;  // To prevent multiple clicks.\n",
              "      quickchartButtonEl.classList.add('colab-df-spinner');\n",
              "      try {\n",
              "        const charts = await google.colab.kernel.invokeFunction(\n",
              "            'suggestCharts', [key], {});\n",
              "      } catch (error) {\n",
              "        console.error('Error during call to suggestCharts:', error);\n",
              "      }\n",
              "      quickchartButtonEl.classList.remove('colab-df-spinner');\n",
              "      quickchartButtonEl.classList.add('colab-df-quickchart-complete');\n",
              "    }\n",
              "    (() => {\n",
              "      let quickchartButtonEl =\n",
              "        document.querySelector('#df-340950c2-9dfa-4bbe-ad92-8b8674797e46 button');\n",
              "      quickchartButtonEl.style.display =\n",
              "        google.colab.kernel.accessAllowed ? 'block' : 'none';\n",
              "    })();\n",
              "  </script>\n",
              "</div>\n",
              "    </div>\n",
              "  </div>\n"
            ]
          },
          "metadata": {},
          "execution_count": 97
        }
      ]
    },
    {
      "cell_type": "code",
      "source": [
        "id2text[0][0]"
      ],
      "metadata": {
        "colab": {
          "base_uri": "https://localhost:8080/",
          "height": 35
        },
        "id": "Q15P5KhM_P3w",
        "outputId": "bbaa3218-07e6-4202-d4fe-fcc3255e39b5"
      },
      "execution_count": 98,
      "outputs": [
        {
          "output_type": "execute_result",
          "data": {
            "text/plain": [
              "'What is the step by step guide to invest in share market in india?'"
            ],
            "application/vnd.google.colaboratory.intrinsic+json": {
              "type": "string"
            }
          },
          "metadata": {},
          "execution_count": 98
        }
      ]
    },
    {
      "cell_type": "code",
      "source": [
        "len(id2text)"
      ],
      "metadata": {
        "colab": {
          "base_uri": "https://localhost:8080/"
        },
        "id": "qsJO7VmZ8sT8",
        "outputId": "008ccd7e-b80c-482e-af0c-2c845228c82c"
      },
      "execution_count": 99,
      "outputs": [
        {
          "output_type": "execute_result",
          "data": {
            "text/plain": [
              "808580"
            ]
          },
          "metadata": {},
          "execution_count": 99
        }
      ]
    },
    {
      "cell_type": "markdown",
      "source": [
        "**Get model: all-distilroberta-v1**\n",
        "\n",
        "from huggingface intended to be used as a sentence and short paragraph encoder"
      ],
      "metadata": {
        "id": "rSjWJNc3W5wE"
      }
    },
    {
      "cell_type": "code",
      "source": [
        "from sentence_transformers import SentenceTransformer\n",
        "model = SentenceTransformer(\"all-distilroberta-v1\")"
      ],
      "metadata": {
        "id": "8gYH79ED9KPy"
      },
      "execution_count": 100,
      "outputs": []
    },
    {
      "cell_type": "markdown",
      "source": [
        "**Generating Embeddings and Upsert**"
      ],
      "metadata": {
        "id": "RKFaHnvcXlY-"
      }
    },
    {
      "cell_type": "code",
      "source": [
        "#example embeddings\n",
        "\n",
        "text = \"what's the one thing you do despite knowing better?\"\n",
        "embeddings = model.encode(text).tolist()\n",
        "print(embeddings)  #768 values"
      ],
      "metadata": {
        "id": "uv-LPFqh6Fhp",
        "colab": {
          "base_uri": "https://localhost:8080/"
        },
        "outputId": "585a2e1d-2b3f-42c4-e8f3-0a1f4b8a6c34"
      },
      "execution_count": 101,
      "outputs": [
        {
          "output_type": "stream",
          "name": "stdout",
          "text": [
            "[0.04842783883213997, 0.00647372892126441, -0.051976002752780914, -0.025520512834191322, 0.04331560060381889, -0.06516124308109283, -0.0038804528303444386, -0.04953460022807121, 0.09117073565721512, 0.013322383165359497, -0.0046014380641281605, -0.05372092127799988, 0.013246721588075161, 0.020778566598892212, -0.06645707786083221, 0.04841157793998718, 0.018589278683066368, -0.0208139568567276, 0.020627325400710106, -0.004534528590738773, 0.011303032748401165, 0.04132404550909996, -0.01914716511964798, -0.02042854018509388, 0.04341401904821396, 0.004532219842076302, 0.0050032357685267925, 0.026532599702477455, 0.035849519073963165, -0.021335193887352943, -0.007900618948042393, 0.02434510923922062, -0.02910381555557251, 0.04047751426696777, -0.007789685856550932, -0.021850235760211945, 0.0038260796573013067, -0.027652118355035782, 0.025395698845386505, -0.0030118818394839764, -0.08460874110460281, -0.026168687269091606, 0.012439027428627014, -0.05211656168103218, -0.027483252808451653, 0.010858224704861641, -0.03910817950963974, -0.005999310407787561, 0.021588146686553955, -0.0213960949331522, 0.021611671894788742, -0.05502784624695778, -0.0171822477132082, -0.05469909682869911, -0.008253853768110275, 0.001894865999929607, -0.048642247915267944, -0.01285721454769373, 0.06477763503789902, -0.02441023290157318, -0.01115648727864027, -0.02545562945306301, 0.018104346469044685, -0.0019240654073655605, 0.07701312750577927, -0.026883987709879875, 0.022778572514653206, -0.0239474568516016, -0.013168209232389927, 0.0381927452981472, -0.0038599458057433367, 0.0022208099253475666, 0.02411382831633091, 0.015770740807056427, -0.01519780419766903, -0.004079501610249281, 0.014155346900224686, -0.010600123554468155, -0.0031595106702297926, -0.028781743720173836, 0.031008968129754066, -0.08779110759496689, -0.15395723283290863, -0.017568716779351234, -0.019696641713380814, -0.020930524915456772, 0.0034235408529639244, 0.04498584195971489, -0.06752131134271622, -0.03067857213318348, 0.0413968525826931, 0.03574695438146591, -0.008256528526544571, 0.04950957000255585, -0.026224493980407715, -0.019697625190019608, -0.0011062180856242776, -0.020927270874381065, -0.007342054974287748, 0.01737920194864273, -0.02745143696665764, -0.010785066522657871, 0.004028367809951305, -0.06684871762990952, 0.02523416467010975, -0.027032194659113884, -0.02387251891195774, -0.049879901111125946, 0.05561581254005432, 0.028096091002225876, -0.027396302670240402, -0.040197763592004776, 0.04447898268699646, -0.001881899544969201, 0.03487713262438774, -0.028259379789233208, -0.037038013339042664, -0.01054798997938633, -0.024752020835876465, 0.003045425284653902, 0.048954904079437256, -0.03489059954881668, -0.036562480032444, -0.023638557642698288, 0.000495881075039506, 0.019228553399443626, -0.015276910737156868, 0.057501379400491714, -0.013875789009034634, 0.04464329406619072, -0.032541148364543915, 0.007841555401682854, -0.02624189481139183, -0.021463725715875626, 0.011831376701593399, 0.027630839496850967, 0.018251949921250343, 0.010388210415840149, 0.01622309349477291, 0.0013076560571789742, -0.012414786964654922, -0.02098670043051243, -0.03429822996258736, -0.012135307304561138, 0.009714036248624325, -0.01950020343065262, 0.06754998862743378, 0.009850445203483105, 0.0032047750428318977, -0.020304543897509575, -0.018987789750099182, -0.05852524936199188, -0.06221595034003258, 0.015900177881121635, -0.010034141130745411, -0.03382190689444542, 0.00038383176433853805, 0.04290049523115158, -0.034109100699424744, -0.038121480494737625, -0.010366122238337994, -0.024781042709946632, -0.018098359927535057, -0.028950437903404236, -0.00832156278192997, 0.026956642046570778, -0.039689481258392334, 0.04595893621444702, 0.008731202222406864, -0.06368616223335266, 0.032112739980220795, -0.06409581750631332, -0.0003628022677730769, -0.007879672572016716, 0.0045847506262362, 0.0466780848801136, -0.04598812758922577, -0.06031234934926033, 0.012973812408745289, -0.014169568195939064, -0.0012927423231303692, 0.028149405494332314, -0.02452329732477665, 0.010489282198250294, 0.002395732793956995, 0.02253379113972187, -0.04559478163719177, -0.043110720813274384, -0.0248352512717247, -0.04768305644392967, -0.05098472908139229, 0.01054441463202238, -0.025192007422447205, -0.10923022776842117, 0.028549594804644585, 0.006857249420136213, -0.011023268103599548, 0.05084347352385521, 0.00017817539628595114, -0.01679801568388939, 0.01653747819364071, 0.0033014006912708282, -0.04187872260808945, -0.000824828224722296, 0.005091373343020678, -0.0008550385246053338, -0.01796793006360531, 0.052474215626716614, -0.018190914765000343, -0.013097611255943775, 0.034407395869493484, 0.010611246339976788, 0.022356608882546425, 0.01756167784333229, -0.006735384464263916, -0.06638074666261673, -0.0689539909362793, 0.14375509321689606, -0.06845606118440628, 0.030166760087013245, -0.017198439687490463, -0.05829569324851036, -0.009331958368420601, 0.06690455228090286, 0.03365363925695419, 0.01074623130261898, 0.005254947580397129, 0.013150508515536785, 0.01491626352071762, -0.030839426442980766, 0.021664250642061234, -0.024043090641498566, -0.020657530054450035, 0.015111537650227547, -0.035692617297172546, -0.005137121770530939, 0.0587349496781826, -0.03345593437552452, 0.04139300435781479, -0.06285616755485535, -0.10390761494636536, 0.04337006062269211, -0.011921933852136135, 0.03931593894958496, 0.0016089996788650751, -0.007252899929881096, -0.06791826337575912, 0.03664508834481239, 0.05535483360290527, -0.030857061967253685, 0.01737034320831299, -0.03067653253674507, -0.008944856002926826, -0.047299303114414215, -0.021859899163246155, -0.07614251971244812, 0.0029941219836473465, 0.020662611350417137, -0.04336608946323395, 0.05633574351668358, 0.028836959972977638, 0.04069400951266289, -0.03815385326743126, 0.02898518554866314, 0.02254846878349781, -0.006313828285783529, -0.03834671527147293, 0.0756530836224556, 0.033556707203388214, -0.025325186550617218, -0.05250689387321472, -0.032098446041345596, 0.0033403621055185795, -0.11769253760576248, 0.031451836228370667, 0.03422815352678299, 0.05407324433326721, 0.03771565482020378, -0.016073355451226234, -0.0009838491678237915, 0.0714346170425415, 0.017466114833950996, -0.031031349673867226, 0.03815551847219467, 0.01384769007563591, -0.04990198463201523, 0.06554422527551651, 0.02335572987794876, 0.06933923810720444, -0.05718836188316345, 0.011402321048080921, -0.06128932535648346, -0.03876091539859772, 0.05940857529640198, 0.014738249592483044, -0.03755853697657585, 0.03408145532011986, -0.0513581782579422, -0.011112252250313759, 0.026194196194410324, 0.03796728700399399, 0.0023032643366605043, -0.05094044655561447, -0.01680665649473667, 0.044388916343450546, 0.014875608496367931, 0.05854925885796547, 0.03555680066347122, -0.005032800137996674, 0.02082264982163906, 0.0013594086049124599, -0.0016592922620475292, -0.0174994058907032, 0.06817790120840073, 0.01730368472635746, 0.00605033291503787, 0.05020303651690483, -0.007712963968515396, 0.029191236943006516, -0.014197725802659988, 0.023321770131587982, 0.03527115285396576, 0.03229369595646858, -0.05999800190329552, -0.015110054984688759, 0.008741128258407116, -0.04007913917303085, 0.030801445245742798, -0.012631864286959171, 0.07747284322977066, -0.1204213872551918, -0.0039711594581604, -0.02056005597114563, 0.019083237275481224, -0.002354244701564312, -0.024190932512283325, -0.015579107217490673, 0.019264796748757362, 0.01612669788300991, -0.03229361027479172, -0.0016989968717098236, -0.004970435984432697, -0.02678745798766613, -0.05255928635597229, 0.043814368546009064, -0.02499648742377758, 0.02215324342250824, -0.005725625902414322, -0.04575781524181366, 0.010495509952306747, -0.00012863805750384927, 0.020228303968906403, 0.08814763277769089, -0.002910405630245805, -0.00015854151570238173, -0.06296281516551971, 0.014199634082615376, -0.01889984868466854, -0.011058849282562733, 0.05164547637104988, 0.046760980039834976, 0.02947324328124523, 0.05145792290568352, -0.06012849509716034, 0.01347373053431511, 0.010226672515273094, -0.05960159748792648, -0.0021352367475628853, -0.02716490998864174, 0.04071826487779617, 0.041586246341466904, 0.03836806118488312, 0.02504686638712883, 0.03839375078678131, 0.008054405450820923, -0.025434236973524094, -0.019168265163898468, 0.023269886150956154, 0.035730842500925064, -0.018710630014538765, 0.004961004015058279, 0.004766285419464111, 0.0015055888798087835, -0.009073494002223015, -0.016276197507977486, -0.034928351640701294, -0.0408821664750576, -0.02483375556766987, 0.0640638992190361, 0.027140667662024498, 0.023984337225556374, 0.0010869073448702693, 0.004660428501665592, -0.018966637551784515, 0.00884200632572174, -0.010818983428180218, -0.049229416996240616, 0.0542067289352417, -0.09191789478063583, -0.03613254427909851, -0.004106154665350914, 0.03297967463731766, -0.04436670243740082, 0.033216409385204315, 0.040482908487319946, 0.008927876129746437, -0.049240097403526306, -0.025746142491698265, -0.00560342613607645, -0.009996684268116951, 0.02797243930399418, 0.02911134995520115, -0.03834017366170883, -0.03798617795109749, -0.0180492140352726, -0.0021719529759138823, 0.0019461826886981726, -0.02568727731704712, 0.029552213847637177, -0.02034478820860386, 0.004864636342972517, -0.026889707893133163, 0.061476826667785645, -0.003964964300394058, 0.05914473906159401, 0.03512554243206978, 0.028354687616229057, 0.016504919156432152, -0.052941642701625824, 0.012082316912710667, -0.03226820006966591, -0.003937893081456423, 0.002851888071745634, -0.006307817064225674, 0.05884185805916786, -0.0154722323641181, 0.032232556492090225, 0.059537000954151154, -0.009063098579645157, -0.0161028653383255, 0.0378287173807621, 0.010491783730685711, -0.002746040467172861, -0.07303909957408905, 0.03982638195157051, -0.03185657411813736, 0.01944473199546337, 0.023791097104549408, 0.008976361714303493, 0.031750716269016266, -0.04578568413853645, 0.019571591168642044, -0.024210937321186066, -0.04290264844894409, -0.06391452997922897, 0.09270226210355759, -0.007033854257315397, 0.055743806064128876, 0.04226759076118469, 0.0014701724285259843, -0.02515598013997078, 0.03685816749930382, -0.0023662850726395845, -0.007602851837873459, 0.02440183237195015, -0.04119216278195381, 0.011846430599689484, -0.07247406989336014, 0.011327378451824188, -0.0019769726786762476, 0.004236653912812471, -0.04303336143493652, 0.046632397919893265, 0.017934361472725868, -0.039186619222164154, 0.03400760143995285, -0.02386620081961155, 0.026415186002850533, -0.011607857421040535, 0.0075306762009859085, 0.01256569568067789, -0.002600810257717967, 0.019714441150426865, -0.01479430217295885, -0.03671799972653389, 0.03157426416873932, -0.0031995021272450686, -6.422823935281485e-05, 0.0032504128757864237, -0.010320709086954594, -0.011479452252388, 0.03909410536289215, -0.033041831105947495, -0.0043027629144489765, 1.940487890909193e-33, -0.04102695360779762, -0.010738987475633621, -0.011638112366199493, 0.026222532615065575, 0.03820935636758804, 0.011147412471473217, 0.013707323931157589, 0.03454109653830528, -0.022905409336090088, 0.016153953969478607, -0.04314776882529259, 0.05192745104432106, -0.01838027685880661, -0.04122161492705345, 0.003984486218541861, 0.03821135684847832, 0.01978117600083351, -0.07482975721359253, 0.0287528857588768, -0.030222099274396896, 0.005872711073607206, 0.02203371562063694, 0.0073041594587266445, -0.025725465267896652, -0.04434898868203163, 0.016444619745016098, 0.03197944536805153, -0.00593274412676692, 0.015022225677967072, -0.015702102333307266, -0.004441768396645784, 0.058403365314006805, -0.0012839757837355137, -0.010857824236154556, -0.005073407664895058, 0.012305096723139286, 0.021109512075781822, 0.05333876982331276, -0.03668574243783951, -0.0132552869617939, 0.005220350343734026, 0.014817900955677032, 0.06771744042634964, 0.03984048217535019, 0.022791137918829918, -0.015285694040358067, 0.026394784450531006, 0.009893257170915604, -0.033683814108371735, 0.06271740049123764, 0.021134721115231514, -0.012202066369354725, -0.025816861540079117, 0.018899589776992798, -0.03556551784276962, -0.012079015374183655, -0.11129751056432724, 0.0549941286444664, 0.027372101321816444, 0.09672936797142029, -0.004744529724121094, 0.043466243892908096, 0.04055965691804886, 0.003271770430728793, -0.0008763361838646233, -0.027955200523138046, 0.06284452974796295, 0.0647476464509964, -0.05021023750305176, -0.057847071439027786, -0.024103790521621704, 0.04212303087115288, 0.04349010810256004, -0.03645803779363632, 0.069559246301651, -0.0160769484937191, 0.030206654220819473, -0.04021719470620155, 0.04356854408979416, -0.015603792853653431, 0.002780892886221409, 0.04202296957373619, -0.007909555919468403, -0.03140399977564812, -0.007954332046210766, 0.015288479626178741, 0.013126909732818604, 0.06817243248224258, 0.01531083695590496, 0.0015769205056130886, 0.0468808151781559, 0.06762059777975082, -0.006101720500737429, 0.00018418570107314736, 0.011023595929145813, -0.007010912988334894, 0.010957933962345123, 0.014198672957718372, -0.02671138010919094, -0.048070959746837616, 0.025880493223667145, 0.007833425886929035, 0.006697649136185646, 0.04394620656967163, -0.07002941519021988, -0.014313697814941406, -0.05390835180878639, -0.004122893791645765, 0.014461657032370567, -0.02918005920946598, 0.010692600160837173, -0.004355491138994694, -0.044140491634607315, 0.04957063868641853, -0.02068748138844967, 0.037026822566986084, -0.12324501574039459, 0.019776472821831703, 0.05170993506908417, 0.02457328327000141, -0.04415559768676758, 0.010608184151351452, -0.008610186167061329, 0.008510405197739601, -0.023580320179462433, 0.052348729223012924, -0.04561552777886391, 0.023193111643195152, 0.0032879801001399755, -0.005108291283249855, -0.014888784848153591, -0.024621782824397087, 0.04149393364787102, -0.003262772224843502, -0.013699705712497234, 0.045449398458004, -0.015330985188484192, -0.056663960218429565, 0.025419699028134346, 0.017302079126238823, -0.009922302328050137, 0.025034306570887566, 0.03059123083949089, 0.021349359303712845, 0.0077779581770300865, 0.003544576931744814, -0.06102593615651131, 0.021113228052854538, -0.027955500409007072, 0.016757244244217873, -0.04385136440396309, -0.02657860890030861, 0.03856523334980011, 0.007842027582228184, -0.026322705671191216, -0.006534559186547995, 0.007042108103632927, -0.01975501887500286, 0.02625826932489872, 0.042076896876096725, -0.004552044440060854, 0.06562674045562744, -0.08123000711202621, 0.0681847631931305, 0.0010905181989073753, 0.010826841928064823, 0.05018313229084015, 0.02349204011261463, 0.04824819415807724, 0.020286163315176964, -0.03435507416725159, 0.029005879536271095, -0.07386599481105804, 0.02742985263466835, -0.017835624516010284, 0.008903627283871174, 0.03339134901762009, -0.022504406049847603, -0.056110311299562454, -0.014380604028701782, -0.022707143798470497, -0.0481032133102417, 0.017136964946985245, 0.04242587834596634, -0.028419388458132744, 0.042510971426963806, 0.019606806337833405, 0.01316370815038681, -0.04457243159413338, 0.008311967365443707, 0.005232174880802631, -0.07362952828407288, -0.03624952211976051, 0.015850966796278954, -0.012162461876869202, -0.06429490447044373, 0.014129518531262875, 0.08136843889951706, 0.0606352798640728, 0.027110328897833824, -0.04980870336294174, 0.04713962599635124, 0.07117665559053421, -0.02921334095299244, 0.01826067641377449, 0.004957224708050489, 0.06254913657903671, 0.028598669916391373, 0.008800128474831581, -0.02465006895363331, -0.0025090198032557964, 0.016468670219182968, -0.024491779506206512, 0.052931394428014755, -0.037665028125047684, 0.024651650339365005, -0.009906825609505177, -0.016913050785660744, 0.04337979853153229, -0.010800274088978767, -0.010001832619309425, 0.01246601715683937, 0.0005404021358117461, -0.034139443188905716, -0.059474024921655655, 0.038215652108192444, 0.008908933959901333, -0.025225002318620682, -0.03916347026824951, -0.051454201340675354, -0.016702087596058846, 0.04941437393426895, 0.03946965932846069, -0.03797139227390289, 0.010217616334557533, 0.024943839758634567, 0.004655839409679174, -0.050819188356399536, -0.03834352269768715, 0.05100380629301071, -0.028347274288535118, -0.007662863004952669, -0.010361306369304657, -0.049303315579891205, 0.0826561227440834, -0.02619127742946148, -0.02277057245373726, 0.001854750677011907, 0.013957773335278034, 0.040885116904973984, 0.02327088452875614, 0.02149057574570179, 0.01844700612127781, -0.0012591311242431402, -0.012438233941793442, 0.04360450059175491, 0.009550189599394798, -0.006288370117545128, 0.008228902705013752, 0.024259978905320168, 0.03770626708865166, 0.009458816610276699, -0.005883708596229553, -0.030959390103816986, 0.03478633239865303, 0.0154571533203125, 0.01911582611501217, -0.051446184515953064, 0.020211515948176384, -0.0014919715467840433, -0.02730429172515869, 0.003931464161723852, 0.0547114834189415]\n"
          ]
        }
      ]
    },
    {
      "cell_type": "code",
      "source": [
        "len(embeddings)"
      ],
      "metadata": {
        "colab": {
          "base_uri": "https://localhost:8080/"
        },
        "id": "J6xdEUNkP9Yh",
        "outputId": "6d229f3b-1c4f-46e7-c131-bfe48dbec791"
      },
      "execution_count": 102,
      "outputs": [
        {
          "output_type": "execute_result",
          "data": {
            "text/plain": [
              "768"
            ]
          },
          "metadata": {},
          "execution_count": 102
        }
      ]
    },
    {
      "cell_type": "code",
      "source": [
        "#organize into vector\n",
        "id = \"vec62\"\n",
        "values = embeddings\n",
        "metadata = {\n",
        "    'is_duplicate':False,\n",
        "    'char_length': len(text)\n",
        "}\n",
        "\n",
        "vector = (id, values, metadata)\n",
        "print(vector)"
      ],
      "metadata": {
        "id": "gUycrGB_6FkQ",
        "colab": {
          "base_uri": "https://localhost:8080/"
        },
        "outputId": "4673eed0-f1bd-419b-b52b-fa9aa45b3d73"
      },
      "execution_count": 103,
      "outputs": [
        {
          "output_type": "stream",
          "name": "stdout",
          "text": [
            "('vec62', [0.04842783883213997, 0.00647372892126441, -0.051976002752780914, -0.025520512834191322, 0.04331560060381889, -0.06516124308109283, -0.0038804528303444386, -0.04953460022807121, 0.09117073565721512, 0.013322383165359497, -0.0046014380641281605, -0.05372092127799988, 0.013246721588075161, 0.020778566598892212, -0.06645707786083221, 0.04841157793998718, 0.018589278683066368, -0.0208139568567276, 0.020627325400710106, -0.004534528590738773, 0.011303032748401165, 0.04132404550909996, -0.01914716511964798, -0.02042854018509388, 0.04341401904821396, 0.004532219842076302, 0.0050032357685267925, 0.026532599702477455, 0.035849519073963165, -0.021335193887352943, -0.007900618948042393, 0.02434510923922062, -0.02910381555557251, 0.04047751426696777, -0.007789685856550932, -0.021850235760211945, 0.0038260796573013067, -0.027652118355035782, 0.025395698845386505, -0.0030118818394839764, -0.08460874110460281, -0.026168687269091606, 0.012439027428627014, -0.05211656168103218, -0.027483252808451653, 0.010858224704861641, -0.03910817950963974, -0.005999310407787561, 0.021588146686553955, -0.0213960949331522, 0.021611671894788742, -0.05502784624695778, -0.0171822477132082, -0.05469909682869911, -0.008253853768110275, 0.001894865999929607, -0.048642247915267944, -0.01285721454769373, 0.06477763503789902, -0.02441023290157318, -0.01115648727864027, -0.02545562945306301, 0.018104346469044685, -0.0019240654073655605, 0.07701312750577927, -0.026883987709879875, 0.022778572514653206, -0.0239474568516016, -0.013168209232389927, 0.0381927452981472, -0.0038599458057433367, 0.0022208099253475666, 0.02411382831633091, 0.015770740807056427, -0.01519780419766903, -0.004079501610249281, 0.014155346900224686, -0.010600123554468155, -0.0031595106702297926, -0.028781743720173836, 0.031008968129754066, -0.08779110759496689, -0.15395723283290863, -0.017568716779351234, -0.019696641713380814, -0.020930524915456772, 0.0034235408529639244, 0.04498584195971489, -0.06752131134271622, -0.03067857213318348, 0.0413968525826931, 0.03574695438146591, -0.008256528526544571, 0.04950957000255585, -0.026224493980407715, -0.019697625190019608, -0.0011062180856242776, -0.020927270874381065, -0.007342054974287748, 0.01737920194864273, -0.02745143696665764, -0.010785066522657871, 0.004028367809951305, -0.06684871762990952, 0.02523416467010975, -0.027032194659113884, -0.02387251891195774, -0.049879901111125946, 0.05561581254005432, 0.028096091002225876, -0.027396302670240402, -0.040197763592004776, 0.04447898268699646, -0.001881899544969201, 0.03487713262438774, -0.028259379789233208, -0.037038013339042664, -0.01054798997938633, -0.024752020835876465, 0.003045425284653902, 0.048954904079437256, -0.03489059954881668, -0.036562480032444, -0.023638557642698288, 0.000495881075039506, 0.019228553399443626, -0.015276910737156868, 0.057501379400491714, -0.013875789009034634, 0.04464329406619072, -0.032541148364543915, 0.007841555401682854, -0.02624189481139183, -0.021463725715875626, 0.011831376701593399, 0.027630839496850967, 0.018251949921250343, 0.010388210415840149, 0.01622309349477291, 0.0013076560571789742, -0.012414786964654922, -0.02098670043051243, -0.03429822996258736, -0.012135307304561138, 0.009714036248624325, -0.01950020343065262, 0.06754998862743378, 0.009850445203483105, 0.0032047750428318977, -0.020304543897509575, -0.018987789750099182, -0.05852524936199188, -0.06221595034003258, 0.015900177881121635, -0.010034141130745411, -0.03382190689444542, 0.00038383176433853805, 0.04290049523115158, -0.034109100699424744, -0.038121480494737625, -0.010366122238337994, -0.024781042709946632, -0.018098359927535057, -0.028950437903404236, -0.00832156278192997, 0.026956642046570778, -0.039689481258392334, 0.04595893621444702, 0.008731202222406864, -0.06368616223335266, 0.032112739980220795, -0.06409581750631332, -0.0003628022677730769, -0.007879672572016716, 0.0045847506262362, 0.0466780848801136, -0.04598812758922577, -0.06031234934926033, 0.012973812408745289, -0.014169568195939064, -0.0012927423231303692, 0.028149405494332314, -0.02452329732477665, 0.010489282198250294, 0.002395732793956995, 0.02253379113972187, -0.04559478163719177, -0.043110720813274384, -0.0248352512717247, -0.04768305644392967, -0.05098472908139229, 0.01054441463202238, -0.025192007422447205, -0.10923022776842117, 0.028549594804644585, 0.006857249420136213, -0.011023268103599548, 0.05084347352385521, 0.00017817539628595114, -0.01679801568388939, 0.01653747819364071, 0.0033014006912708282, -0.04187872260808945, -0.000824828224722296, 0.005091373343020678, -0.0008550385246053338, -0.01796793006360531, 0.052474215626716614, -0.018190914765000343, -0.013097611255943775, 0.034407395869493484, 0.010611246339976788, 0.022356608882546425, 0.01756167784333229, -0.006735384464263916, -0.06638074666261673, -0.0689539909362793, 0.14375509321689606, -0.06845606118440628, 0.030166760087013245, -0.017198439687490463, -0.05829569324851036, -0.009331958368420601, 0.06690455228090286, 0.03365363925695419, 0.01074623130261898, 0.005254947580397129, 0.013150508515536785, 0.01491626352071762, -0.030839426442980766, 0.021664250642061234, -0.024043090641498566, -0.020657530054450035, 0.015111537650227547, -0.035692617297172546, -0.005137121770530939, 0.0587349496781826, -0.03345593437552452, 0.04139300435781479, -0.06285616755485535, -0.10390761494636536, 0.04337006062269211, -0.011921933852136135, 0.03931593894958496, 0.0016089996788650751, -0.007252899929881096, -0.06791826337575912, 0.03664508834481239, 0.05535483360290527, -0.030857061967253685, 0.01737034320831299, -0.03067653253674507, -0.008944856002926826, -0.047299303114414215, -0.021859899163246155, -0.07614251971244812, 0.0029941219836473465, 0.020662611350417137, -0.04336608946323395, 0.05633574351668358, 0.028836959972977638, 0.04069400951266289, -0.03815385326743126, 0.02898518554866314, 0.02254846878349781, -0.006313828285783529, -0.03834671527147293, 0.0756530836224556, 0.033556707203388214, -0.025325186550617218, -0.05250689387321472, -0.032098446041345596, 0.0033403621055185795, -0.11769253760576248, 0.031451836228370667, 0.03422815352678299, 0.05407324433326721, 0.03771565482020378, -0.016073355451226234, -0.0009838491678237915, 0.0714346170425415, 0.017466114833950996, -0.031031349673867226, 0.03815551847219467, 0.01384769007563591, -0.04990198463201523, 0.06554422527551651, 0.02335572987794876, 0.06933923810720444, -0.05718836188316345, 0.011402321048080921, -0.06128932535648346, -0.03876091539859772, 0.05940857529640198, 0.014738249592483044, -0.03755853697657585, 0.03408145532011986, -0.0513581782579422, -0.011112252250313759, 0.026194196194410324, 0.03796728700399399, 0.0023032643366605043, -0.05094044655561447, -0.01680665649473667, 0.044388916343450546, 0.014875608496367931, 0.05854925885796547, 0.03555680066347122, -0.005032800137996674, 0.02082264982163906, 0.0013594086049124599, -0.0016592922620475292, -0.0174994058907032, 0.06817790120840073, 0.01730368472635746, 0.00605033291503787, 0.05020303651690483, -0.007712963968515396, 0.029191236943006516, -0.014197725802659988, 0.023321770131587982, 0.03527115285396576, 0.03229369595646858, -0.05999800190329552, -0.015110054984688759, 0.008741128258407116, -0.04007913917303085, 0.030801445245742798, -0.012631864286959171, 0.07747284322977066, -0.1204213872551918, -0.0039711594581604, -0.02056005597114563, 0.019083237275481224, -0.002354244701564312, -0.024190932512283325, -0.015579107217490673, 0.019264796748757362, 0.01612669788300991, -0.03229361027479172, -0.0016989968717098236, -0.004970435984432697, -0.02678745798766613, -0.05255928635597229, 0.043814368546009064, -0.02499648742377758, 0.02215324342250824, -0.005725625902414322, -0.04575781524181366, 0.010495509952306747, -0.00012863805750384927, 0.020228303968906403, 0.08814763277769089, -0.002910405630245805, -0.00015854151570238173, -0.06296281516551971, 0.014199634082615376, -0.01889984868466854, -0.011058849282562733, 0.05164547637104988, 0.046760980039834976, 0.02947324328124523, 0.05145792290568352, -0.06012849509716034, 0.01347373053431511, 0.010226672515273094, -0.05960159748792648, -0.0021352367475628853, -0.02716490998864174, 0.04071826487779617, 0.041586246341466904, 0.03836806118488312, 0.02504686638712883, 0.03839375078678131, 0.008054405450820923, -0.025434236973524094, -0.019168265163898468, 0.023269886150956154, 0.035730842500925064, -0.018710630014538765, 0.004961004015058279, 0.004766285419464111, 0.0015055888798087835, -0.009073494002223015, -0.016276197507977486, -0.034928351640701294, -0.0408821664750576, -0.02483375556766987, 0.0640638992190361, 0.027140667662024498, 0.023984337225556374, 0.0010869073448702693, 0.004660428501665592, -0.018966637551784515, 0.00884200632572174, -0.010818983428180218, -0.049229416996240616, 0.0542067289352417, -0.09191789478063583, -0.03613254427909851, -0.004106154665350914, 0.03297967463731766, -0.04436670243740082, 0.033216409385204315, 0.040482908487319946, 0.008927876129746437, -0.049240097403526306, -0.025746142491698265, -0.00560342613607645, -0.009996684268116951, 0.02797243930399418, 0.02911134995520115, -0.03834017366170883, -0.03798617795109749, -0.0180492140352726, -0.0021719529759138823, 0.0019461826886981726, -0.02568727731704712, 0.029552213847637177, -0.02034478820860386, 0.004864636342972517, -0.026889707893133163, 0.061476826667785645, -0.003964964300394058, 0.05914473906159401, 0.03512554243206978, 0.028354687616229057, 0.016504919156432152, -0.052941642701625824, 0.012082316912710667, -0.03226820006966591, -0.003937893081456423, 0.002851888071745634, -0.006307817064225674, 0.05884185805916786, -0.0154722323641181, 0.032232556492090225, 0.059537000954151154, -0.009063098579645157, -0.0161028653383255, 0.0378287173807621, 0.010491783730685711, -0.002746040467172861, -0.07303909957408905, 0.03982638195157051, -0.03185657411813736, 0.01944473199546337, 0.023791097104549408, 0.008976361714303493, 0.031750716269016266, -0.04578568413853645, 0.019571591168642044, -0.024210937321186066, -0.04290264844894409, -0.06391452997922897, 0.09270226210355759, -0.007033854257315397, 0.055743806064128876, 0.04226759076118469, 0.0014701724285259843, -0.02515598013997078, 0.03685816749930382, -0.0023662850726395845, -0.007602851837873459, 0.02440183237195015, -0.04119216278195381, 0.011846430599689484, -0.07247406989336014, 0.011327378451824188, -0.0019769726786762476, 0.004236653912812471, -0.04303336143493652, 0.046632397919893265, 0.017934361472725868, -0.039186619222164154, 0.03400760143995285, -0.02386620081961155, 0.026415186002850533, -0.011607857421040535, 0.0075306762009859085, 0.01256569568067789, -0.002600810257717967, 0.019714441150426865, -0.01479430217295885, -0.03671799972653389, 0.03157426416873932, -0.0031995021272450686, -6.422823935281485e-05, 0.0032504128757864237, -0.010320709086954594, -0.011479452252388, 0.03909410536289215, -0.033041831105947495, -0.0043027629144489765, 1.940487890909193e-33, -0.04102695360779762, -0.010738987475633621, -0.011638112366199493, 0.026222532615065575, 0.03820935636758804, 0.011147412471473217, 0.013707323931157589, 0.03454109653830528, -0.022905409336090088, 0.016153953969478607, -0.04314776882529259, 0.05192745104432106, -0.01838027685880661, -0.04122161492705345, 0.003984486218541861, 0.03821135684847832, 0.01978117600083351, -0.07482975721359253, 0.0287528857588768, -0.030222099274396896, 0.005872711073607206, 0.02203371562063694, 0.0073041594587266445, -0.025725465267896652, -0.04434898868203163, 0.016444619745016098, 0.03197944536805153, -0.00593274412676692, 0.015022225677967072, -0.015702102333307266, -0.004441768396645784, 0.058403365314006805, -0.0012839757837355137, -0.010857824236154556, -0.005073407664895058, 0.012305096723139286, 0.021109512075781822, 0.05333876982331276, -0.03668574243783951, -0.0132552869617939, 0.005220350343734026, 0.014817900955677032, 0.06771744042634964, 0.03984048217535019, 0.022791137918829918, -0.015285694040358067, 0.026394784450531006, 0.009893257170915604, -0.033683814108371735, 0.06271740049123764, 0.021134721115231514, -0.012202066369354725, -0.025816861540079117, 0.018899589776992798, -0.03556551784276962, -0.012079015374183655, -0.11129751056432724, 0.0549941286444664, 0.027372101321816444, 0.09672936797142029, -0.004744529724121094, 0.043466243892908096, 0.04055965691804886, 0.003271770430728793, -0.0008763361838646233, -0.027955200523138046, 0.06284452974796295, 0.0647476464509964, -0.05021023750305176, -0.057847071439027786, -0.024103790521621704, 0.04212303087115288, 0.04349010810256004, -0.03645803779363632, 0.069559246301651, -0.0160769484937191, 0.030206654220819473, -0.04021719470620155, 0.04356854408979416, -0.015603792853653431, 0.002780892886221409, 0.04202296957373619, -0.007909555919468403, -0.03140399977564812, -0.007954332046210766, 0.015288479626178741, 0.013126909732818604, 0.06817243248224258, 0.01531083695590496, 0.0015769205056130886, 0.0468808151781559, 0.06762059777975082, -0.006101720500737429, 0.00018418570107314736, 0.011023595929145813, -0.007010912988334894, 0.010957933962345123, 0.014198672957718372, -0.02671138010919094, -0.048070959746837616, 0.025880493223667145, 0.007833425886929035, 0.006697649136185646, 0.04394620656967163, -0.07002941519021988, -0.014313697814941406, -0.05390835180878639, -0.004122893791645765, 0.014461657032370567, -0.02918005920946598, 0.010692600160837173, -0.004355491138994694, -0.044140491634607315, 0.04957063868641853, -0.02068748138844967, 0.037026822566986084, -0.12324501574039459, 0.019776472821831703, 0.05170993506908417, 0.02457328327000141, -0.04415559768676758, 0.010608184151351452, -0.008610186167061329, 0.008510405197739601, -0.023580320179462433, 0.052348729223012924, -0.04561552777886391, 0.023193111643195152, 0.0032879801001399755, -0.005108291283249855, -0.014888784848153591, -0.024621782824397087, 0.04149393364787102, -0.003262772224843502, -0.013699705712497234, 0.045449398458004, -0.015330985188484192, -0.056663960218429565, 0.025419699028134346, 0.017302079126238823, -0.009922302328050137, 0.025034306570887566, 0.03059123083949089, 0.021349359303712845, 0.0077779581770300865, 0.003544576931744814, -0.06102593615651131, 0.021113228052854538, -0.027955500409007072, 0.016757244244217873, -0.04385136440396309, -0.02657860890030861, 0.03856523334980011, 0.007842027582228184, -0.026322705671191216, -0.006534559186547995, 0.007042108103632927, -0.01975501887500286, 0.02625826932489872, 0.042076896876096725, -0.004552044440060854, 0.06562674045562744, -0.08123000711202621, 0.0681847631931305, 0.0010905181989073753, 0.010826841928064823, 0.05018313229084015, 0.02349204011261463, 0.04824819415807724, 0.020286163315176964, -0.03435507416725159, 0.029005879536271095, -0.07386599481105804, 0.02742985263466835, -0.017835624516010284, 0.008903627283871174, 0.03339134901762009, -0.022504406049847603, -0.056110311299562454, -0.014380604028701782, -0.022707143798470497, -0.0481032133102417, 0.017136964946985245, 0.04242587834596634, -0.028419388458132744, 0.042510971426963806, 0.019606806337833405, 0.01316370815038681, -0.04457243159413338, 0.008311967365443707, 0.005232174880802631, -0.07362952828407288, -0.03624952211976051, 0.015850966796278954, -0.012162461876869202, -0.06429490447044373, 0.014129518531262875, 0.08136843889951706, 0.0606352798640728, 0.027110328897833824, -0.04980870336294174, 0.04713962599635124, 0.07117665559053421, -0.02921334095299244, 0.01826067641377449, 0.004957224708050489, 0.06254913657903671, 0.028598669916391373, 0.008800128474831581, -0.02465006895363331, -0.0025090198032557964, 0.016468670219182968, -0.024491779506206512, 0.052931394428014755, -0.037665028125047684, 0.024651650339365005, -0.009906825609505177, -0.016913050785660744, 0.04337979853153229, -0.010800274088978767, -0.010001832619309425, 0.01246601715683937, 0.0005404021358117461, -0.034139443188905716, -0.059474024921655655, 0.038215652108192444, 0.008908933959901333, -0.025225002318620682, -0.03916347026824951, -0.051454201340675354, -0.016702087596058846, 0.04941437393426895, 0.03946965932846069, -0.03797139227390289, 0.010217616334557533, 0.024943839758634567, 0.004655839409679174, -0.050819188356399536, -0.03834352269768715, 0.05100380629301071, -0.028347274288535118, -0.007662863004952669, -0.010361306369304657, -0.049303315579891205, 0.0826561227440834, -0.02619127742946148, -0.02277057245373726, 0.001854750677011907, 0.013957773335278034, 0.040885116904973984, 0.02327088452875614, 0.02149057574570179, 0.01844700612127781, -0.0012591311242431402, -0.012438233941793442, 0.04360450059175491, 0.009550189599394798, -0.006288370117545128, 0.008228902705013752, 0.024259978905320168, 0.03770626708865166, 0.009458816610276699, -0.005883708596229553, -0.030959390103816986, 0.03478633239865303, 0.0154571533203125, 0.01911582611501217, -0.051446184515953064, 0.020211515948176384, -0.0014919715467840433, -0.02730429172515869, 0.003931464161723852, 0.0547114834189415], {'is_duplicate': False, 'char_length': 51})\n"
          ]
        }
      ]
    },
    {
      "cell_type": "code",
      "source": [
        "#connecting to pinecone\n",
        "with open('API_KEY.py') as f:\n",
        "  API_KEY = f.readline()\n",
        "\n",
        "import pinecone\n",
        "pinecone.init(api_key=API_KEY, environment='gcp-starter') #just next to API_KEY in console\n",
        "#pinecone.create_index(name= 'semantic-search', dimention=768)\n",
        "index = pinecone.Index('semantic-search')"
      ],
      "metadata": {
        "id": "NMMDt2-f6Fmx"
      },
      "execution_count": 104,
      "outputs": []
    },
    {
      "cell_type": "code",
      "source": [
        "print(API_KEY)"
      ],
      "metadata": {
        "colab": {
          "base_uri": "https://localhost:8080/"
        },
        "id": "oWBM55KyTgfj",
        "outputId": "746f5b68-d1af-43a2-f879-aede0e6cdd98"
      },
      "execution_count": 105,
      "outputs": [
        {
          "output_type": "stream",
          "name": "stdout",
          "text": [
            "df3924c8-2776-4311-b078-4b56004fe8e6\n"
          ]
        }
      ]
    },
    {
      "cell_type": "code",
      "source": [
        "#upsert inex\n",
        "index.upsert(vectors=[vector])"
      ],
      "metadata": {
        "id": "VXQpsXBV6Fqc",
        "colab": {
          "base_uri": "https://localhost:8080/"
        },
        "outputId": "f19819a0-49aa-4c11-a842-b51618363f14"
      },
      "execution_count": 106,
      "outputs": [
        {
          "output_type": "execute_result",
          "data": {
            "text/plain": [
              "{'upserted_count': 1}"
            ]
          },
          "metadata": {},
          "execution_count": 106
        }
      ]
    },
    {
      "cell_type": "code",
      "source": [
        "#check index\n",
        "index.describe_index_stats()"
      ],
      "metadata": {
        "id": "QLkq-MCgbP28",
        "colab": {
          "base_uri": "https://localhost:8080/"
        },
        "outputId": "43c46187-a0c6-46a7-fbf7-ded7a2d94920"
      },
      "execution_count": 107,
      "outputs": [
        {
          "output_type": "execute_result",
          "data": {
            "text/plain": [
              "{'dimension': 768,\n",
              " 'index_fullness': 0.43922,\n",
              " 'namespaces': {'': {'vector_count': 43922}},\n",
              " 'total_vector_count': 43922}"
            ]
          },
          "metadata": {},
          "execution_count": 107
        }
      ]
    },
    {
      "cell_type": "markdown",
      "source": [
        "** For UPSERT More Data**"
      ],
      "metadata": {
        "id": "25FeLYvybk47"
      }
    },
    {
      "cell_type": "code",
      "source": [
        "type(quora)"
      ],
      "metadata": {
        "colab": {
          "base_uri": "https://localhost:8080/"
        },
        "id": "PruFnkQQublC",
        "outputId": "22aa45bd-f2ea-4c1b-bfc0-97acbb77b1d8"
      },
      "execution_count": 108,
      "outputs": [
        {
          "output_type": "execute_result",
          "data": {
            "text/plain": [
              "datasets.arrow_dataset.Dataset"
            ]
          },
          "metadata": {},
          "execution_count": 108
        }
      ]
    },
    {
      "cell_type": "code",
      "source": [
        "quora.shape"
      ],
      "metadata": {
        "colab": {
          "base_uri": "https://localhost:8080/"
        },
        "id": "VOeB17XKsFHe",
        "outputId": "306294e6-5c79-4610-c1b4-7823e7bf795e"
      },
      "execution_count": 109,
      "outputs": [
        {
          "output_type": "execute_result",
          "data": {
            "text/plain": [
              "(404290, 2)"
            ]
          },
          "metadata": {},
          "execution_count": 109
        }
      ]
    },
    {
      "cell_type": "code",
      "source": [
        "quora_subset = quora.select([i for i in range(100)])"
      ],
      "metadata": {
        "id": "23ZTsrFL2sfb"
      },
      "execution_count": 110,
      "outputs": []
    },
    {
      "cell_type": "code",
      "source": [
        "type(quora_subset)"
      ],
      "metadata": {
        "colab": {
          "base_uri": "https://localhost:8080/"
        },
        "id": "ote_Phl_1I4P",
        "outputId": "150a87bc-6054-4840-a0dd-c637942a2bcf"
      },
      "execution_count": 111,
      "outputs": [
        {
          "output_type": "execute_result",
          "data": {
            "text/plain": [
              "datasets.arrow_dataset.Dataset"
            ]
          },
          "metadata": {},
          "execution_count": 111
        }
      ]
    },
    {
      "cell_type": "code",
      "source": [
        "quora_subset.shape"
      ],
      "metadata": {
        "colab": {
          "base_uri": "https://localhost:8080/"
        },
        "id": "YIl3bkP34cfd",
        "outputId": "47ad2c9e-84cd-4c20-f62e-f4c3aac32c09"
      },
      "execution_count": 112,
      "outputs": [
        {
          "output_type": "execute_result",
          "data": {
            "text/plain": [
              "(100000, 2)"
            ]
          },
          "metadata": {},
          "execution_count": 112
        }
      ]
    },
    {
      "cell_type": "code",
      "source": [
        "\n",
        "upsert_more = True\n",
        "\n",
        "if upsert_more:\n",
        "  from tqdm.auto import tqdm\n",
        "  data = []\n",
        "  #looping through and create json files\n",
        "  for i, row in enumerate(tqdm(quora_subset)):\n",
        "    #each quora row contains a pair of sentence,loop through both\n",
        "    for pair in [0, 1]:\n",
        "      text = row['questions']['text'][pair]\n",
        "      #appending the (id, vector, metadata) tuple to our data list\n",
        "      data.append((\n",
        "          str(row['questions']['id'][pair]),\n",
        "          model.encode(text).tolist(),\n",
        "          {\n",
        "              'is_duplicate': int(row['is_duplicate']),\n",
        "              'char_length': len(text)\n",
        "          }\n",
        "      ))\n",
        "    #once we reach the end of dataset or 100 samples, upsert to pinecone\n",
        "    if len(data) == 100 or i == len(quora):\n",
        "      index.upsert(vectors = data)\n",
        "      #and now reset the data list\n",
        "      data = []\n"
      ],
      "metadata": {
        "id": "0oHp92OmbP5_",
        "colab": {
          "base_uri": "https://localhost:8080/",
          "height": 545,
          "referenced_widgets": [
            "d1fec6be735a44e186e1dd692a37773f",
            "11959103e2a8434e85f3ab9a7abbcf7c",
            "47dabd58e300431cafbd03d52151c071",
            "5ab42aa4313c4ec1b1ce78ad76deee2a",
            "ce7033e1dfa14decbd9b19d6761b8352",
            "640ac4ee3e7246fd8b1a1e256268331c",
            "a0c0d60f1c284313adc4b81cd956d70f",
            "d80dc6d47352491399a34e3c3337578f",
            "3d0f7e7b3f2e43428c8f7743ad120f3b",
            "24ffffd92e3943a1ab243e9b72d0e814",
            "765d16d0934c4d4b9db19f9f3b3adcb3"
          ]
        },
        "outputId": "4056eb21-c8b3-43ae-d62a-689954a96f8f"
      },
      "execution_count": 113,
      "outputs": [
        {
          "output_type": "display_data",
          "data": {
            "text/plain": [
              "  0%|          | 0/100000 [00:00<?, ?it/s]"
            ],
            "application/vnd.jupyter.widget-view+json": {
              "version_major": 2,
              "version_minor": 0,
              "model_id": "d1fec6be735a44e186e1dd692a37773f"
            }
          },
          "metadata": {}
        },
        {
          "output_type": "error",
          "ename": "ApiException",
          "evalue": "ignored",
          "traceback": [
            "\u001b[0;31m---------------------------------------------------------------------------\u001b[0m",
            "\u001b[0;31mApiException\u001b[0m                              Traceback (most recent call last)",
            "\u001b[0;32m<ipython-input-113-996b2dc349ec>\u001b[0m in \u001b[0;36m<cell line: 3>\u001b[0;34m()\u001b[0m\n\u001b[1;32m     20\u001b[0m     \u001b[0;31m#once we reach the end of dataset or 100 samples, upsert to pinecone\u001b[0m\u001b[0;34m\u001b[0m\u001b[0;34m\u001b[0m\u001b[0m\n\u001b[1;32m     21\u001b[0m     \u001b[0;32mif\u001b[0m \u001b[0mlen\u001b[0m\u001b[0;34m(\u001b[0m\u001b[0mdata\u001b[0m\u001b[0;34m)\u001b[0m \u001b[0;34m==\u001b[0m \u001b[0;36m100\u001b[0m \u001b[0;32mor\u001b[0m \u001b[0mi\u001b[0m \u001b[0;34m==\u001b[0m \u001b[0mlen\u001b[0m\u001b[0;34m(\u001b[0m\u001b[0mquora\u001b[0m\u001b[0;34m)\u001b[0m\u001b[0;34m:\u001b[0m\u001b[0;34m\u001b[0m\u001b[0;34m\u001b[0m\u001b[0m\n\u001b[0;32m---> 22\u001b[0;31m       \u001b[0mindex\u001b[0m\u001b[0;34m.\u001b[0m\u001b[0mupsert\u001b[0m\u001b[0;34m(\u001b[0m\u001b[0mvectors\u001b[0m \u001b[0;34m=\u001b[0m \u001b[0mdata\u001b[0m\u001b[0;34m)\u001b[0m\u001b[0;34m\u001b[0m\u001b[0;34m\u001b[0m\u001b[0m\n\u001b[0m\u001b[1;32m     23\u001b[0m       \u001b[0;31m#and now reset the data list\u001b[0m\u001b[0;34m\u001b[0m\u001b[0;34m\u001b[0m\u001b[0m\n\u001b[1;32m     24\u001b[0m       \u001b[0mdata\u001b[0m \u001b[0;34m=\u001b[0m \u001b[0;34m[\u001b[0m\u001b[0;34m]\u001b[0m\u001b[0;34m\u001b[0m\u001b[0;34m\u001b[0m\u001b[0m\n",
            "\u001b[0;32m/usr/local/lib/python3.10/dist-packages/pinecone/core/utils/error_handling.py\u001b[0m in \u001b[0;36minner_func\u001b[0;34m(*args, **kwargs)\u001b[0m\n\u001b[1;32m     15\u001b[0m         \u001b[0mConfig\u001b[0m\u001b[0;34m.\u001b[0m\u001b[0mvalidate\u001b[0m\u001b[0;34m(\u001b[0m\u001b[0;34m)\u001b[0m  \u001b[0;31m# raises exceptions in case of invalid config\u001b[0m\u001b[0;34m\u001b[0m\u001b[0;34m\u001b[0m\u001b[0m\n\u001b[1;32m     16\u001b[0m         \u001b[0;32mtry\u001b[0m\u001b[0;34m:\u001b[0m\u001b[0;34m\u001b[0m\u001b[0;34m\u001b[0m\u001b[0m\n\u001b[0;32m---> 17\u001b[0;31m             \u001b[0;32mreturn\u001b[0m \u001b[0mfunc\u001b[0m\u001b[0;34m(\u001b[0m\u001b[0;34m*\u001b[0m\u001b[0margs\u001b[0m\u001b[0;34m,\u001b[0m \u001b[0;34m**\u001b[0m\u001b[0mkwargs\u001b[0m\u001b[0;34m)\u001b[0m\u001b[0;34m\u001b[0m\u001b[0;34m\u001b[0m\u001b[0m\n\u001b[0m\u001b[1;32m     18\u001b[0m         \u001b[0;32mexcept\u001b[0m \u001b[0mMaxRetryError\u001b[0m \u001b[0;32mas\u001b[0m \u001b[0me\u001b[0m\u001b[0;34m:\u001b[0m\u001b[0;34m\u001b[0m\u001b[0;34m\u001b[0m\u001b[0m\n\u001b[1;32m     19\u001b[0m             \u001b[0;32mif\u001b[0m \u001b[0misinstance\u001b[0m\u001b[0;34m(\u001b[0m\u001b[0me\u001b[0m\u001b[0;34m.\u001b[0m\u001b[0mreason\u001b[0m\u001b[0;34m,\u001b[0m \u001b[0mProtocolError\u001b[0m\u001b[0;34m)\u001b[0m\u001b[0;34m:\u001b[0m\u001b[0;34m\u001b[0m\u001b[0;34m\u001b[0m\u001b[0m\n",
            "\u001b[0;32m/usr/local/lib/python3.10/dist-packages/pinecone/index.py\u001b[0m in \u001b[0;36mupsert\u001b[0;34m(self, vectors, namespace, batch_size, show_progress, **kwargs)\u001b[0m\n\u001b[1;32m    148\u001b[0m \u001b[0;34m\u001b[0m\u001b[0m\n\u001b[1;32m    149\u001b[0m         \u001b[0;32mif\u001b[0m \u001b[0mbatch_size\u001b[0m \u001b[0;32mis\u001b[0m \u001b[0;32mNone\u001b[0m\u001b[0;34m:\u001b[0m\u001b[0;34m\u001b[0m\u001b[0;34m\u001b[0m\u001b[0m\n\u001b[0;32m--> 150\u001b[0;31m             \u001b[0;32mreturn\u001b[0m \u001b[0mself\u001b[0m\u001b[0;34m.\u001b[0m\u001b[0m_upsert_batch\u001b[0m\u001b[0;34m(\u001b[0m\u001b[0mvectors\u001b[0m\u001b[0;34m,\u001b[0m \u001b[0mnamespace\u001b[0m\u001b[0;34m,\u001b[0m \u001b[0m_check_type\u001b[0m\u001b[0;34m,\u001b[0m \u001b[0;34m**\u001b[0m\u001b[0mkwargs\u001b[0m\u001b[0;34m)\u001b[0m\u001b[0;34m\u001b[0m\u001b[0;34m\u001b[0m\u001b[0m\n\u001b[0m\u001b[1;32m    151\u001b[0m \u001b[0;34m\u001b[0m\u001b[0m\n\u001b[1;32m    152\u001b[0m         \u001b[0;32mif\u001b[0m \u001b[0;32mnot\u001b[0m \u001b[0misinstance\u001b[0m\u001b[0;34m(\u001b[0m\u001b[0mbatch_size\u001b[0m\u001b[0;34m,\u001b[0m \u001b[0mint\u001b[0m\u001b[0;34m)\u001b[0m \u001b[0;32mor\u001b[0m \u001b[0mbatch_size\u001b[0m \u001b[0;34m<=\u001b[0m \u001b[0;36m0\u001b[0m\u001b[0;34m:\u001b[0m\u001b[0;34m\u001b[0m\u001b[0;34m\u001b[0m\u001b[0m\n",
            "\u001b[0;32m/usr/local/lib/python3.10/dist-packages/pinecone/index.py\u001b[0m in \u001b[0;36m_upsert_batch\u001b[0;34m(self, vectors, namespace, _check_type, **kwargs)\u001b[0m\n\u001b[1;32m    235\u001b[0m             \u001b[0;32mraise\u001b[0m \u001b[0mValueError\u001b[0m\u001b[0;34m(\u001b[0m\u001b[0;34mf\"Invalid vector value passed: cannot interpret type {type(item)}\"\u001b[0m\u001b[0;34m)\u001b[0m\u001b[0;34m\u001b[0m\u001b[0;34m\u001b[0m\u001b[0m\n\u001b[1;32m    236\u001b[0m \u001b[0;34m\u001b[0m\u001b[0m\n\u001b[0;32m--> 237\u001b[0;31m         return self._vector_api.upsert(\n\u001b[0m\u001b[1;32m    238\u001b[0m             UpsertRequest(\n\u001b[1;32m    239\u001b[0m                 \u001b[0mvectors\u001b[0m\u001b[0;34m=\u001b[0m\u001b[0mlist\u001b[0m\u001b[0;34m(\u001b[0m\u001b[0mmap\u001b[0m\u001b[0;34m(\u001b[0m\u001b[0m_vector_transform\u001b[0m\u001b[0;34m,\u001b[0m \u001b[0mvectors\u001b[0m\u001b[0;34m)\u001b[0m\u001b[0;34m)\u001b[0m\u001b[0;34m,\u001b[0m\u001b[0;34m\u001b[0m\u001b[0;34m\u001b[0m\u001b[0m\n",
            "\u001b[0;32m/usr/local/lib/python3.10/dist-packages/pinecone/core/client/api_client.py\u001b[0m in \u001b[0;36m__call__\u001b[0;34m(self, *args, **kwargs)\u001b[0m\n\u001b[1;32m    774\u001b[0m \u001b[0;34m\u001b[0m\u001b[0m\n\u001b[1;32m    775\u001b[0m         \"\"\"\n\u001b[0;32m--> 776\u001b[0;31m         \u001b[0;32mreturn\u001b[0m \u001b[0mself\u001b[0m\u001b[0;34m.\u001b[0m\u001b[0mcallable\u001b[0m\u001b[0;34m(\u001b[0m\u001b[0mself\u001b[0m\u001b[0;34m,\u001b[0m \u001b[0;34m*\u001b[0m\u001b[0margs\u001b[0m\u001b[0;34m,\u001b[0m \u001b[0;34m**\u001b[0m\u001b[0mkwargs\u001b[0m\u001b[0;34m)\u001b[0m\u001b[0;34m\u001b[0m\u001b[0;34m\u001b[0m\u001b[0m\n\u001b[0m\u001b[1;32m    777\u001b[0m \u001b[0;34m\u001b[0m\u001b[0m\n\u001b[1;32m    778\u001b[0m     \u001b[0;32mdef\u001b[0m \u001b[0mcall_with_http_info\u001b[0m\u001b[0;34m(\u001b[0m\u001b[0mself\u001b[0m\u001b[0;34m,\u001b[0m \u001b[0;34m**\u001b[0m\u001b[0mkwargs\u001b[0m\u001b[0;34m)\u001b[0m\u001b[0;34m:\u001b[0m\u001b[0;34m\u001b[0m\u001b[0;34m\u001b[0m\u001b[0m\n",
            "\u001b[0;32m/usr/local/lib/python3.10/dist-packages/pinecone/core/client/api/vector_operations_api.py\u001b[0m in \u001b[0;36m__upsert\u001b[0;34m(self, upsert_request, **kwargs)\u001b[0m\n\u001b[1;32m    954\u001b[0m             \u001b[0mkwargs\u001b[0m\u001b[0;34m[\u001b[0m\u001b[0;34m'upsert_request'\u001b[0m\u001b[0;34m]\u001b[0m \u001b[0;34m=\u001b[0m\u001b[0;31m \u001b[0m\u001b[0;31m\\\u001b[0m\u001b[0;34m\u001b[0m\u001b[0;34m\u001b[0m\u001b[0m\n\u001b[1;32m    955\u001b[0m                 \u001b[0mupsert_request\u001b[0m\u001b[0;34m\u001b[0m\u001b[0;34m\u001b[0m\u001b[0m\n\u001b[0;32m--> 956\u001b[0;31m             \u001b[0;32mreturn\u001b[0m \u001b[0mself\u001b[0m\u001b[0;34m.\u001b[0m\u001b[0mcall_with_http_info\u001b[0m\u001b[0;34m(\u001b[0m\u001b[0;34m**\u001b[0m\u001b[0mkwargs\u001b[0m\u001b[0;34m)\u001b[0m\u001b[0;34m\u001b[0m\u001b[0;34m\u001b[0m\u001b[0m\n\u001b[0m\u001b[1;32m    957\u001b[0m \u001b[0;34m\u001b[0m\u001b[0m\n\u001b[1;32m    958\u001b[0m         self.upsert = _Endpoint(\n",
            "\u001b[0;32m/usr/local/lib/python3.10/dist-packages/pinecone/core/client/api_client.py\u001b[0m in \u001b[0;36mcall_with_http_info\u001b[0;34m(self, **kwargs)\u001b[0m\n\u001b[1;32m    836\u001b[0m             \u001b[0mparams\u001b[0m\u001b[0;34m[\u001b[0m\u001b[0;34m'header'\u001b[0m\u001b[0;34m]\u001b[0m\u001b[0;34m[\u001b[0m\u001b[0;34m'Content-Type'\u001b[0m\u001b[0;34m]\u001b[0m \u001b[0;34m=\u001b[0m \u001b[0mheader_list\u001b[0m\u001b[0;34m\u001b[0m\u001b[0;34m\u001b[0m\u001b[0m\n\u001b[1;32m    837\u001b[0m \u001b[0;34m\u001b[0m\u001b[0m\n\u001b[0;32m--> 838\u001b[0;31m         return self.api_client.call_api(\n\u001b[0m\u001b[1;32m    839\u001b[0m             \u001b[0mself\u001b[0m\u001b[0;34m.\u001b[0m\u001b[0msettings\u001b[0m\u001b[0;34m[\u001b[0m\u001b[0;34m'endpoint_path'\u001b[0m\u001b[0;34m]\u001b[0m\u001b[0;34m,\u001b[0m \u001b[0mself\u001b[0m\u001b[0;34m.\u001b[0m\u001b[0msettings\u001b[0m\u001b[0;34m[\u001b[0m\u001b[0;34m'http_method'\u001b[0m\u001b[0;34m]\u001b[0m\u001b[0;34m,\u001b[0m\u001b[0;34m\u001b[0m\u001b[0;34m\u001b[0m\u001b[0m\n\u001b[1;32m    840\u001b[0m             \u001b[0mparams\u001b[0m\u001b[0;34m[\u001b[0m\u001b[0;34m'path'\u001b[0m\u001b[0;34m]\u001b[0m\u001b[0;34m,\u001b[0m\u001b[0;34m\u001b[0m\u001b[0;34m\u001b[0m\u001b[0m\n",
            "\u001b[0;32m/usr/local/lib/python3.10/dist-packages/pinecone/core/client/api_client.py\u001b[0m in \u001b[0;36mcall_api\u001b[0;34m(self, resource_path, method, path_params, query_params, header_params, body, post_params, files, response_type, auth_settings, async_req, _return_http_data_only, collection_formats, _preload_content, _request_timeout, _host, _check_type)\u001b[0m\n\u001b[1;32m    411\u001b[0m         \"\"\"\n\u001b[1;32m    412\u001b[0m         \u001b[0;32mif\u001b[0m \u001b[0;32mnot\u001b[0m \u001b[0masync_req\u001b[0m\u001b[0;34m:\u001b[0m\u001b[0;34m\u001b[0m\u001b[0;34m\u001b[0m\u001b[0m\n\u001b[0;32m--> 413\u001b[0;31m             return self.__call_api(resource_path, method,\n\u001b[0m\u001b[1;32m    414\u001b[0m                                    \u001b[0mpath_params\u001b[0m\u001b[0;34m,\u001b[0m \u001b[0mquery_params\u001b[0m\u001b[0;34m,\u001b[0m \u001b[0mheader_params\u001b[0m\u001b[0;34m,\u001b[0m\u001b[0;34m\u001b[0m\u001b[0;34m\u001b[0m\u001b[0m\n\u001b[1;32m    415\u001b[0m                                    \u001b[0mbody\u001b[0m\u001b[0;34m,\u001b[0m \u001b[0mpost_params\u001b[0m\u001b[0;34m,\u001b[0m \u001b[0mfiles\u001b[0m\u001b[0;34m,\u001b[0m\u001b[0;34m\u001b[0m\u001b[0;34m\u001b[0m\u001b[0m\n",
            "\u001b[0;32m/usr/local/lib/python3.10/dist-packages/pinecone/core/client/api_client.py\u001b[0m in \u001b[0;36m__call_api\u001b[0;34m(self, resource_path, method, path_params, query_params, header_params, body, post_params, files, response_type, auth_settings, _return_http_data_only, collection_formats, _preload_content, _request_timeout, _host, _check_type)\u001b[0m\n\u001b[1;32m    205\u001b[0m         \u001b[0;32mexcept\u001b[0m \u001b[0mApiException\u001b[0m \u001b[0;32mas\u001b[0m \u001b[0me\u001b[0m\u001b[0;34m:\u001b[0m\u001b[0;34m\u001b[0m\u001b[0;34m\u001b[0m\u001b[0m\n\u001b[1;32m    206\u001b[0m             \u001b[0me\u001b[0m\u001b[0;34m.\u001b[0m\u001b[0mbody\u001b[0m \u001b[0;34m=\u001b[0m \u001b[0me\u001b[0m\u001b[0;34m.\u001b[0m\u001b[0mbody\u001b[0m\u001b[0;34m.\u001b[0m\u001b[0mdecode\u001b[0m\u001b[0;34m(\u001b[0m\u001b[0;34m'utf-8'\u001b[0m\u001b[0;34m)\u001b[0m\u001b[0;34m\u001b[0m\u001b[0;34m\u001b[0m\u001b[0m\n\u001b[0;32m--> 207\u001b[0;31m             \u001b[0;32mraise\u001b[0m \u001b[0me\u001b[0m\u001b[0;34m\u001b[0m\u001b[0;34m\u001b[0m\u001b[0m\n\u001b[0m\u001b[1;32m    208\u001b[0m \u001b[0;34m\u001b[0m\u001b[0m\n\u001b[1;32m    209\u001b[0m         \u001b[0mself\u001b[0m\u001b[0;34m.\u001b[0m\u001b[0mlast_response\u001b[0m \u001b[0;34m=\u001b[0m \u001b[0mresponse_data\u001b[0m\u001b[0;34m\u001b[0m\u001b[0;34m\u001b[0m\u001b[0m\n",
            "\u001b[0;32m/usr/local/lib/python3.10/dist-packages/pinecone/core/client/api_client.py\u001b[0m in \u001b[0;36m__call_api\u001b[0;34m(self, resource_path, method, path_params, query_params, header_params, body, post_params, files, response_type, auth_settings, _return_http_data_only, collection_formats, _preload_content, _request_timeout, _host, _check_type)\u001b[0m\n\u001b[1;32m    198\u001b[0m         \u001b[0;32mtry\u001b[0m\u001b[0;34m:\u001b[0m\u001b[0;34m\u001b[0m\u001b[0;34m\u001b[0m\u001b[0m\n\u001b[1;32m    199\u001b[0m             \u001b[0;31m# perform request and return response\u001b[0m\u001b[0;34m\u001b[0m\u001b[0;34m\u001b[0m\u001b[0m\n\u001b[0;32m--> 200\u001b[0;31m             response_data = self.request(\n\u001b[0m\u001b[1;32m    201\u001b[0m                 \u001b[0mmethod\u001b[0m\u001b[0;34m,\u001b[0m \u001b[0murl\u001b[0m\u001b[0;34m,\u001b[0m \u001b[0mquery_params\u001b[0m\u001b[0;34m=\u001b[0m\u001b[0mquery_params\u001b[0m\u001b[0;34m,\u001b[0m \u001b[0mheaders\u001b[0m\u001b[0;34m=\u001b[0m\u001b[0mheader_params\u001b[0m\u001b[0;34m,\u001b[0m\u001b[0;34m\u001b[0m\u001b[0;34m\u001b[0m\u001b[0m\n\u001b[1;32m    202\u001b[0m                 \u001b[0mpost_params\u001b[0m\u001b[0;34m=\u001b[0m\u001b[0mpost_params\u001b[0m\u001b[0;34m,\u001b[0m \u001b[0mbody\u001b[0m\u001b[0;34m=\u001b[0m\u001b[0mbody\u001b[0m\u001b[0;34m,\u001b[0m\u001b[0;34m\u001b[0m\u001b[0;34m\u001b[0m\u001b[0m\n",
            "\u001b[0;32m/usr/local/lib/python3.10/dist-packages/pinecone/core/client/api_client.py\u001b[0m in \u001b[0;36mrequest\u001b[0;34m(self, method, url, query_params, headers, post_params, body, _preload_content, _request_timeout)\u001b[0m\n\u001b[1;32m    457\u001b[0m                                             body=body)\n\u001b[1;32m    458\u001b[0m         \u001b[0;32melif\u001b[0m \u001b[0mmethod\u001b[0m \u001b[0;34m==\u001b[0m \u001b[0;34m\"POST\"\u001b[0m\u001b[0;34m:\u001b[0m\u001b[0;34m\u001b[0m\u001b[0;34m\u001b[0m\u001b[0m\n\u001b[0;32m--> 459\u001b[0;31m             return self.rest_client.POST(url,\n\u001b[0m\u001b[1;32m    460\u001b[0m                                          \u001b[0mquery_params\u001b[0m\u001b[0;34m=\u001b[0m\u001b[0mquery_params\u001b[0m\u001b[0;34m,\u001b[0m\u001b[0;34m\u001b[0m\u001b[0;34m\u001b[0m\u001b[0m\n\u001b[1;32m    461\u001b[0m                                          \u001b[0mheaders\u001b[0m\u001b[0;34m=\u001b[0m\u001b[0mheaders\u001b[0m\u001b[0;34m,\u001b[0m\u001b[0;34m\u001b[0m\u001b[0;34m\u001b[0m\u001b[0m\n",
            "\u001b[0;32m/usr/local/lib/python3.10/dist-packages/pinecone/core/client/rest.py\u001b[0m in \u001b[0;36mPOST\u001b[0;34m(self, url, headers, query_params, post_params, body, _preload_content, _request_timeout)\u001b[0m\n\u001b[1;32m    269\u001b[0m     def POST(self, url, headers=None, query_params=None, post_params=None,\n\u001b[1;32m    270\u001b[0m              body=None, _preload_content=True, _request_timeout=None):\n\u001b[0;32m--> 271\u001b[0;31m         return self.request(\"POST\", url,\n\u001b[0m\u001b[1;32m    272\u001b[0m                             \u001b[0mheaders\u001b[0m\u001b[0;34m=\u001b[0m\u001b[0mheaders\u001b[0m\u001b[0;34m,\u001b[0m\u001b[0;34m\u001b[0m\u001b[0;34m\u001b[0m\u001b[0m\n\u001b[1;32m    273\u001b[0m                             \u001b[0mquery_params\u001b[0m\u001b[0;34m=\u001b[0m\u001b[0mquery_params\u001b[0m\u001b[0;34m,\u001b[0m\u001b[0;34m\u001b[0m\u001b[0;34m\u001b[0m\u001b[0m\n",
            "\u001b[0;32m/usr/local/lib/python3.10/dist-packages/pinecone/core/client/rest.py\u001b[0m in \u001b[0;36mrequest\u001b[0;34m(self, method, url, query_params, headers, body, post_params, _preload_content, _request_timeout)\u001b[0m\n\u001b[1;32m    228\u001b[0m                 \u001b[0;32mraise\u001b[0m \u001b[0mServiceException\u001b[0m\u001b[0;34m(\u001b[0m\u001b[0mhttp_resp\u001b[0m\u001b[0;34m=\u001b[0m\u001b[0mr\u001b[0m\u001b[0;34m)\u001b[0m\u001b[0;34m\u001b[0m\u001b[0;34m\u001b[0m\u001b[0m\n\u001b[1;32m    229\u001b[0m \u001b[0;34m\u001b[0m\u001b[0m\n\u001b[0;32m--> 230\u001b[0;31m             \u001b[0;32mraise\u001b[0m \u001b[0mApiException\u001b[0m\u001b[0;34m(\u001b[0m\u001b[0mhttp_resp\u001b[0m\u001b[0;34m=\u001b[0m\u001b[0mr\u001b[0m\u001b[0;34m)\u001b[0m\u001b[0;34m\u001b[0m\u001b[0;34m\u001b[0m\u001b[0m\n\u001b[0m\u001b[1;32m    231\u001b[0m \u001b[0;34m\u001b[0m\u001b[0m\n\u001b[1;32m    232\u001b[0m         \u001b[0;32mreturn\u001b[0m \u001b[0mr\u001b[0m\u001b[0;34m\u001b[0m\u001b[0;34m\u001b[0m\u001b[0m\n",
            "\u001b[0;31mApiException\u001b[0m: (400)\nReason: Bad Request\nHTTP response headers: HTTPHeaderDict({'content-type': 'application/json', 'Content-Length': '134', 'date': 'Mon, 25 Sep 2023 00:27:05 GMT', 'x-envoy-upstream-service-time': '15', 'server': 'envoy', 'Via': '1.1 google', 'Alt-Svc': 'h3=\":443\"; ma=2592000,h3-29=\":443\"; ma=2592000'})\nHTTP response body: {\"code\":9,\"message\":\"Starter index record limit reached. Current number: 100391, records in request: 100, limit: 100000\",\"details\":[]}\n"
          ]
        }
      ]
    },
    {
      "cell_type": "code",
      "source": [
        "index.describe_index_stats()"
      ],
      "metadata": {
        "id": "S0EtwnXSOD9x"
      },
      "execution_count": null,
      "outputs": []
    },
    {
      "cell_type": "code",
      "source": [
        "print(\"Pinecone version:\", pinecone.__version__)"
      ],
      "metadata": {
        "id": "qxvv3NHCeQgF"
      },
      "execution_count": null,
      "outputs": []
    },
    {
      "cell_type": "markdown",
      "source": [
        "**Query**\n",
        "\n",
        "query vector"
      ],
      "metadata": {
        "id": "ycAAxQVOd8K6"
      }
    },
    {
      "cell_type": "code",
      "source": [
        "query = \"which quora queries are good??\"\n",
        "xq = model.encode([query]).tolist()"
      ],
      "metadata": {
        "id": "g9yLXJRUbP9H"
      },
      "execution_count": null,
      "outputs": []
    },
    {
      "cell_type": "code",
      "source": [
        "result = index.query(xq, top_k=5)\n",
        "print(result)"
      ],
      "metadata": {
        "id": "SPx5tC5Kpz5-"
      },
      "execution_count": null,
      "outputs": []
    },
    {
      "cell_type": "code",
      "source": [
        "result1 = {'results': [result]}\n",
        "print(result1)"
      ],
      "metadata": {
        "id": "CMKw7Lih70Fb"
      },
      "execution_count": null,
      "outputs": []
    },
    {
      "cell_type": "code",
      "source": [
        "result1['results'][0]['matches']"
      ],
      "metadata": {
        "id": "tl9u4renND4u"
      },
      "execution_count": null,
      "outputs": []
    },
    {
      "cell_type": "code",
      "source": [
        "# results related to query vector\n",
        "for item in result1['results'][0]['matches']:\n",
        "  print(item.id)"
      ],
      "metadata": {
        "id": "mXgVLD6ppz9B"
      },
      "execution_count": null,
      "outputs": []
    },
    {
      "cell_type": "code",
      "source": [
        "id2text[0][28712]"
      ],
      "metadata": {
        "id": "lNJseT7OhhEv"
      },
      "execution_count": null,
      "outputs": []
    },
    {
      "cell_type": "code",
      "source": [
        "id2text[0][34002]"
      ],
      "metadata": {
        "id": "KuzIi44xipdo"
      },
      "execution_count": null,
      "outputs": []
    },
    {
      "cell_type": "markdown",
      "source": [
        "**Using Keyword**"
      ],
      "metadata": {
        "id": "rhhbT0zWrcUU"
      }
    },
    {
      "cell_type": "code",
      "source": [
        "#example embedding\n",
        "text  = \"what's one thing you do despite knowing better?\""
      ],
      "metadata": {
        "id": "s_xs3nbxp0A_"
      },
      "execution_count": null,
      "outputs": []
    },
    {
      "cell_type": "code",
      "source": [
        "!pip install sacremoses #TransfoXLTokenizer requires the sacremoses library"
      ],
      "metadata": {
        "id": "uKyMTMvKC6b_"
      },
      "execution_count": null,
      "outputs": []
    },
    {
      "cell_type": "code",
      "source": [
        "#tokenizer\n",
        "from transformers import AutoTokenizer\n",
        "tokenizer = AutoTokenizer.from_pretrained('transfo-xl-wt103')"
      ],
      "metadata": {
        "id": "BWMC9HXAp0Dy"
      },
      "execution_count": null,
      "outputs": []
    },
    {
      "cell_type": "code",
      "source": [
        "#example tokenization\n",
        "tokens= tokenizer.tokenize(text.lower())\n",
        "print(tokens)"
      ],
      "metadata": {
        "id": "05qgQKRJroGb"
      },
      "execution_count": null,
      "outputs": []
    },
    {
      "cell_type": "code",
      "source": [
        "#organize into vectors\n",
        "id = \"vec63\"\n",
        "values = model.encode(text).tolist()\n",
        "\n",
        "#passing tokens as metadata\n",
        "\n",
        "metadata = {\n",
        "    'is_duplicate':False,\n",
        "    'char_length': len(text),\n",
        "    'tokens': tokenizer.tokenize(text.lower()),\n",
        "}\n",
        "\n",
        "vextor =(id, values, metadata)\n",
        "print(vector)"
      ],
      "metadata": {
        "id": "mySwuVLQroJn"
      },
      "execution_count": null,
      "outputs": []
    },
    {
      "cell_type": "code",
      "source": [
        "print(\"Pinecone version:\", pinecone.__version__)"
      ],
      "metadata": {
        "id": "cwc10yFBTCKQ"
      },
      "execution_count": null,
      "outputs": []
    },
    {
      "cell_type": "markdown",
      "source": [
        "**Applying Keyword Filtering**"
      ],
      "metadata": {
        "id": "CHLq5C3KtKW6"
      }
    },
    {
      "cell_type": "code",
      "source": [
        "query = \"how to ask a good questions?\"\n",
        "xq = model.encode([query]).tolist()\n",
        "\n",
        "result = index.query(xq, top_k=10, filter={'tokens':{\n",
        "    '$in':['reddit']\n",
        "}})\n"
      ],
      "metadata": {
        "id": "kxExqrWyroMu"
      },
      "execution_count": null,
      "outputs": []
    },
    {
      "cell_type": "code",
      "source": [
        "result2 = {'results': [result]}\n",
        "print(result2)"
      ],
      "metadata": {
        "id": "cAVdnowpjR67"
      },
      "execution_count": null,
      "outputs": []
    },
    {
      "cell_type": "code",
      "source": [
        "result2 = {'results': [result]}\n",
        "print(result2)\n",
        "#question with reddit keyword in them\n",
        "for item in result2['results'][0]['matches']:\n",
        "  print(item.id)"
      ],
      "metadata": {
        "id": "BA7MClY_jAIw"
      },
      "execution_count": null,
      "outputs": []
    },
    {
      "cell_type": "code",
      "source": [
        "query = \"how to ask a good question??\"\n",
        "\n",
        "xq = model.encode([query]).tolist()\n",
        "\n",
        "result = index.query(xq, top_k=10, filter={'$and':[\n",
        "                                           {'tokens':{'$in':[\"reddit\"]}},\n",
        "                                           {'is_duplicate':{'$eq':0 }}\n",
        "                                           ]})\n",
        "\n"
      ],
      "metadata": {
        "id": "daFBiMS6ro9s"
      },
      "execution_count": null,
      "outputs": []
    },
    {
      "cell_type": "code",
      "source": [
        "result2 = {'results': [result]}\n",
        "print(result2)\n",
        "#question with reddit keyword in them\n",
        "for item in result2['results'][0]['matches']:\n",
        "  print(item.id)"
      ],
      "metadata": {
        "id": "13_cipD1khnJ"
      },
      "execution_count": null,
      "outputs": []
    },
    {
      "cell_type": "code",
      "source": [],
      "metadata": {
        "id": "avfJi8POrpAf"
      },
      "execution_count": null,
      "outputs": []
    },
    {
      "cell_type": "code",
      "source": [
        "qquery = \"can u teach a python how to code in python?\"\n",
        "xq = model.encode([qquery]).tolist()\n",
        "\n",
        "result = index.query(xq, top_k =5)\n",
        "'''\n",
        "for item in result['results'][0]['matches']:\n",
        "  print(id2text[item.id])\n",
        "'''"
      ],
      "metadata": {
        "id": "6k04EwcS0DGA"
      },
      "execution_count": null,
      "outputs": []
    },
    {
      "cell_type": "code",
      "source": [
        "result2 = {'results': [result]}\n",
        "print(result2)\n",
        "#question with reddit keyword in them\n",
        "for item in result2['results'][0]['matches']:\n",
        "  print(item.id)"
      ],
      "metadata": {
        "id": "UJFqggCykuBT"
      },
      "execution_count": null,
      "outputs": []
    },
    {
      "cell_type": "code",
      "source": [
        "query = \"can u teach a snake to program code in python?\"\n",
        "xq = model.encode([query]).tolist()\n",
        "\n",
        "toks = tokenizer.tokenize(query.lower())\n",
        "print(toks)"
      ],
      "metadata": {
        "id": "69gpEARh0DJ6"
      },
      "execution_count": null,
      "outputs": []
    },
    {
      "cell_type": "code",
      "source": [
        "#find question talk about snakes\n",
        "\n",
        "if 'snake' in toks:\n",
        "  result = index.query(xq, top_k=5, filter={'$and':[\n",
        "      {'token': {'$in':['snakes']}}\n",
        "  ]})\n",
        "\n",
        "else:\n",
        "  result = index.query(xq, top_k=5)\n",
        "  result2 = {'results': [result]}\n",
        "  print(result2)\n",
        "  #question with reddit keyword in them\n",
        "  for item in result2['results'][0]['matches']:\n",
        "    print(item.id)\n"
      ],
      "metadata": {
        "id": "ixCbJ822rpDy"
      },
      "execution_count": null,
      "outputs": []
    },
    {
      "cell_type": "code",
      "source": [
        "print(\"notebook Complete\")"
      ],
      "metadata": {
        "id": "0_umQj5B136R"
      },
      "execution_count": null,
      "outputs": []
    },
    {
      "cell_type": "code",
      "source": [],
      "metadata": {
        "id": "3e0RgE3W13-l"
      },
      "execution_count": null,
      "outputs": []
    }
  ]
}